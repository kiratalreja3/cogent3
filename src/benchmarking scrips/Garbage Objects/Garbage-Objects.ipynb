{
 "cells": [
  {
   "cell_type": "code",
   "execution_count": 2,
   "metadata": {},
   "outputs": [],
   "source": [
    "import gc"
   ]
  },
  {
   "cell_type": "code",
   "execution_count": 3,
   "metadata": {},
   "outputs": [],
   "source": [
    "def new_approach():\n",
    "    from memory_profiler import profile\n",
    "    from cogent3.core.annotation import GffAnnotationDb\n",
    "    from cogent3 import load_unaligned_seqs\n",
    "\n",
    "    gff_path = '/Users/kiratalreja/Downloads/Homo_sapiens.GRCh38.108.chromosome.1.gff3'\n",
    "    db = GffAnnotationDb(gff_path)\n",
    "\n",
    "\n",
    "    fasta_path = \"/Users/kiratalreja/Downloads/Homo_sapiens.GRCh38.dna.chromosome.1.fa\"\n",
    "    seqs = load_unaligned_seqs(fasta_path,moltype='dna')\n",
    "    seq = seqs.seqs[0]\n",
    "    seq.name = \"1\"\n",
    "\n",
    "    seq.annotate_from_db(db,bio_type=\"gene\")\n",
    "    seq.get_annotations_matching(\"gene\")"
   ]
  },
  {
   "cell_type": "code",
   "execution_count": 1,
   "metadata": {},
   "outputs": [],
   "source": [
    "def old_approach():\n",
    "    from memory_profiler import profile\n",
    "    from cogent3 import load_unaligned_seqs\n",
    "    from cogent3.parse.gff import gff_parser\n",
    "    def fix_gff(gff):\n",
    "        return [r for r in gff if r[\"Attributes\"]['ID']]\n",
    "\n",
    "    fasta_path = \"/Users/kiratalreja/Downloads/Homo_sapiens.GRCh38.dna.chromosome.1.fa\"\n",
    "    gff3_path = \"/Users/kiratalreja/Downloads/Homo_sapiens.GRCh38.108.chromosome.1.gff3\"\n",
    "\n",
    "    gff= list(gff_parser(gff3_path))\n",
    "    gff = fix_gff(gff)\n",
    "\n",
    "    seqs = load_unaligned_seqs(fasta_path,moltype='dna')\n",
    "\n",
    "    seq = seqs.seqs[0]\n",
    "    seq.name = \"1\"\n",
    "\n",
    "    seq.annotate_from_gff(gff, pre_parsed=True)\n",
    "    seq.get_annotations_matching(\"gene\")"
   ]
  },
  {
   "cell_type": "code",
   "execution_count": 7,
   "metadata": {},
   "outputs": [
    {
     "name": "stdout",
     "output_type": "stream",
     "text": [
      "324033\n"
     ]
    }
   ],
   "source": [
    "new_approach()\n",
    "print(len(gc.get_objects()))"
   ]
  },
  {
   "cell_type": "code",
   "execution_count": 2,
   "metadata": {},
   "outputs": [
    {
     "ename": "NameError",
     "evalue": "name 'gc' is not defined",
     "output_type": "error",
     "traceback": [
      "\u001b[0;31m---------------------------------------------------------------------------\u001b[0m",
      "\u001b[0;31mNameError\u001b[0m                                 Traceback (most recent call last)",
      "\u001b[1;32m/Users/kiratalreja/repos/Cogent3/src/benchmarking scrips/Garbage Objects/Garbage-Objects.ipynb Cell 5\u001b[0m in \u001b[0;36m<cell line: 2>\u001b[0;34m()\u001b[0m\n\u001b[1;32m      <a href='vscode-notebook-cell:/Users/kiratalreja/repos/Cogent3/src/benchmarking%20scrips/Garbage%20Objects/Garbage-Objects.ipynb#W4sZmlsZQ%3D%3D?line=0'>1</a>\u001b[0m old_approach()\n\u001b[0;32m----> <a href='vscode-notebook-cell:/Users/kiratalreja/repos/Cogent3/src/benchmarking%20scrips/Garbage%20Objects/Garbage-Objects.ipynb#W4sZmlsZQ%3D%3D?line=1'>2</a>\u001b[0m \u001b[39mprint\u001b[39m(\u001b[39mlen\u001b[39m(gc\u001b[39m.\u001b[39mget_objects()))\n",
      "\u001b[0;31mNameError\u001b[0m: name 'gc' is not defined"
     ]
    }
   ],
   "source": [
    "old_approach()\n",
    "print(len(gc.get_objects()))"
   ]
  }
 ],
 "metadata": {
  "kernelspec": {
   "display_name": "Python 3.10.0 ('c310dev')",
   "language": "python",
   "name": "python3"
  },
  "language_info": {
   "codemirror_mode": {
    "name": "ipython",
    "version": 3
   },
   "file_extension": ".py",
   "mimetype": "text/x-python",
   "name": "python",
   "nbconvert_exporter": "python",
   "pygments_lexer": "ipython3",
   "version": "3.10.0"
  },
  "orig_nbformat": 4,
  "vscode": {
   "interpreter": {
    "hash": "cdab2fb02dc4d68ed9e9d327e285305822cd116f79900361a665d6985eb56184"
   }
  }
 },
 "nbformat": 4,
 "nbformat_minor": 2
}
