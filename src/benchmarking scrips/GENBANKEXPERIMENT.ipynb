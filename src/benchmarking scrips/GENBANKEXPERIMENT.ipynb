{
 "cells": [
  {
   "cell_type": "code",
   "execution_count": 15,
   "metadata": {},
   "outputs": [],
   "source": [
    "genbank_path = \"/Users/kiratalreja/Downloads/NC_000913.3.gb\""
   ]
  },
  {
   "cell_type": "code",
   "execution_count": 16,
   "metadata": {},
   "outputs": [],
   "source": [
    "from cogent3.parse.genbank import RichGenbankParser\n",
    "from cogent3 import open_"
   ]
  },
  {
   "cell_type": "code",
   "execution_count": 20,
   "metadata": {},
   "outputs": [],
   "source": [
    "from cogent3.core.annotation import Feature\n",
    "def add_annotation(seq, feature, spans):\n",
    "    if feature[\"type\"] != \"CDS\":\n",
    "        return\n",
    "    name = feature[\"locus_tag\"][0]\n",
    "    seq.add_annotation(Feature, \"CDS\", name, spans)"
   ]
  },
  {
   "cell_type": "code",
   "execution_count": 21,
   "metadata": {},
   "outputs": [],
   "source": [
    "infile = open(genbank_path)\n",
    "parser = RichGenbankParser(infile,add_annotation=add_annotation)\n",
    "\n"
   ]
  },
  {
   "cell_type": "code",
   "execution_count": 23,
   "metadata": {},
   "outputs": [
    {
     "data": {
      "text/plain": [
       "<generator object RichGenbankParser at 0x7fa489a7f990>"
      ]
     },
     "execution_count": 23,
     "metadata": {},
     "output_type": "execute_result"
    }
   ],
   "source": []
  }
 ],
 "metadata": {
  "kernelspec": {
   "display_name": "Python 3.10.0 ('c310dev')",
   "language": "python",
   "name": "python3"
  },
  "language_info": {
   "codemirror_mode": {
    "name": "ipython",
    "version": 3
   },
   "file_extension": ".py",
   "mimetype": "text/x-python",
   "name": "python",
   "nbconvert_exporter": "python",
   "pygments_lexer": "ipython3",
   "version": "3.10.0"
  },
  "orig_nbformat": 4,
  "vscode": {
   "interpreter": {
    "hash": "cdab2fb02dc4d68ed9e9d327e285305822cd116f79900361a665d6985eb56184"
   }
  }
 },
 "nbformat": 4,
 "nbformat_minor": 2
}
