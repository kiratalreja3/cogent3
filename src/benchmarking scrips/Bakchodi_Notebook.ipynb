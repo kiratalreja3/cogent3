{
 "cells": [
  {
   "cell_type": "code",
   "execution_count": 2,
   "metadata": {},
   "outputs": [],
   "source": [
    "from cogent3 import DNA\n",
    "from cogent3.core.annotation import Feature\n",
    "example_seq = DNA.make_seq(\"CGAAACGTTTAGAGTGGGGG\", name=\"seq1\")"
   ]
  },
  {
   "cell_type": "code",
   "execution_count": 1,
   "metadata": {},
   "outputs": [
    {
     "ename": "KeyboardInterrupt",
     "evalue": "",
     "output_type": "error",
     "traceback": [
      "\u001b[0;31m---------------------------------------------------------------------------\u001b[0m",
      "\u001b[0;31mKeyboardInterrupt\u001b[0m                         Traceback (most recent call last)",
      "\u001b[1;32m/Users/kiratalreja/repos/Cogent3/src/benchmarking scrips/Bakchodi_Notebook.ipynb Cell 2\u001b[0m in \u001b[0;36m<cell line: 3>\u001b[0;34m()\u001b[0m\n\u001b[1;32m      <a href='vscode-notebook-cell:/Users/kiratalreja/repos/Cogent3/src/benchmarking%20scrips/Bakchodi_Notebook.ipynb#X42sZmlsZQ%3D%3D?line=0'>1</a>\u001b[0m \u001b[39mfrom\u001b[39;00m \u001b[39mcogent3\u001b[39;00m \u001b[39mimport\u001b[39;00m load_unaligned_seqs\n\u001b[1;32m      <a href='vscode-notebook-cell:/Users/kiratalreja/repos/Cogent3/src/benchmarking%20scrips/Bakchodi_Notebook.ipynb#X42sZmlsZQ%3D%3D?line=1'>2</a>\u001b[0m genbank_path \u001b[39m=\u001b[39m \u001b[39m\"\u001b[39m\u001b[39m/Users/kiratalreja/Downloads/NC_000913.3.gb\u001b[39m\u001b[39m\"\u001b[39m\n\u001b[0;32m----> <a href='vscode-notebook-cell:/Users/kiratalreja/repos/Cogent3/src/benchmarking%20scrips/Bakchodi_Notebook.ipynb#X42sZmlsZQ%3D%3D?line=2'>3</a>\u001b[0m seqs \u001b[39m=\u001b[39m load_unaligned_seqs(genbank_path, moltype\u001b[39m=\u001b[39;49m\u001b[39m\"\u001b[39;49m\u001b[39mdna\u001b[39;49m\u001b[39m\"\u001b[39;49m)\n\u001b[1;32m      <a href='vscode-notebook-cell:/Users/kiratalreja/repos/Cogent3/src/benchmarking%20scrips/Bakchodi_Notebook.ipynb#X42sZmlsZQ%3D%3D?line=3'>4</a>\u001b[0m seq \u001b[39m=\u001b[39m seqs\u001b[39m.\u001b[39mseqs[\u001b[39m0\u001b[39m]\n",
      "File \u001b[0;32m~/opt/anaconda3/envs/c310dev/lib/python3.10/site-packages/cogent3/__init__.py:328\u001b[0m, in \u001b[0;36mload_unaligned_seqs\u001b[0;34m(filename, format, moltype, label_to_name, parser_kw, info, **kw)\u001b[0m\n\u001b[1;32m    325\u001b[0m     \u001b[39mreturn\u001b[39;00m load_from_json(filename, (SequenceCollection,))\n\u001b[1;32m    327\u001b[0m data \u001b[39m=\u001b[39m _load_seqs(file_format, filename, \u001b[39mformat\u001b[39m, kw, parser_kw)\n\u001b[0;32m--> 328\u001b[0m \u001b[39mreturn\u001b[39;00m make_unaligned_seqs(\n\u001b[1;32m    329\u001b[0m     data,\n\u001b[1;32m    330\u001b[0m     label_to_name\u001b[39m=\u001b[39;49mlabel_to_name,\n\u001b[1;32m    331\u001b[0m     moltype\u001b[39m=\u001b[39;49mmoltype,\n\u001b[1;32m    332\u001b[0m     source\u001b[39m=\u001b[39;49mfilename,\n\u001b[1;32m    333\u001b[0m     info\u001b[39m=\u001b[39;49minfo,\n\u001b[1;32m    334\u001b[0m     \u001b[39m*\u001b[39;49m\u001b[39m*\u001b[39;49mkw,\n\u001b[1;32m    335\u001b[0m )\n",
      "File \u001b[0;32m~/opt/anaconda3/envs/c310dev/lib/python3.10/site-packages/cogent3/__init__.py:171\u001b[0m, in \u001b[0;36mmake_unaligned_seqs\u001b[0;34m(data, moltype, label_to_name, info, source, **kw)\u001b[0m\n\u001b[1;32m    149\u001b[0m \u001b[39mdef\u001b[39;00m \u001b[39mmake_unaligned_seqs\u001b[39m(\n\u001b[1;32m    150\u001b[0m     data, moltype\u001b[39m=\u001b[39m\u001b[39mNone\u001b[39;00m, label_to_name\u001b[39m=\u001b[39m\u001b[39mNone\u001b[39;00m, info\u001b[39m=\u001b[39m\u001b[39mNone\u001b[39;00m, source\u001b[39m=\u001b[39m\u001b[39mNone\u001b[39;00m, \u001b[39m*\u001b[39m\u001b[39m*\u001b[39mkw\n\u001b[1;32m    151\u001b[0m ):\n\u001b[1;32m    152\u001b[0m     \u001b[39m\"\"\"Initialize an unaligned collection of sequences.\u001b[39;00m\n\u001b[1;32m    153\u001b[0m \n\u001b[1;32m    154\u001b[0m \u001b[39m    Parameters\u001b[39;00m\n\u001b[0;32m   (...)\u001b[0m\n\u001b[1;32m    168\u001b[0m \u001b[39m        other keyword arguments passed to SequenceCollection\u001b[39;00m\n\u001b[1;32m    169\u001b[0m \u001b[39m    \"\"\"\u001b[39;00m\n\u001b[0;32m--> 171\u001b[0m     \u001b[39mreturn\u001b[39;00m _make_seq_container(\n\u001b[1;32m    172\u001b[0m         SequenceCollection,\n\u001b[1;32m    173\u001b[0m         data,\n\u001b[1;32m    174\u001b[0m         moltype\u001b[39m=\u001b[39;49mmoltype,\n\u001b[1;32m    175\u001b[0m         label_to_name\u001b[39m=\u001b[39;49mlabel_to_name,\n\u001b[1;32m    176\u001b[0m         info\u001b[39m=\u001b[39;49minfo,\n\u001b[1;32m    177\u001b[0m         source\u001b[39m=\u001b[39;49msource,\n\u001b[1;32m    178\u001b[0m         \u001b[39m*\u001b[39;49m\u001b[39m*\u001b[39;49mkw,\n\u001b[1;32m    179\u001b[0m     )\n",
      "File \u001b[0;32m~/opt/anaconda3/envs/c310dev/lib/python3.10/site-packages/cogent3/__init__.py:144\u001b[0m, in \u001b[0;36m_make_seq_container\u001b[0;34m(klass, data, moltype, label_to_name, info, source, **kw)\u001b[0m\n\u001b[1;32m    141\u001b[0m source \u001b[39m=\u001b[39m source \u001b[39mor\u001b[39;00m info\u001b[39m.\u001b[39mget(\u001b[39m\"\u001b[39m\u001b[39msource\u001b[39m\u001b[39m\"\u001b[39m, \u001b[39m\"\u001b[39m\u001b[39munknown\u001b[39m\u001b[39m\"\u001b[39m)\n\u001b[1;32m    142\u001b[0m info[\u001b[39m\"\u001b[39m\u001b[39msource\u001b[39m\u001b[39m\"\u001b[39m] \u001b[39m=\u001b[39m \u001b[39mstr\u001b[39m(source)\n\u001b[0;32m--> 144\u001b[0m \u001b[39mreturn\u001b[39;00m klass(\n\u001b[1;32m    145\u001b[0m     data\u001b[39m=\u001b[39;49mdata, moltype\u001b[39m=\u001b[39;49mmoltype, label_to_name\u001b[39m=\u001b[39;49mlabel_to_name, info\u001b[39m=\u001b[39;49minfo, \u001b[39m*\u001b[39;49m\u001b[39m*\u001b[39;49mkw\n\u001b[1;32m    146\u001b[0m )\n",
      "File \u001b[0;32m~/opt/anaconda3/envs/c310dev/lib/python3.10/site-packages/cogent3/core/alignment.py:477\u001b[0m, in \u001b[0;36m_SequenceCollectionBase.__init__\u001b[0;34m(self, data, names, alphabet, moltype, name, info, conversion_f, is_array, force_same_data, remove_duplicate_names, label_to_name, suppress_named_seqs)\u001b[0m\n\u001b[1;32m    474\u001b[0m         curr_seqs \u001b[39m=\u001b[39m data\n\u001b[1;32m    475\u001b[0m \u001b[39m# otherwise, figure out what we got and coerce it into the right type\u001b[39;00m\n\u001b[1;32m    476\u001b[0m \u001b[39melse\u001b[39;00m:\n\u001b[0;32m--> 477\u001b[0m     per_seq_names, curr_seqs, name_order \u001b[39m=\u001b[39m \u001b[39mself\u001b[39;49m\u001b[39m.\u001b[39;49m_names_seqs_order(\n\u001b[1;32m    478\u001b[0m         conversion_f,\n\u001b[1;32m    479\u001b[0m         data,\n\u001b[1;32m    480\u001b[0m         names,\n\u001b[1;32m    481\u001b[0m         is_array,\n\u001b[1;32m    482\u001b[0m         label_to_name,\n\u001b[1;32m    483\u001b[0m         remove_duplicate_names,\n\u001b[1;32m    484\u001b[0m         alphabet\u001b[39m=\u001b[39;49m\u001b[39mself\u001b[39;49m\u001b[39m.\u001b[39;49malphabet,\n\u001b[1;32m    485\u001b[0m     )\n\u001b[1;32m    486\u001b[0m     \u001b[39mself\u001b[39m\u001b[39m.\u001b[39mnames \u001b[39m=\u001b[39m \u001b[39mlist\u001b[39m(name_order)\n\u001b[1;32m    488\u001b[0m     \u001b[39m# will take only the seqs and names that are in name_order\u001b[39;00m\n",
      "File \u001b[0;32m~/opt/anaconda3/envs/c310dev/lib/python3.10/site-packages/cogent3/core/alignment.py:644\u001b[0m, in \u001b[0;36m_SequenceCollectionBase._names_seqs_order\u001b[0;34m(self, conversion_f, data, name_order, is_array, label_to_name, remove_duplicate_names, alphabet)\u001b[0m\n\u001b[1;32m    642\u001b[0m \u001b[39mif\u001b[39;00m names \u001b[39mand\u001b[39;00m label_to_name:\n\u001b[1;32m    643\u001b[0m     names \u001b[39m=\u001b[39m \u001b[39mlist\u001b[39m(\u001b[39mmap\u001b[39m(label_to_name, names))\n\u001b[0;32m--> 644\u001b[0m curr_seqs \u001b[39m=\u001b[39m \u001b[39mself\u001b[39;49m\u001b[39m.\u001b[39;49m_coerce_seqs(seqs, is_array)\n\u001b[1;32m    646\u001b[0m \u001b[39m# if no names were passed in as Names, if we obtained them from\u001b[39;00m\n\u001b[1;32m    647\u001b[0m \u001b[39m# the seqs we should use them, but otherwise we should use the\u001b[39;00m\n\u001b[1;32m    648\u001b[0m \u001b[39m# default names\u001b[39;00m\n\u001b[1;32m    649\u001b[0m \u001b[39mif\u001b[39;00m name_order \u001b[39mis\u001b[39;00m \u001b[39mNone\u001b[39;00m:\n",
      "File \u001b[0;32m~/opt/anaconda3/envs/c310dev/lib/python3.10/site-packages/cogent3/core/alignment.py:691\u001b[0m, in \u001b[0;36m_SequenceCollectionBase._coerce_seqs\u001b[0;34m(self, seqs, is_array)\u001b[0m\n\u001b[1;32m    689\u001b[0m \u001b[39mif\u001b[39;00m is_array:\n\u001b[1;32m    690\u001b[0m     seqs \u001b[39m=\u001b[39m \u001b[39mlist\u001b[39m(\u001b[39mmap\u001b[39m(\u001b[39mstr\u001b[39m, \u001b[39mlist\u001b[39m(\u001b[39mmap\u001b[39m(\u001b[39mself\u001b[39m\u001b[39m.\u001b[39mmoltype\u001b[39m.\u001b[39mmake_array_seq, seqs))))\n\u001b[0;32m--> 691\u001b[0m \u001b[39mreturn\u001b[39;00m \u001b[39mlist\u001b[39;49m(\u001b[39mmap\u001b[39;49m(\u001b[39mself\u001b[39;49m\u001b[39m.\u001b[39;49mmoltype\u001b[39m.\u001b[39;49mmake_seq, seqs))\n",
      "File \u001b[0;32m~/opt/anaconda3/envs/c310dev/lib/python3.10/site-packages/cogent3/core/moltype.py:754\u001b[0m, in \u001b[0;36mMolType.make_seq\u001b[0;34m(self, seq, name, **kwargs)\u001b[0m\n\u001b[1;32m    752\u001b[0m \u001b[39mdef\u001b[39;00m \u001b[39mmake_seq\u001b[39m(\u001b[39mself\u001b[39m, seq, name\u001b[39m=\u001b[39m\u001b[39mNone\u001b[39;00m, \u001b[39m*\u001b[39m\u001b[39m*\u001b[39mkwargs):\n\u001b[1;32m    753\u001b[0m     \u001b[39m\"\"\"Returns sequence of correct type.\"\"\"\u001b[39;00m\n\u001b[0;32m--> 754\u001b[0m     \u001b[39mreturn\u001b[39;00m \u001b[39mself\u001b[39;49m\u001b[39m.\u001b[39;49m_make_seq(seq, name, \u001b[39m*\u001b[39;49m\u001b[39m*\u001b[39;49mkwargs)\n",
      "File \u001b[0;32m~/opt/anaconda3/envs/c310dev/lib/python3.10/site-packages/cogent3/core/sequence.py:842\u001b[0m, in \u001b[0;36mSequence.__init__\u001b[0;34m(self, seq, name, info, check, preserve_case, gaps_allowed, wildcards_allowed)\u001b[0m\n\u001b[1;32m    840\u001b[0m \u001b[39mif\u001b[39;00m \u001b[39misinstance\u001b[39m(orig_seq, _Annotatable):\n\u001b[1;32m    841\u001b[0m     \u001b[39mfor\u001b[39;00m ann \u001b[39min\u001b[39;00m orig_seq\u001b[39m.\u001b[39mannotations:\n\u001b[0;32m--> 842\u001b[0m         ann\u001b[39m.\u001b[39;49mcopy_annotations_to(\u001b[39mself\u001b[39;49m)\n\u001b[1;32m    844\u001b[0m \u001b[39mself\u001b[39m\u001b[39m.\u001b[39m_repr_policy \u001b[39m=\u001b[39m \u001b[39mdict\u001b[39m(num_pos\u001b[39m=\u001b[39m\u001b[39m60\u001b[39m)\n",
      "File \u001b[0;32m~/opt/anaconda3/envs/c310dev/lib/python3.10/site-packages/cogent3/core/annotation.py:412\u001b[0m, in \u001b[0;36m_Feature.copy_annotations_to\u001b[0;34m(self, annotatable)\u001b[0m\n\u001b[1;32m    400\u001b[0m \u001b[39m\"\"\"copies annotations to another annotatable object\u001b[39;00m\n\u001b[1;32m    401\u001b[0m \n\u001b[1;32m    402\u001b[0m \u001b[39mParameters\u001b[39;00m\n\u001b[0;32m   (...)\u001b[0m\n\u001b[1;32m    409\u001b[0m \u001b[39mthe processed annotatable object\u001b[39;00m\n\u001b[1;32m    410\u001b[0m \u001b[39m\"\"\"\u001b[39;00m\n\u001b[1;32m    411\u001b[0m \u001b[39massert\u001b[39;00m \u001b[39mlen\u001b[39m(annotatable) \u001b[39m==\u001b[39m \u001b[39mlen\u001b[39m(\u001b[39mself\u001b[39m\u001b[39m.\u001b[39mparent)\n\u001b[0;32m--> 412\u001b[0m serialisable \u001b[39m=\u001b[39m copy\u001b[39m.\u001b[39;49mdeepcopy(\u001b[39mself\u001b[39;49m\u001b[39m.\u001b[39;49m_serialisable)\n\u001b[1;32m    413\u001b[0m serialisable[\u001b[39m\"\u001b[39m\u001b[39mparent\u001b[39m\u001b[39m\"\u001b[39m] \u001b[39m=\u001b[39m annotatable\n\u001b[1;32m    414\u001b[0m new \u001b[39m=\u001b[39m \u001b[39mself\u001b[39m\u001b[39m.\u001b[39m\u001b[39m__class__\u001b[39m(\u001b[39m*\u001b[39m\u001b[39m*\u001b[39mserialisable)\n",
      "File \u001b[0;32m~/opt/anaconda3/envs/c310dev/lib/python3.10/copy.py:146\u001b[0m, in \u001b[0;36mdeepcopy\u001b[0;34m(x, memo, _nil)\u001b[0m\n\u001b[1;32m    144\u001b[0m copier \u001b[39m=\u001b[39m _deepcopy_dispatch\u001b[39m.\u001b[39mget(\u001b[39mcls\u001b[39m)\n\u001b[1;32m    145\u001b[0m \u001b[39mif\u001b[39;00m copier \u001b[39mis\u001b[39;00m \u001b[39mnot\u001b[39;00m \u001b[39mNone\u001b[39;00m:\n\u001b[0;32m--> 146\u001b[0m     y \u001b[39m=\u001b[39m copier(x, memo)\n\u001b[1;32m    147\u001b[0m \u001b[39melse\u001b[39;00m:\n\u001b[1;32m    148\u001b[0m     \u001b[39mif\u001b[39;00m \u001b[39missubclass\u001b[39m(\u001b[39mcls\u001b[39m, \u001b[39mtype\u001b[39m):\n",
      "File \u001b[0;32m~/opt/anaconda3/envs/c310dev/lib/python3.10/copy.py:231\u001b[0m, in \u001b[0;36m_deepcopy_dict\u001b[0;34m(x, memo, deepcopy)\u001b[0m\n\u001b[1;32m    229\u001b[0m memo[\u001b[39mid\u001b[39m(x)] \u001b[39m=\u001b[39m y\n\u001b[1;32m    230\u001b[0m \u001b[39mfor\u001b[39;00m key, value \u001b[39min\u001b[39;00m x\u001b[39m.\u001b[39mitems():\n\u001b[0;32m--> 231\u001b[0m     y[deepcopy(key, memo)] \u001b[39m=\u001b[39m deepcopy(value, memo)\n\u001b[1;32m    232\u001b[0m \u001b[39mreturn\u001b[39;00m y\n",
      "File \u001b[0;32m~/opt/anaconda3/envs/c310dev/lib/python3.10/copy.py:172\u001b[0m, in \u001b[0;36mdeepcopy\u001b[0;34m(x, memo, _nil)\u001b[0m\n\u001b[1;32m    170\u001b[0m                 y \u001b[39m=\u001b[39m x\n\u001b[1;32m    171\u001b[0m             \u001b[39melse\u001b[39;00m:\n\u001b[0;32m--> 172\u001b[0m                 y \u001b[39m=\u001b[39m _reconstruct(x, memo, \u001b[39m*\u001b[39;49mrv)\n\u001b[1;32m    174\u001b[0m \u001b[39m# If is its own copy, don't memoize.\u001b[39;00m\n\u001b[1;32m    175\u001b[0m \u001b[39mif\u001b[39;00m y \u001b[39mis\u001b[39;00m \u001b[39mnot\u001b[39;00m x:\n",
      "File \u001b[0;32m~/opt/anaconda3/envs/c310dev/lib/python3.10/copy.py:271\u001b[0m, in \u001b[0;36m_reconstruct\u001b[0;34m(x, memo, func, args, state, listiter, dictiter, deepcopy)\u001b[0m\n\u001b[1;32m    269\u001b[0m \u001b[39mif\u001b[39;00m state \u001b[39mis\u001b[39;00m \u001b[39mnot\u001b[39;00m \u001b[39mNone\u001b[39;00m:\n\u001b[1;32m    270\u001b[0m     \u001b[39mif\u001b[39;00m deep:\n\u001b[0;32m--> 271\u001b[0m         state \u001b[39m=\u001b[39m deepcopy(state, memo)\n\u001b[1;32m    272\u001b[0m     \u001b[39mif\u001b[39;00m \u001b[39mhasattr\u001b[39m(y, \u001b[39m'\u001b[39m\u001b[39m__setstate__\u001b[39m\u001b[39m'\u001b[39m):\n\u001b[1;32m    273\u001b[0m         y\u001b[39m.\u001b[39m__setstate__(state)\n",
      "File \u001b[0;32m~/opt/anaconda3/envs/c310dev/lib/python3.10/copy.py:146\u001b[0m, in \u001b[0;36mdeepcopy\u001b[0;34m(x, memo, _nil)\u001b[0m\n\u001b[1;32m    144\u001b[0m copier \u001b[39m=\u001b[39m _deepcopy_dispatch\u001b[39m.\u001b[39mget(\u001b[39mcls\u001b[39m)\n\u001b[1;32m    145\u001b[0m \u001b[39mif\u001b[39;00m copier \u001b[39mis\u001b[39;00m \u001b[39mnot\u001b[39;00m \u001b[39mNone\u001b[39;00m:\n\u001b[0;32m--> 146\u001b[0m     y \u001b[39m=\u001b[39m copier(x, memo)\n\u001b[1;32m    147\u001b[0m \u001b[39melse\u001b[39;00m:\n\u001b[1;32m    148\u001b[0m     \u001b[39mif\u001b[39;00m \u001b[39missubclass\u001b[39m(\u001b[39mcls\u001b[39m, \u001b[39mtype\u001b[39m):\n",
      "File \u001b[0;32m~/opt/anaconda3/envs/c310dev/lib/python3.10/copy.py:231\u001b[0m, in \u001b[0;36m_deepcopy_dict\u001b[0;34m(x, memo, deepcopy)\u001b[0m\n\u001b[1;32m    229\u001b[0m memo[\u001b[39mid\u001b[39m(x)] \u001b[39m=\u001b[39m y\n\u001b[1;32m    230\u001b[0m \u001b[39mfor\u001b[39;00m key, value \u001b[39min\u001b[39;00m x\u001b[39m.\u001b[39mitems():\n\u001b[0;32m--> 231\u001b[0m     y[deepcopy(key, memo)] \u001b[39m=\u001b[39m deepcopy(value, memo)\n\u001b[1;32m    232\u001b[0m \u001b[39mreturn\u001b[39;00m y\n",
      "File \u001b[0;32m~/opt/anaconda3/envs/c310dev/lib/python3.10/copy.py:172\u001b[0m, in \u001b[0;36mdeepcopy\u001b[0;34m(x, memo, _nil)\u001b[0m\n\u001b[1;32m    170\u001b[0m                 y \u001b[39m=\u001b[39m x\n\u001b[1;32m    171\u001b[0m             \u001b[39melse\u001b[39;00m:\n\u001b[0;32m--> 172\u001b[0m                 y \u001b[39m=\u001b[39m _reconstruct(x, memo, \u001b[39m*\u001b[39;49mrv)\n\u001b[1;32m    174\u001b[0m \u001b[39m# If is its own copy, don't memoize.\u001b[39;00m\n\u001b[1;32m    175\u001b[0m \u001b[39mif\u001b[39;00m y \u001b[39mis\u001b[39;00m \u001b[39mnot\u001b[39;00m x:\n",
      "File \u001b[0;32m~/opt/anaconda3/envs/c310dev/lib/python3.10/copy.py:297\u001b[0m, in \u001b[0;36m_reconstruct\u001b[0;34m(x, memo, func, args, state, listiter, dictiter, deepcopy)\u001b[0m\n\u001b[1;32m    295\u001b[0m     \u001b[39mfor\u001b[39;00m key, value \u001b[39min\u001b[39;00m dictiter:\n\u001b[1;32m    296\u001b[0m         key \u001b[39m=\u001b[39m deepcopy(key, memo)\n\u001b[0;32m--> 297\u001b[0m         value \u001b[39m=\u001b[39m deepcopy(value, memo)\n\u001b[1;32m    298\u001b[0m         y[key] \u001b[39m=\u001b[39m value\n\u001b[1;32m    299\u001b[0m \u001b[39melse\u001b[39;00m:\n",
      "File \u001b[0;32m~/opt/anaconda3/envs/c310dev/lib/python3.10/copy.py:146\u001b[0m, in \u001b[0;36mdeepcopy\u001b[0;34m(x, memo, _nil)\u001b[0m\n\u001b[1;32m    144\u001b[0m copier \u001b[39m=\u001b[39m _deepcopy_dispatch\u001b[39m.\u001b[39mget(\u001b[39mcls\u001b[39m)\n\u001b[1;32m    145\u001b[0m \u001b[39mif\u001b[39;00m copier \u001b[39mis\u001b[39;00m \u001b[39mnot\u001b[39;00m \u001b[39mNone\u001b[39;00m:\n\u001b[0;32m--> 146\u001b[0m     y \u001b[39m=\u001b[39m copier(x, memo)\n\u001b[1;32m    147\u001b[0m \u001b[39melse\u001b[39;00m:\n\u001b[1;32m    148\u001b[0m     \u001b[39mif\u001b[39;00m \u001b[39missubclass\u001b[39m(\u001b[39mcls\u001b[39m, \u001b[39mtype\u001b[39m):\n",
      "File \u001b[0;32m~/opt/anaconda3/envs/c310dev/lib/python3.10/copy.py:206\u001b[0m, in \u001b[0;36m_deepcopy_list\u001b[0;34m(x, memo, deepcopy)\u001b[0m\n\u001b[1;32m    204\u001b[0m append \u001b[39m=\u001b[39m y\u001b[39m.\u001b[39mappend\n\u001b[1;32m    205\u001b[0m \u001b[39mfor\u001b[39;00m a \u001b[39min\u001b[39;00m x:\n\u001b[0;32m--> 206\u001b[0m     append(deepcopy(a, memo))\n\u001b[1;32m    207\u001b[0m \u001b[39mreturn\u001b[39;00m y\n",
      "File \u001b[0;32m~/opt/anaconda3/envs/c310dev/lib/python3.10/copy.py:146\u001b[0m, in \u001b[0;36mdeepcopy\u001b[0;34m(x, memo, _nil)\u001b[0m\n\u001b[1;32m    144\u001b[0m copier \u001b[39m=\u001b[39m _deepcopy_dispatch\u001b[39m.\u001b[39mget(\u001b[39mcls\u001b[39m)\n\u001b[1;32m    145\u001b[0m \u001b[39mif\u001b[39;00m copier \u001b[39mis\u001b[39;00m \u001b[39mnot\u001b[39;00m \u001b[39mNone\u001b[39;00m:\n\u001b[0;32m--> 146\u001b[0m     y \u001b[39m=\u001b[39m copier(x, memo)\n\u001b[1;32m    147\u001b[0m \u001b[39melse\u001b[39;00m:\n\u001b[1;32m    148\u001b[0m     \u001b[39mif\u001b[39;00m \u001b[39missubclass\u001b[39m(\u001b[39mcls\u001b[39m, \u001b[39mtype\u001b[39m):\n",
      "File \u001b[0;32m~/opt/anaconda3/envs/c310dev/lib/python3.10/copy.py:231\u001b[0m, in \u001b[0;36m_deepcopy_dict\u001b[0;34m(x, memo, deepcopy)\u001b[0m\n\u001b[1;32m    229\u001b[0m memo[\u001b[39mid\u001b[39m(x)] \u001b[39m=\u001b[39m y\n\u001b[1;32m    230\u001b[0m \u001b[39mfor\u001b[39;00m key, value \u001b[39min\u001b[39;00m x\u001b[39m.\u001b[39mitems():\n\u001b[0;32m--> 231\u001b[0m     y[deepcopy(key, memo)] \u001b[39m=\u001b[39m deepcopy(value, memo)\n\u001b[1;32m    232\u001b[0m \u001b[39mreturn\u001b[39;00m y\n",
      "File \u001b[0;32m~/opt/anaconda3/envs/c310dev/lib/python3.10/copy.py:172\u001b[0m, in \u001b[0;36mdeepcopy\u001b[0;34m(x, memo, _nil)\u001b[0m\n\u001b[1;32m    170\u001b[0m                 y \u001b[39m=\u001b[39m x\n\u001b[1;32m    171\u001b[0m             \u001b[39melse\u001b[39;00m:\n\u001b[0;32m--> 172\u001b[0m                 y \u001b[39m=\u001b[39m _reconstruct(x, memo, \u001b[39m*\u001b[39;49mrv)\n\u001b[1;32m    174\u001b[0m \u001b[39m# If is its own copy, don't memoize.\u001b[39;00m\n\u001b[1;32m    175\u001b[0m \u001b[39mif\u001b[39;00m y \u001b[39mis\u001b[39;00m \u001b[39mnot\u001b[39;00m x:\n",
      "File \u001b[0;32m~/opt/anaconda3/envs/c310dev/lib/python3.10/copy.py:288\u001b[0m, in \u001b[0;36m_reconstruct\u001b[0;34m(x, memo, func, args, state, listiter, dictiter, deepcopy)\u001b[0m\n\u001b[1;32m    286\u001b[0m \u001b[39mif\u001b[39;00m deep:\n\u001b[1;32m    287\u001b[0m     \u001b[39mfor\u001b[39;00m item \u001b[39min\u001b[39;00m listiter:\n\u001b[0;32m--> 288\u001b[0m         item \u001b[39m=\u001b[39m deepcopy(item, memo)\n\u001b[1;32m    289\u001b[0m         y\u001b[39m.\u001b[39mappend(item)\n\u001b[1;32m    290\u001b[0m \u001b[39melse\u001b[39;00m:\n",
      "File \u001b[0;32m~/opt/anaconda3/envs/c310dev/lib/python3.10/copy.py:172\u001b[0m, in \u001b[0;36mdeepcopy\u001b[0;34m(x, memo, _nil)\u001b[0m\n\u001b[1;32m    170\u001b[0m                 y \u001b[39m=\u001b[39m x\n\u001b[1;32m    171\u001b[0m             \u001b[39melse\u001b[39;00m:\n\u001b[0;32m--> 172\u001b[0m                 y \u001b[39m=\u001b[39m _reconstruct(x, memo, \u001b[39m*\u001b[39;49mrv)\n\u001b[1;32m    174\u001b[0m \u001b[39m# If is its own copy, don't memoize.\u001b[39;00m\n\u001b[1;32m    175\u001b[0m \u001b[39mif\u001b[39;00m y \u001b[39mis\u001b[39;00m \u001b[39mnot\u001b[39;00m x:\n",
      "File \u001b[0;32m~/opt/anaconda3/envs/c310dev/lib/python3.10/copy.py:271\u001b[0m, in \u001b[0;36m_reconstruct\u001b[0;34m(x, memo, func, args, state, listiter, dictiter, deepcopy)\u001b[0m\n\u001b[1;32m    269\u001b[0m \u001b[39mif\u001b[39;00m state \u001b[39mis\u001b[39;00m \u001b[39mnot\u001b[39;00m \u001b[39mNone\u001b[39;00m:\n\u001b[1;32m    270\u001b[0m     \u001b[39mif\u001b[39;00m deep:\n\u001b[0;32m--> 271\u001b[0m         state \u001b[39m=\u001b[39m deepcopy(state, memo)\n\u001b[1;32m    272\u001b[0m     \u001b[39mif\u001b[39;00m \u001b[39mhasattr\u001b[39m(y, \u001b[39m'\u001b[39m\u001b[39m__setstate__\u001b[39m\u001b[39m'\u001b[39m):\n\u001b[1;32m    273\u001b[0m         y\u001b[39m.\u001b[39m__setstate__(state)\n",
      "File \u001b[0;32m~/opt/anaconda3/envs/c310dev/lib/python3.10/copy.py:146\u001b[0m, in \u001b[0;36mdeepcopy\u001b[0;34m(x, memo, _nil)\u001b[0m\n\u001b[1;32m    144\u001b[0m copier \u001b[39m=\u001b[39m _deepcopy_dispatch\u001b[39m.\u001b[39mget(\u001b[39mcls\u001b[39m)\n\u001b[1;32m    145\u001b[0m \u001b[39mif\u001b[39;00m copier \u001b[39mis\u001b[39;00m \u001b[39mnot\u001b[39;00m \u001b[39mNone\u001b[39;00m:\n\u001b[0;32m--> 146\u001b[0m     y \u001b[39m=\u001b[39m copier(x, memo)\n\u001b[1;32m    147\u001b[0m \u001b[39melse\u001b[39;00m:\n\u001b[1;32m    148\u001b[0m     \u001b[39mif\u001b[39;00m \u001b[39missubclass\u001b[39m(\u001b[39mcls\u001b[39m, \u001b[39mtype\u001b[39m):\n",
      "File \u001b[0;32m~/opt/anaconda3/envs/c310dev/lib/python3.10/copy.py:231\u001b[0m, in \u001b[0;36m_deepcopy_dict\u001b[0;34m(x, memo, deepcopy)\u001b[0m\n\u001b[1;32m    229\u001b[0m memo[\u001b[39mid\u001b[39m(x)] \u001b[39m=\u001b[39m y\n\u001b[1;32m    230\u001b[0m \u001b[39mfor\u001b[39;00m key, value \u001b[39min\u001b[39;00m x\u001b[39m.\u001b[39mitems():\n\u001b[0;32m--> 231\u001b[0m     y[deepcopy(key, memo)] \u001b[39m=\u001b[39m deepcopy(value, memo)\n\u001b[1;32m    232\u001b[0m \u001b[39mreturn\u001b[39;00m y\n",
      "File \u001b[0;32m~/opt/anaconda3/envs/c310dev/lib/python3.10/copy.py:146\u001b[0m, in \u001b[0;36mdeepcopy\u001b[0;34m(x, memo, _nil)\u001b[0m\n\u001b[1;32m    144\u001b[0m copier \u001b[39m=\u001b[39m _deepcopy_dispatch\u001b[39m.\u001b[39mget(\u001b[39mcls\u001b[39m)\n\u001b[1;32m    145\u001b[0m \u001b[39mif\u001b[39;00m copier \u001b[39mis\u001b[39;00m \u001b[39mnot\u001b[39;00m \u001b[39mNone\u001b[39;00m:\n\u001b[0;32m--> 146\u001b[0m     y \u001b[39m=\u001b[39m copier(x, memo)\n\u001b[1;32m    147\u001b[0m \u001b[39melse\u001b[39;00m:\n\u001b[1;32m    148\u001b[0m     \u001b[39mif\u001b[39;00m \u001b[39missubclass\u001b[39m(\u001b[39mcls\u001b[39m, \u001b[39mtype\u001b[39m):\n",
      "File \u001b[0;32m~/opt/anaconda3/envs/c310dev/lib/python3.10/copy.py:206\u001b[0m, in \u001b[0;36m_deepcopy_list\u001b[0;34m(x, memo, deepcopy)\u001b[0m\n\u001b[1;32m    204\u001b[0m append \u001b[39m=\u001b[39m y\u001b[39m.\u001b[39mappend\n\u001b[1;32m    205\u001b[0m \u001b[39mfor\u001b[39;00m a \u001b[39min\u001b[39;00m x:\n\u001b[0;32m--> 206\u001b[0m     append(deepcopy(a, memo))\n\u001b[1;32m    207\u001b[0m \u001b[39mreturn\u001b[39;00m y\n",
      "File \u001b[0;32m~/opt/anaconda3/envs/c310dev/lib/python3.10/copy.py:172\u001b[0m, in \u001b[0;36mdeepcopy\u001b[0;34m(x, memo, _nil)\u001b[0m\n\u001b[1;32m    170\u001b[0m                 y \u001b[39m=\u001b[39m x\n\u001b[1;32m    171\u001b[0m             \u001b[39melse\u001b[39;00m:\n\u001b[0;32m--> 172\u001b[0m                 y \u001b[39m=\u001b[39m _reconstruct(x, memo, \u001b[39m*\u001b[39;49mrv)\n\u001b[1;32m    174\u001b[0m \u001b[39m# If is its own copy, don't memoize.\u001b[39;00m\n\u001b[1;32m    175\u001b[0m \u001b[39mif\u001b[39;00m y \u001b[39mis\u001b[39;00m \u001b[39mnot\u001b[39;00m x:\n",
      "File \u001b[0;32m~/opt/anaconda3/envs/c310dev/lib/python3.10/copy.py:259\u001b[0m, in \u001b[0;36m_reconstruct\u001b[0;34m(x, memo, func, args, state, listiter, dictiter, deepcopy)\u001b[0m\n\u001b[1;32m    255\u001b[0m     \u001b[39mexcept\u001b[39;00m \u001b[39mKeyError\u001b[39;00m:\n\u001b[1;32m    256\u001b[0m         \u001b[39m# aha, this is the first one :-)\u001b[39;00m\n\u001b[1;32m    257\u001b[0m         memo[\u001b[39mid\u001b[39m(memo)]\u001b[39m=\u001b[39m[x]\n\u001b[0;32m--> 259\u001b[0m \u001b[39mdef\u001b[39;00m \u001b[39m_reconstruct\u001b[39m(x, memo, func, args,\n\u001b[1;32m    260\u001b[0m                  state\u001b[39m=\u001b[39m\u001b[39mNone\u001b[39;00m, listiter\u001b[39m=\u001b[39m\u001b[39mNone\u001b[39;00m, dictiter\u001b[39m=\u001b[39m\u001b[39mNone\u001b[39;00m,\n\u001b[1;32m    261\u001b[0m                  deepcopy\u001b[39m=\u001b[39mdeepcopy):\n\u001b[1;32m    262\u001b[0m     deep \u001b[39m=\u001b[39m memo \u001b[39mis\u001b[39;00m \u001b[39mnot\u001b[39;00m \u001b[39mNone\u001b[39;00m\n\u001b[1;32m    263\u001b[0m     \u001b[39mif\u001b[39;00m deep \u001b[39mand\u001b[39;00m args:\n",
      "\u001b[0;31mKeyboardInterrupt\u001b[0m: "
     ]
    }
   ],
   "source": [
    "genbank_path = \"/Users/kiratalreja/Downloads/NC_000913.3.gb\"\n"
   ]
  },
  {
   "cell_type": "code",
   "execution_count": null,
   "metadata": {},
   "outputs": [],
   "source": [
    "from cogent3.parse.genbank import Min"
   ]
  },
  {
   "cell_type": "code",
   "execution_count": 5,
   "metadata": {},
   "outputs": [
    {
     "data": {
      "text/plain": [
       "CDS \"ID4839\" at [3:10]/20"
      ]
     },
     "execution_count": 5,
     "metadata": {},
     "output_type": "execute_result"
    }
   ],
   "source": [
    "example_seq.add_feature(\"CDS\",\"ID4839\",[(3,10)])"
   ]
  },
  {
   "cell_type": "code",
   "execution_count": 6,
   "metadata": {},
   "outputs": [
    {
     "data": {
      "text/plain": [
       "[CDS \"ID4839\" at [3:10]/20]"
      ]
     },
     "execution_count": 6,
     "metadata": {},
     "output_type": "execute_result"
    }
   ],
   "source": [
    "example_seq.annotations"
   ]
  },
  {
   "cell_type": "code",
   "execution_count": 8,
   "metadata": {},
   "outputs": [
    {
     "data": {
      "text/plain": [
       "[CDS \"ID4839\" at [3:10]/20]"
      ]
     },
     "execution_count": 8,
     "metadata": {},
     "output_type": "execute_result"
    }
   ],
   "source": [
    "example_seq.get_annotations_matching(annotation_type=\"CDS\")"
   ]
  },
  {
   "cell_type": "code",
   "execution_count": 9,
   "metadata": {},
   "outputs": [],
   "source": [
    "from cogent3.parse.genbank import MinimalGenbankParser\n",
    "from cogent3 import open_\n",
    "path = \"/Users/kiratalreja/Downloads/NC_000913.3.gb\"\n",
    "with open_(path) as infile:\n",
    "    data = list(MinimalGenbankParser(infile.readlines()))\n"
   ]
  },
  {
   "cell_type": "code",
   "execution_count": 11,
   "metadata": {},
   "outputs": [],
   "source": []
  },
  {
   "cell_type": "code",
   "execution_count": 14,
   "metadata": {},
   "outputs": [
    {
     "data": {
      "text/plain": [
       "{'type': 'source',\n",
       " 'raw_location': ['1..4641652'],\n",
       " 'location': [<cogent3.parse.genbank.Location at 0x7febc97569e0>],\n",
       " 'organism': ['Escherichia coli str. K-12 substr. MG1655'],\n",
       " 'mol_type': ['genomic DNA'],\n",
       " 'strain': ['K-12'],\n",
       " 'sub_strain': ['MG1655'],\n",
       " 'db_xref': ['taxon:511145']}"
      ]
     },
     "execution_count": 14,
     "metadata": {},
     "output_type": "execute_result"
    }
   ],
   "source": []
  },
  {
   "cell_type": "code",
   "execution_count": 17,
   "metadata": {},
   "outputs": [],
   "source": [
    "from cogent3.parse.gff import gff_parser\n",
    "gff_path = \"/Users/kiratalreja/Downloads/prok_NoLocusTags.gff\"\n",
    "features = list(gff_parser(gff_path))\n"
   ]
  },
  {
   "cell_type": "code",
   "execution_count": 19,
   "metadata": {},
   "outputs": [
    {
     "data": {
      "text/plain": [
       "{'SeqID': 'sequence001',\n",
       " 'Source': 'mine',\n",
       " 'Type': 'gene',\n",
       " 'Start': 189,\n",
       " 'End': 255,\n",
       " 'Score': '.',\n",
       " 'Strand': '+',\n",
       " 'Phase': '.',\n",
       " 'Attributes': {'ID': 'gene0',\n",
       "  'Dbxref': 'ASAP:ABE-0000006',\n",
       "  'gene': 'thrL',\n",
       "  'gene_synonym': 'ECK0001'},\n",
       " 'Comments': None}"
      ]
     },
     "execution_count": 19,
     "metadata": {},
     "output_type": "execute_result"
    }
   ],
   "source": [
    "features[0]"
   ]
  },
  {
   "cell_type": "code",
   "execution_count": 20,
   "metadata": {},
   "outputs": [],
   "source": [
    "from Bio.Seq import Seq\n",
    "from Bio.SeqRecord import SeqRecord\n",
    "from Bio.SeqFeature import SeqFeature, FeatureLocation\n"
   ]
  },
  {
   "cell_type": "code",
   "execution_count": 27,
   "metadata": {},
   "outputs": [
    {
     "data": {
      "text/plain": [
       "[SeqFeature(FeatureLocation(ExactPosition(3), ExactPosition(10)), type='CDS')]"
      ]
     },
     "execution_count": 27,
     "metadata": {},
     "output_type": "execute_result"
    }
   ],
   "source": [
    "seq = SeqRecord(Seq(\"CGAAACGTTTAGAGTGGGGG\"),\n",
    "                 id=\"SampleID\", name=\"sequence001\",\n",
    "                 description=\"SampleRecord\")\n",
    "\n",
    "seq.features.append(SeqFeature(FeatureLocation(3,10), type=\"CDS\"))\n",
    "seq.features"
   ]
  },
  {
   "cell_type": "code",
   "execution_count": 31,
   "metadata": {},
   "outputs": [
    {
     "name": "stdout",
     "output_type": "stream",
     "text": [
      "[SeqFeature(FeatureLocation(ExactPosition(189), ExactPosition(255), strand=1), type='CDS', id='CDS0'), SeqFeature(FeatureLocation(ExactPosition(336), ExactPosition(2799), strand=1), type='CDS', id='CDS1'), SeqFeature(FeatureLocation(ExactPosition(2800), ExactPosition(3733), strand=1), type='CDS', id='CDS2'), SeqFeature(FeatureLocation(ExactPosition(3733), ExactPosition(5020), strand=1), type='CDS', id='CDS3'), SeqFeature(FeatureLocation(ExactPosition(6089), ExactPosition(6459), strand=-1), type='inferred_parent', id='gene4'), SeqFeature(FeatureLocation(ExactPosition(6528), ExactPosition(7959), strand=-1), type='CDS', id='CDS5')]\n"
     ]
    }
   ],
   "source": [
    "from BCBio import GFF\n",
    "\n",
    "in_file = \"/Users/kiratalreja/Downloads/prok_NoLocusTags.gff\"\n",
    "\n",
    "limit_info = dict(gff_type=[\"CDS\"])\n",
    "\n",
    "in_handle = open(in_file)\n",
    "for rec in GFF.parse(in_handle, limit_info=limit_info):\n",
    "    print(rec.features)\n",
    "in_handle.close()"
   ]
  },
  {
   "cell_type": "code",
   "execution_count": 34,
   "metadata": {},
   "outputs": [
    {
     "ename": "ValueError",
     "evalue": "numpy.ndarray size changed, may indicate binary incompatibility. Expected 96 from C header, got 88 from PyObject",
     "output_type": "error",
     "traceback": [
      "\u001b[0;31m---------------------------------------------------------------------------\u001b[0m",
      "\u001b[0;31mValueError\u001b[0m                                Traceback (most recent call last)",
      "\u001b[1;32m/Users/kiratalreja/repos/Cogent3/src/benchmarking scrips/Bakchodi_Notebook.ipynb Cell 14\u001b[0m in \u001b[0;36m<cell line: 2>\u001b[0;34m()\u001b[0m\n\u001b[1;32m      <a href='vscode-notebook-cell:/Users/kiratalreja/repos/Cogent3/src/benchmarking%20scrips/Bakchodi_Notebook.ipynb#X16sZmlsZQ%3D%3D?line=0'>1</a>\u001b[0m \u001b[39mfrom\u001b[39;00m \u001b[39mpprint\u001b[39;00m \u001b[39mimport\u001b[39;00m pprint\n\u001b[0;32m----> <a href='vscode-notebook-cell:/Users/kiratalreja/repos/Cogent3/src/benchmarking%20scrips/Bakchodi_Notebook.ipynb#X16sZmlsZQ%3D%3D?line=1'>2</a>\u001b[0m \u001b[39mfrom\u001b[39;00m \u001b[39mskbio\u001b[39;00m \u001b[39mimport\u001b[39;00m Sequence\n\u001b[1;32m      <a href='vscode-notebook-cell:/Users/kiratalreja/repos/Cogent3/src/benchmarking%20scrips/Bakchodi_Notebook.ipynb#X16sZmlsZQ%3D%3D?line=2'>3</a>\u001b[0m \u001b[39mfrom\u001b[39;00m \u001b[39mskbio\u001b[39;00m\u001b[39m.\u001b[39;00m\u001b[39mmetadata\u001b[39;00m \u001b[39mimport\u001b[39;00m IntervalMetadata\n\u001b[1;32m      <a href='vscode-notebook-cell:/Users/kiratalreja/repos/Cogent3/src/benchmarking%20scrips/Bakchodi_Notebook.ipynb#X16sZmlsZQ%3D%3D?line=4'>5</a>\u001b[0m interval_metadata \u001b[39m=\u001b[39m IntervalMetadata(\u001b[39m4\u001b[39m)\n",
      "File \u001b[0;32m~/opt/anaconda3/envs/c310dev/lib/python3.10/site-packages/skbio/__init__.py:11\u001b[0m, in \u001b[0;36m<module>\u001b[0;34m\u001b[0m\n\u001b[1;32m      1\u001b[0m \u001b[39m# ----------------------------------------------------------------------------\u001b[39;00m\n\u001b[1;32m      2\u001b[0m \u001b[39m# Copyright (c) 2013--, scikit-bio development team.\u001b[39;00m\n\u001b[1;32m      3\u001b[0m \u001b[39m#\u001b[39;00m\n\u001b[0;32m   (...)\u001b[0m\n\u001b[1;32m      9\u001b[0m \n\u001b[1;32m     10\u001b[0m \u001b[39m# Add skbio.io to sys.modules to prevent cycles in our imports\u001b[39;00m\n\u001b[0;32m---> 11\u001b[0m \u001b[39mimport\u001b[39;00m \u001b[39mskbio\u001b[39;00m\u001b[39m.\u001b[39;00m\u001b[39mio\u001b[39;00m  \u001b[39m# noqa\u001b[39;00m\n\u001b[1;32m     12\u001b[0m \u001b[39m# imports included for convenience\u001b[39;00m\n\u001b[1;32m     13\u001b[0m \u001b[39mfrom\u001b[39;00m \u001b[39mskbio\u001b[39;00m\u001b[39m.\u001b[39;00m\u001b[39msequence\u001b[39;00m \u001b[39mimport\u001b[39;00m Sequence, DNA, RNA, Protein, GeneticCode\n",
      "File \u001b[0;32m~/opt/anaconda3/envs/c310dev/lib/python3.10/site-packages/skbio/io/__init__.py:243\u001b[0m, in \u001b[0;36m<module>\u001b[0;34m\u001b[0m\n\u001b[1;32m    241\u001b[0m import_module(\u001b[39m'\u001b[39m\u001b[39mskbio.io.format.blast6\u001b[39m\u001b[39m'\u001b[39m)\n\u001b[1;32m    242\u001b[0m import_module(\u001b[39m'\u001b[39m\u001b[39mskbio.io.format.blast7\u001b[39m\u001b[39m'\u001b[39m)\n\u001b[0;32m--> 243\u001b[0m import_module(\u001b[39m'\u001b[39;49m\u001b[39mskbio.io.format.clustal\u001b[39;49m\u001b[39m'\u001b[39;49m)\n\u001b[1;32m    244\u001b[0m import_module(\u001b[39m'\u001b[39m\u001b[39mskbio.io.format.embl\u001b[39m\u001b[39m'\u001b[39m)\n\u001b[1;32m    245\u001b[0m import_module(\u001b[39m'\u001b[39m\u001b[39mskbio.io.format.fasta\u001b[39m\u001b[39m'\u001b[39m)\n",
      "File \u001b[0;32m~/opt/anaconda3/envs/c310dev/lib/python3.10/importlib/__init__.py:126\u001b[0m, in \u001b[0;36mimport_module\u001b[0;34m(name, package)\u001b[0m\n\u001b[1;32m    124\u001b[0m             \u001b[39mbreak\u001b[39;00m\n\u001b[1;32m    125\u001b[0m         level \u001b[39m+\u001b[39m\u001b[39m=\u001b[39m \u001b[39m1\u001b[39m\n\u001b[0;32m--> 126\u001b[0m \u001b[39mreturn\u001b[39;00m _bootstrap\u001b[39m.\u001b[39;49m_gcd_import(name[level:], package, level)\n",
      "File \u001b[0;32m~/opt/anaconda3/envs/c310dev/lib/python3.10/site-packages/skbio/io/format/clustal.py:148\u001b[0m, in \u001b[0;36m<module>\u001b[0;34m\u001b[0m\n\u001b[1;32m    139\u001b[0m \u001b[39m# ----------------------------------------------------------------------------\u001b[39;00m\n\u001b[1;32m    140\u001b[0m \u001b[39m# Copyright (c) 2013--, scikit-bio development team.\u001b[39;00m\n\u001b[1;32m    141\u001b[0m \u001b[39m#\u001b[39;00m\n\u001b[0;32m   (...)\u001b[0m\n\u001b[1;32m    144\u001b[0m \u001b[39m# The full license is in the file COPYING.txt, distributed with this software.\u001b[39;00m\n\u001b[1;32m    145\u001b[0m \u001b[39m# ----------------------------------------------------------------------------\u001b[39;00m\n\u001b[1;32m    147\u001b[0m \u001b[39mfrom\u001b[39;00m \u001b[39mskbio\u001b[39;00m\u001b[39m.\u001b[39;00m\u001b[39mio\u001b[39;00m \u001b[39mimport\u001b[39;00m create_format, ClustalFormatError\n\u001b[0;32m--> 148\u001b[0m \u001b[39mfrom\u001b[39;00m \u001b[39mskbio\u001b[39;00m\u001b[39m.\u001b[39;00m\u001b[39malignment\u001b[39;00m \u001b[39mimport\u001b[39;00m TabularMSA\n\u001b[1;32m    151\u001b[0m clustal \u001b[39m=\u001b[39m create_format(\u001b[39m'\u001b[39m\u001b[39mclustal\u001b[39m\u001b[39m'\u001b[39m)\n\u001b[1;32m    154\u001b[0m \u001b[39mdef\u001b[39;00m \u001b[39m_label_line_parser\u001b[39m(record):\n",
      "File \u001b[0;32m~/opt/anaconda3/envs/c310dev/lib/python3.10/site-packages/skbio/alignment/__init__.py:204\u001b[0m, in \u001b[0;36m<module>\u001b[0;34m\u001b[0m\n\u001b[1;32m    195\u001b[0m \u001b[39m# ----------------------------------------------------------------------------\u001b[39;00m\n\u001b[1;32m    196\u001b[0m \u001b[39m# Copyright (c) 2013--, scikit-bio development team.\u001b[39;00m\n\u001b[1;32m    197\u001b[0m \u001b[39m#\u001b[39;00m\n\u001b[0;32m   (...)\u001b[0m\n\u001b[1;32m    200\u001b[0m \u001b[39m# The full license is in the file COPYING.txt, distributed with this software.\u001b[39;00m\n\u001b[1;32m    201\u001b[0m \u001b[39m# ----------------------------------------------------------------------------\u001b[39;00m\n\u001b[1;32m    203\u001b[0m \u001b[39mfrom\u001b[39;00m \u001b[39m.\u001b[39;00m\u001b[39m_tabular_msa\u001b[39;00m \u001b[39mimport\u001b[39;00m TabularMSA\n\u001b[0;32m--> 204\u001b[0m \u001b[39mfrom\u001b[39;00m \u001b[39m.\u001b[39;00m\u001b[39m_pairwise\u001b[39;00m \u001b[39mimport\u001b[39;00m (\n\u001b[1;32m    205\u001b[0m     local_pairwise_align_nucleotide, local_pairwise_align_protein,\n\u001b[1;32m    206\u001b[0m     local_pairwise_align, global_pairwise_align_nucleotide,\n\u001b[1;32m    207\u001b[0m     global_pairwise_align_protein, global_pairwise_align,\n\u001b[1;32m    208\u001b[0m     make_identity_substitution_matrix, local_pairwise_align_ssw\n\u001b[1;32m    209\u001b[0m )\n\u001b[1;32m    210\u001b[0m \u001b[39mfrom\u001b[39;00m \u001b[39mskbio\u001b[39;00m\u001b[39m.\u001b[39;00m\u001b[39malignment\u001b[39;00m\u001b[39m.\u001b[39;00m\u001b[39m_ssw_wrapper\u001b[39;00m \u001b[39mimport\u001b[39;00m (\n\u001b[1;32m    211\u001b[0m     StripedSmithWaterman, AlignmentStructure)\n\u001b[1;32m    213\u001b[0m __all__ \u001b[39m=\u001b[39m [\u001b[39m'\u001b[39m\u001b[39mTabularMSA\u001b[39m\u001b[39m'\u001b[39m, \u001b[39m'\u001b[39m\u001b[39mStripedSmithWaterman\u001b[39m\u001b[39m'\u001b[39m, \u001b[39m'\u001b[39m\u001b[39mAlignmentStructure\u001b[39m\u001b[39m'\u001b[39m,\n\u001b[1;32m    214\u001b[0m            \u001b[39m'\u001b[39m\u001b[39mlocal_pairwise_align_ssw\u001b[39m\u001b[39m'\u001b[39m, \u001b[39m'\u001b[39m\u001b[39mglobal_pairwise_align\u001b[39m\u001b[39m'\u001b[39m,\n\u001b[1;32m    215\u001b[0m            \u001b[39m'\u001b[39m\u001b[39mglobal_pairwise_align_nucleotide\u001b[39m\u001b[39m'\u001b[39m, \u001b[39m'\u001b[39m\u001b[39mglobal_pairwise_align_protein\u001b[39m\u001b[39m'\u001b[39m,\n\u001b[1;32m    216\u001b[0m            \u001b[39m'\u001b[39m\u001b[39mlocal_pairwise_align\u001b[39m\u001b[39m'\u001b[39m, \u001b[39m'\u001b[39m\u001b[39mlocal_pairwise_align_nucleotide\u001b[39m\u001b[39m'\u001b[39m,\n\u001b[1;32m    217\u001b[0m            \u001b[39m'\u001b[39m\u001b[39mlocal_pairwise_align_protein\u001b[39m\u001b[39m'\u001b[39m, \u001b[39m'\u001b[39m\u001b[39mmake_identity_substitution_matrix\u001b[39m\u001b[39m'\u001b[39m]\n",
      "File \u001b[0;32m~/opt/anaconda3/envs/c310dev/lib/python3.10/site-packages/skbio/alignment/_pairwise.py:15\u001b[0m, in \u001b[0;36m<module>\u001b[0;34m\u001b[0m\n\u001b[1;32m     12\u001b[0m \u001b[39mimport\u001b[39;00m \u001b[39mnumpy\u001b[39;00m \u001b[39mas\u001b[39;00m \u001b[39mnp\u001b[39;00m\n\u001b[1;32m     14\u001b[0m \u001b[39mfrom\u001b[39;00m \u001b[39mskbio\u001b[39;00m\u001b[39m.\u001b[39;00m\u001b[39malignment\u001b[39;00m \u001b[39mimport\u001b[39;00m TabularMSA\n\u001b[0;32m---> 15\u001b[0m \u001b[39mfrom\u001b[39;00m \u001b[39mskbio\u001b[39;00m\u001b[39m.\u001b[39;00m\u001b[39malignment\u001b[39;00m\u001b[39m.\u001b[39;00m\u001b[39m_ssw_wrapper\u001b[39;00m \u001b[39mimport\u001b[39;00m StripedSmithWaterman\n\u001b[1;32m     16\u001b[0m \u001b[39mfrom\u001b[39;00m \u001b[39mskbio\u001b[39;00m\u001b[39m.\u001b[39;00m\u001b[39msequence\u001b[39;00m \u001b[39mimport\u001b[39;00m DNA, RNA, Protein\n\u001b[1;32m     17\u001b[0m \u001b[39mfrom\u001b[39;00m \u001b[39mskbio\u001b[39;00m\u001b[39m.\u001b[39;00m\u001b[39msequence\u001b[39;00m \u001b[39mimport\u001b[39;00m GrammaredSequence\n",
      "File \u001b[0;32mskbio/alignment/_ssw_wrapper.pyx:1\u001b[0m, in \u001b[0;36minit skbio.alignment._ssw_wrapper\u001b[0;34m()\u001b[0m\n",
      "\u001b[0;31mValueError\u001b[0m: numpy.ndarray size changed, may indicate binary incompatibility. Expected 96 from C header, got 88 from PyObject"
     ]
    }
   ],
   "source": [
    "from skbio import Sequence\n",
    "from skbio.metadata import IntervalMetadata\n",
    "\n",
    "interval_metadata = IntervalMetadata(4)\n",
    "interval = interval_metadata.add([(1, 3)], metadata={'gene': 'sagA'})\n",
    "seq = Sequence('CGAAACGTTTAGAGTGGGGG', interval_metadata=interval_metadata)"
   ]
  },
  {
   "cell_type": "code",
   "execution_count": null,
   "metadata": {},
   "outputs": [],
   "source": []
  },
  {
   "cell_type": "code",
   "execution_count": 7,
   "metadata": {},
   "outputs": [],
   "source": [
    "from cogent3 import load_unaligned_seqs\n",
    "from cogent3.parse.gff import gff_parser\n",
    "\n",
    "def fix_gff(gff):\n",
    "    return [r for r in gff if r[\"Attributes\"][\"ID\"]]\n",
    "\n",
    "fasta_path = \"/Users/kiratalreja/Downloads/Homo_sapiens.GRCh38.dna.chromosome.1.fa\"\n",
    "gff3_path = \"/Users/kiratalreja/Downloads/Homo_sapiens.GRCh38.108.chromosome.1.gff3\"\n",
    "\n",
    "gff = list(gff_parser(gff3_path))\n",
    "gff = fix_gff(gff)\n",
    "\n",
    "\n",
    "seqs = load_unaligned_seqs(fasta_path, moltype=\"dna\")\n",
    "\n",
    "seq = seqs.seqs[0]\n",
    "seq.name = \"1\"\n",
    "\n",
    "seq.annotate_from_gff(gff, pre_parsed=True)\n",
    "\n",
    "\n"
   ]
  },
  {
   "cell_type": "code",
   "execution_count": 8,
   "metadata": {},
   "outputs": [
    {
     "name": "stdout",
     "output_type": "stream",
     "text": [
      "2235995\n"
     ]
    }
   ],
   "source": [
    "import gc\n",
    "#seq = seq[45:50]\n",
    "print(len(gc.get_objects()))"
   ]
  },
  {
   "cell_type": "code",
   "execution_count": 1,
   "metadata": {},
   "outputs": [],
   "source": [
    "from cogent3 import load_unaligned_seqs\n",
    "from cogent3.parse.gff import gff_parser\n",
    "fasta_path = \"/Users/kiratalreja/Downloads/Homo_sapiens.GRCh38.dna.chromosome.1.fa\"\n",
    "seqs = load_unaligned_seqs(fasta_path, moltype=\"dna\")\n",
    "seq = seqs.seqs[0]\n",
    "seq.name = \"1\"\n",
    "seq = seq[45:50]"
   ]
  },
  {
   "cell_type": "code",
   "execution_count": 2,
   "metadata": {},
   "outputs": [
    {
     "name": "stdout",
     "output_type": "stream",
     "text": [
      "245034\n"
     ]
    }
   ],
   "source": [
    "import gc\n",
    "print(len(gc.get_objects()))"
   ]
  },
  {
   "cell_type": "code",
   "execution_count": 12,
   "metadata": {},
   "outputs": [],
   "source": [
    "import seaborn as sns\n",
    "sns.set_style(\"whitegrid\")\n",
    "import numpy as np\n",
    "import pandas as pd\n",
    "import matplotlib.pyplot as plt\n"
   ]
  },
  {
   "cell_type": "code",
   "execution_count": 13,
   "metadata": {},
   "outputs": [
    {
     "data": {
      "image/png": "[encoded data removed]",
      "text/plain": [
       "<Figure size 432x288 with 1 Axes>"
      ]
     },
     "metadata": {},
     "output_type": "display_data"
    }
   ],
   "source": [
    "data = {'New Approach':[152.5,631.7,711.8]}\n",
    "df = pd.DataFrame(data)\n",
    "fig, ax = plt.subplots() \n",
    "m = sns.lineplot(df,ax=ax,markers=True,linewidth = 3)\n",
    "ax.set_xticks(range(0,3));\n",
    "plt.legend(title='Memory Usage');  \n",
    "m.set_xticklabels(['Func Start','Load Seq','Annotate & Query'])\n",
    "ax.set(xlabel='Operation', ylabel='Memory in MiB')\n",
    "ax.set_title('Memory Usage for GFF Annotations with the New Approach');\n",
    "plt.savefig(\"Memory-NewApproach.svg\", format=\"svg\")\n"
   ]
  },
  {
   "cell_type": "code",
   "execution_count": 24,
   "metadata": {},
   "outputs": [
    {
     "data": {
      "image/png": "[encoded data removed]",
      "text/plain": [
       "<Figure size 432x288 with 1 Axes>"
      ]
     },
     "metadata": {},
     "output_type": "display_data"
    }
   ],
   "source": [
    "old_data = {'Old Approach':[132.1,717.2,1422.2],'New Approach':[152.5,631.7,711.8]}\n",
    "\n",
    "old_df = pd.DataFrame(old_data)\n",
    "\n",
    "fig, ax = plt.subplots()\n",
    "m = sns.lineplot(old_df,ax=ax,markers=True,linewidth = 3)\n",
    "\n",
    "ax.set_xticks(range(0,3));\n",
    "plt.legend(title='Memory Usage');  \n",
    "m.set_xticklabels(['Func Start','Load Seq','Annotate & Query'])\n",
    "ax.set(xlabel='Operation', ylabel='Memory in MiB')\n",
    "ax.set_title('Memory Usage for GFF Annotations');\n",
    "ax.lines[1].set_linestyle(\"-\")\n",
    "plt.savefig(\"Memory-Comparison.svg\", format=\"svg\")\n"
   ]
  },
  {
   "cell_type": "code",
   "execution_count": 23,
   "metadata": {},
   "outputs": [
    {
     "data": {
      "image/png": "[encoded data removed]",
      "text/plain": [
       "<Figure size 432x288 with 1 Axes>"
      ]
     },
     "metadata": {},
     "output_type": "display_data"
    }
   ],
   "source": [
    "data = {'Old Approach':[132.1,717.2,1422.2]}\n",
    "df = pd.DataFrame(data)\n",
    "fig, ax = plt.subplots()\n",
    "m = sns.lineplot(df,ax=ax,markers=True,linewidth = 3)\n",
    "ax.set_xticks(range(0,3));\n",
    "plt.legend(title='Memory Usage');  \n",
    "m.set_xticklabels(['Func Start','Load Seq','Annotate & Query'])\n",
    "ax.set(xlabel='Operation', ylabel='Memory in MiB')\n",
    "ax.set_title('Memory Usage for GFF Annotations with the Old Approach');\n",
    "plt.savefig(\"Memory-OldApproach.svg\", format=\"svg\")"
   ]
  },
  {
   "cell_type": "code",
   "execution_count": 44,
   "metadata": {},
   "outputs": [
    {
     "ename": "ValueError",
     "evalue": "Cannot use `hue` without `x` and `y`",
     "output_type": "error",
     "traceback": [
      "\u001b[0;31m---------------------------------------------------------------------------\u001b[0m",
      "\u001b[0;31mValueError\u001b[0m                                Traceback (most recent call last)",
      "\u001b[1;32m/Users/kiratalreja/repos/Cogent3/src/benchmarking scrips/Bakchodi_Notebook.ipynb Cell 24\u001b[0m in \u001b[0;36m<cell line: 4>\u001b[0;34m()\u001b[0m\n\u001b[1;32m      <a href='vscode-notebook-cell:/Users/kiratalreja/repos/Cogent3/src/benchmarking%20scrips/Bakchodi_Notebook.ipynb#X33sZmlsZQ%3D%3D?line=1'>2</a>\u001b[0m df \u001b[39m=\u001b[39m pd\u001b[39m.\u001b[39mDataFrame(data)\n\u001b[1;32m      <a href='vscode-notebook-cell:/Users/kiratalreja/repos/Cogent3/src/benchmarking%20scrips/Bakchodi_Notebook.ipynb#X33sZmlsZQ%3D%3D?line=2'>3</a>\u001b[0m fig, ax \u001b[39m=\u001b[39m plt\u001b[39m.\u001b[39msubplots()\n\u001b[0;32m----> <a href='vscode-notebook-cell:/Users/kiratalreja/repos/Cogent3/src/benchmarking%20scrips/Bakchodi_Notebook.ipynb#X33sZmlsZQ%3D%3D?line=3'>4</a>\u001b[0m m \u001b[39m=\u001b[39m sns\u001b[39m.\u001b[39;49mbarplot(df,ax\u001b[39m=\u001b[39;49max,linewidth \u001b[39m=\u001b[39;49m \u001b[39m3\u001b[39;49m,hue\u001b[39m=\u001b[39;49m\u001b[39m'\u001b[39;49m\u001b[39mApproach\u001b[39;49m\u001b[39m'\u001b[39;49m)\n\u001b[1;32m      <a href='vscode-notebook-cell:/Users/kiratalreja/repos/Cogent3/src/benchmarking%20scrips/Bakchodi_Notebook.ipynb#X33sZmlsZQ%3D%3D?line=4'>5</a>\u001b[0m ax\u001b[39m.\u001b[39mset_xticks(\u001b[39mrange\u001b[39m(\u001b[39m0\u001b[39m,\u001b[39m2\u001b[39m));\n\u001b[1;32m      <a href='vscode-notebook-cell:/Users/kiratalreja/repos/Cogent3/src/benchmarking%20scrips/Bakchodi_Notebook.ipynb#X33sZmlsZQ%3D%3D?line=5'>6</a>\u001b[0m \u001b[39m#plt.legend(title='Memory Usage');  \u001b[39;00m\n\u001b[1;32m      <a href='vscode-notebook-cell:/Users/kiratalreja/repos/Cogent3/src/benchmarking%20scrips/Bakchodi_Notebook.ipynb#X33sZmlsZQ%3D%3D?line=6'>7</a>\u001b[0m \u001b[39m#m.set_xticklabels(['Load Seq','Annotate & Query'])\u001b[39;00m\n",
      "File \u001b[0;32m~/opt/anaconda3/envs/c310dev/lib/python3.10/site-packages/seaborn/categorical.py:2754\u001b[0m, in \u001b[0;36mbarplot\u001b[0;34m(data, x, y, hue, order, hue_order, estimator, errorbar, n_boot, units, seed, orient, color, palette, saturation, width, errcolor, errwidth, capsize, dodge, ci, ax, **kwargs)\u001b[0m\n\u001b[1;32m   2751\u001b[0m \u001b[39mif\u001b[39;00m estimator \u001b[39mis\u001b[39;00m \u001b[39mlen\u001b[39m:\n\u001b[1;32m   2752\u001b[0m     estimator \u001b[39m=\u001b[39m \u001b[39m\"\u001b[39m\u001b[39msize\u001b[39m\u001b[39m\"\u001b[39m\n\u001b[0;32m-> 2754\u001b[0m plotter \u001b[39m=\u001b[39m _BarPlotter(x, y, hue, data, order, hue_order,\n\u001b[1;32m   2755\u001b[0m                       estimator, errorbar, n_boot, units, seed,\n\u001b[1;32m   2756\u001b[0m                       orient, color, palette, saturation,\n\u001b[1;32m   2757\u001b[0m                       width, errcolor, errwidth, capsize, dodge)\n\u001b[1;32m   2759\u001b[0m \u001b[39mif\u001b[39;00m ax \u001b[39mis\u001b[39;00m \u001b[39mNone\u001b[39;00m:\n\u001b[1;32m   2760\u001b[0m     ax \u001b[39m=\u001b[39m plt\u001b[39m.\u001b[39mgca()\n",
      "File \u001b[0;32m~/opt/anaconda3/envs/c310dev/lib/python3.10/site-packages/seaborn/categorical.py:1530\u001b[0m, in \u001b[0;36m_BarPlotter.__init__\u001b[0;34m(self, x, y, hue, data, order, hue_order, estimator, errorbar, n_boot, units, seed, orient, color, palette, saturation, width, errcolor, errwidth, capsize, dodge)\u001b[0m\n\u001b[1;32m   1525\u001b[0m \u001b[39mdef\u001b[39;00m \u001b[39m__init__\u001b[39m(\u001b[39mself\u001b[39m, x, y, hue, data, order, hue_order,\n\u001b[1;32m   1526\u001b[0m              estimator, errorbar, n_boot, units, seed,\n\u001b[1;32m   1527\u001b[0m              orient, color, palette, saturation, width,\n\u001b[1;32m   1528\u001b[0m              errcolor, errwidth, capsize, dodge):\n\u001b[1;32m   1529\u001b[0m     \u001b[39m\"\"\"Initialize the plotter.\"\"\"\u001b[39;00m\n\u001b[0;32m-> 1530\u001b[0m     \u001b[39mself\u001b[39;49m\u001b[39m.\u001b[39;49mestablish_variables(x, y, hue, data, orient,\n\u001b[1;32m   1531\u001b[0m                              order, hue_order, units)\n\u001b[1;32m   1532\u001b[0m     \u001b[39mself\u001b[39m\u001b[39m.\u001b[39mestablish_colors(color, palette, saturation)\n\u001b[1;32m   1533\u001b[0m     \u001b[39mself\u001b[39m\u001b[39m.\u001b[39mestimate_statistic(estimator, errorbar, n_boot, seed)\n",
      "File \u001b[0;32m~/opt/anaconda3/envs/c310dev/lib/python3.10/site-packages/seaborn/categorical.py:437\u001b[0m, in \u001b[0;36m_CategoricalPlotter.establish_variables\u001b[0;34m(self, x, y, hue, data, orient, order, hue_order, units)\u001b[0m\n\u001b[1;32m    435\u001b[0m \u001b[39mif\u001b[39;00m hue \u001b[39mis\u001b[39;00m \u001b[39mnot\u001b[39;00m \u001b[39mNone\u001b[39;00m:\n\u001b[1;32m    436\u001b[0m     error \u001b[39m=\u001b[39m \u001b[39m\"\u001b[39m\u001b[39mCannot use `hue` without `x` and `y`\u001b[39m\u001b[39m\"\u001b[39m\n\u001b[0;32m--> 437\u001b[0m     \u001b[39mraise\u001b[39;00m \u001b[39mValueError\u001b[39;00m(error)\n\u001b[1;32m    439\u001b[0m \u001b[39m# No hue grouping with wide inputs\u001b[39;00m\n\u001b[1;32m    440\u001b[0m plot_hues \u001b[39m=\u001b[39m \u001b[39mNone\u001b[39;00m\n",
      "\u001b[0;31mValueError\u001b[0m: Cannot use `hue` without `x` and `y`"
     ]
    },
    {
     "data": {
      "image/png": "[encoded data removed]",
      "text/plain": [
       "<Figure size 432x288 with 1 Axes>"
      ]
     },
     "metadata": {},
     "output_type": "display_data"
    }
   ],
   "source": [
    "data = {'Load Seq':[8.8,9.0],'Annotate & Query': [201.1,5.1],'Approach':['Old','New']}\n",
    "df = pd.DataFrame(data)\n",
    "fig, ax = plt.subplots()\n",
    "m = sns.barplot(df,ax=ax,linewidth = 3,hue='Approach')\n",
    "ax.set_xticks(range(0,2));\n",
    "#plt.legend(title='Memory Usage');  \n",
    "#m.set_xticklabels(['Load Seq','Annotate & Query'])\n",
    "ax.set(xlabel='Operation', ylabel='Memory in MiB')\n",
    "ax.set_title('Memory Usage for GFF Annotations with the Old Approach');\n",
    "plt.savefig(\"Time-OldApproach.svg\", format=\"svg\")"
   ]
  },
  {
   "cell_type": "code",
   "execution_count": 39,
   "metadata": {},
   "outputs": [],
   "source": [
    "penguins = sns.load_dataset(\"penguins\")"
   ]
  },
  {
   "cell_type": "code",
   "execution_count": 40,
   "metadata": {},
   "outputs": [
    {
     "data": {
      "text/html": [
       "<div>\n",
       "<style scoped>\n",
       "    .dataframe tbody tr th:only-of-type {\n",
       "        vertical-align: middle;\n",
       "    }\n",
       "\n",
       "    .dataframe tbody tr th {\n",
       "        vertical-align: top;\n",
       "    }\n",
       "\n",
       "    .dataframe thead th {\n",
       "        text-align: right;\n",
       "    }\n",
       "</style>\n",
       "<table border=\"1\" class=\"dataframe\">\n",
       "  <thead>\n",
       "    <tr style=\"text-align: right;\">\n",
       "      <th></th>\n",
       "      <th>species</th>\n",
       "      <th>island</th>\n",
       "      <th>bill_length_mm</th>\n",
       "      <th>bill_depth_mm</th>\n",
       "      <th>flipper_length_mm</th>\n",
       "      <th>body_mass_g</th>\n",
       "      <th>sex</th>\n",
       "    </tr>\n",
       "  </thead>\n",
       "  <tbody>\n",
       "    <tr>\n",
       "      <th>0</th>\n",
       "      <td>Adelie</td>\n",
       "      <td>Torgersen</td>\n",
       "      <td>39.1</td>\n",
       "      <td>18.7</td>\n",
       "      <td>181.0</td>\n",
       "      <td>3750.0</td>\n",
       "      <td>Male</td>\n",
       "    </tr>\n",
       "    <tr>\n",
       "      <th>1</th>\n",
       "      <td>Adelie</td>\n",
       "      <td>Torgersen</td>\n",
       "      <td>39.5</td>\n",
       "      <td>17.4</td>\n",
       "      <td>186.0</td>\n",
       "      <td>3800.0</td>\n",
       "      <td>Female</td>\n",
       "    </tr>\n",
       "    <tr>\n",
       "      <th>2</th>\n",
       "      <td>Adelie</td>\n",
       "      <td>Torgersen</td>\n",
       "      <td>40.3</td>\n",
       "      <td>18.0</td>\n",
       "      <td>195.0</td>\n",
       "      <td>3250.0</td>\n",
       "      <td>Female</td>\n",
       "    </tr>\n",
       "    <tr>\n",
       "      <th>3</th>\n",
       "      <td>Adelie</td>\n",
       "      <td>Torgersen</td>\n",
       "      <td>NaN</td>\n",
       "      <td>NaN</td>\n",
       "      <td>NaN</td>\n",
       "      <td>NaN</td>\n",
       "      <td>NaN</td>\n",
       "    </tr>\n",
       "    <tr>\n",
       "      <th>4</th>\n",
       "      <td>Adelie</td>\n",
       "      <td>Torgersen</td>\n",
       "      <td>36.7</td>\n",
       "      <td>19.3</td>\n",
       "      <td>193.0</td>\n",
       "      <td>3450.0</td>\n",
       "      <td>Female</td>\n",
       "    </tr>\n",
       "    <tr>\n",
       "      <th>...</th>\n",
       "      <td>...</td>\n",
       "      <td>...</td>\n",
       "      <td>...</td>\n",
       "      <td>...</td>\n",
       "      <td>...</td>\n",
       "      <td>...</td>\n",
       "      <td>...</td>\n",
       "    </tr>\n",
       "    <tr>\n",
       "      <th>339</th>\n",
       "      <td>Gentoo</td>\n",
       "      <td>Biscoe</td>\n",
       "      <td>NaN</td>\n",
       "      <td>NaN</td>\n",
       "      <td>NaN</td>\n",
       "      <td>NaN</td>\n",
       "      <td>NaN</td>\n",
       "    </tr>\n",
       "    <tr>\n",
       "      <th>340</th>\n",
       "      <td>Gentoo</td>\n",
       "      <td>Biscoe</td>\n",
       "      <td>46.8</td>\n",
       "      <td>14.3</td>\n",
       "      <td>215.0</td>\n",
       "      <td>4850.0</td>\n",
       "      <td>Female</td>\n",
       "    </tr>\n",
       "    <tr>\n",
       "      <th>341</th>\n",
       "      <td>Gentoo</td>\n",
       "      <td>Biscoe</td>\n",
       "      <td>50.4</td>\n",
       "      <td>15.7</td>\n",
       "      <td>222.0</td>\n",
       "      <td>5750.0</td>\n",
       "      <td>Male</td>\n",
       "    </tr>\n",
       "    <tr>\n",
       "      <th>342</th>\n",
       "      <td>Gentoo</td>\n",
       "      <td>Biscoe</td>\n",
       "      <td>45.2</td>\n",
       "      <td>14.8</td>\n",
       "      <td>212.0</td>\n",
       "      <td>5200.0</td>\n",
       "      <td>Female</td>\n",
       "    </tr>\n",
       "    <tr>\n",
       "      <th>343</th>\n",
       "      <td>Gentoo</td>\n",
       "      <td>Biscoe</td>\n",
       "      <td>49.9</td>\n",
       "      <td>16.1</td>\n",
       "      <td>213.0</td>\n",
       "      <td>5400.0</td>\n",
       "      <td>Male</td>\n",
       "    </tr>\n",
       "  </tbody>\n",
       "</table>\n",
       "<p>344 rows × 7 columns</p>\n",
       "</div>"
      ],
      "text/plain": [
       "    species     island  bill_length_mm  bill_depth_mm  flipper_length_mm  \\\n",
       "0    Adelie  Torgersen            39.1           18.7              181.0   \n",
       "1    Adelie  Torgersen            39.5           17.4              186.0   \n",
       "2    Adelie  Torgersen            40.3           18.0              195.0   \n",
       "3    Adelie  Torgersen             NaN            NaN                NaN   \n",
       "4    Adelie  Torgersen            36.7           19.3              193.0   \n",
       "..      ...        ...             ...            ...                ...   \n",
       "339  Gentoo     Biscoe             NaN            NaN                NaN   \n",
       "340  Gentoo     Biscoe            46.8           14.3              215.0   \n",
       "341  Gentoo     Biscoe            50.4           15.7              222.0   \n",
       "342  Gentoo     Biscoe            45.2           14.8              212.0   \n",
       "343  Gentoo     Biscoe            49.9           16.1              213.0   \n",
       "\n",
       "     body_mass_g     sex  \n",
       "0         3750.0    Male  \n",
       "1         3800.0  Female  \n",
       "2         3250.0  Female  \n",
       "3            NaN     NaN  \n",
       "4         3450.0  Female  \n",
       "..           ...     ...  \n",
       "339          NaN     NaN  \n",
       "340       4850.0  Female  \n",
       "341       5750.0    Male  \n",
       "342       5200.0  Female  \n",
       "343       5400.0    Male  \n",
       "\n",
       "[344 rows x 7 columns]"
      ]
     },
     "execution_count": 40,
     "metadata": {},
     "output_type": "execute_result"
    }
   ],
   "source": [
    "penguins"
   ]
  },
  {
   "cell_type": "code",
   "execution_count": 45,
   "metadata": {},
   "outputs": [
    {
     "data": {
      "text/html": [
       "<div>\n",
       "<style scoped>\n",
       "    .dataframe tbody tr th:only-of-type {\n",
       "        vertical-align: middle;\n",
       "    }\n",
       "\n",
       "    .dataframe tbody tr th {\n",
       "        vertical-align: top;\n",
       "    }\n",
       "\n",
       "    .dataframe thead th {\n",
       "        text-align: right;\n",
       "    }\n",
       "</style>\n",
       "<table border=\"1\" class=\"dataframe\">\n",
       "  <thead>\n",
       "    <tr style=\"text-align: right;\">\n",
       "      <th></th>\n",
       "      <th>Load Seq</th>\n",
       "      <th>Annotate &amp; Query</th>\n",
       "      <th>Approach</th>\n",
       "    </tr>\n",
       "  </thead>\n",
       "  <tbody>\n",
       "    <tr>\n",
       "      <th>0</th>\n",
       "      <td>8.8</td>\n",
       "      <td>201.1</td>\n",
       "      <td>Old</td>\n",
       "    </tr>\n",
       "    <tr>\n",
       "      <th>1</th>\n",
       "      <td>9.0</td>\n",
       "      <td>5.1</td>\n",
       "      <td>New</td>\n",
       "    </tr>\n",
       "  </tbody>\n",
       "</table>\n",
       "</div>"
      ],
      "text/plain": [
       "   Load Seq  Annotate & Query Approach\n",
       "0       8.8             201.1      Old\n",
       "1       9.0               5.1      New"
      ]
     },
     "execution_count": 45,
     "metadata": {},
     "output_type": "execute_result"
    }
   ],
   "source": [
    "df"
   ]
  },
  {
   "cell_type": "code",
   "execution_count": 59,
   "metadata": {},
   "outputs": [
    {
     "data": {
      "text/plain": [
       "<seaborn.axisgrid.FacetGrid at 0x7fbc7bc3a2c0>"
      ]
     },
     "execution_count": 59,
     "metadata": {},
     "output_type": "execute_result"
    },
    {
     "data": {
      "image/png": "[encoded data removed]",
      "text/plain": [
       "<Figure size 475.625x360 with 1 Axes>"
      ]
     },
     "metadata": {},
     "output_type": "display_data"
    }
   ],
   "source": [
    "data = {'Approach':[\"New Approach\",\"New Approach\",\"Old Approach\",\"Old Approach\"],\"Operation\":[\"Load Seq\",\"Load Seq\",\"Annotate & Query\",\"Annotate & Query\"],\"Time\":[20,30,41,51]}\n",
    "df = pd.DataFrame(data)\n",
    "sns.catplot(df,x='Approach',y='Time',hue=\"Operation\",kind='bar')\n"
   ]
  },
  {
   "cell_type": "code",
   "execution_count": 48,
   "metadata": {},
   "outputs": [
    {
     "data": {
      "text/html": [
       "<div>\n",
       "<style scoped>\n",
       "    .dataframe tbody tr th:only-of-type {\n",
       "        vertical-align: middle;\n",
       "    }\n",
       "\n",
       "    .dataframe tbody tr th {\n",
       "        vertical-align: top;\n",
       "    }\n",
       "\n",
       "    .dataframe thead th {\n",
       "        text-align: right;\n",
       "    }\n",
       "</style>\n",
       "<table border=\"1\" class=\"dataframe\">\n",
       "  <thead>\n",
       "    <tr style=\"text-align: right;\">\n",
       "      <th></th>\n",
       "      <th>Load Seq</th>\n",
       "      <th>Annotate &amp; Query</th>\n",
       "    </tr>\n",
       "  </thead>\n",
       "  <tbody>\n",
       "    <tr>\n",
       "      <th>0</th>\n",
       "      <td>9.0</td>\n",
       "      <td>5.1</td>\n",
       "    </tr>\n",
       "  </tbody>\n",
       "</table>\n",
       "</div>"
      ],
      "text/plain": [
       "   Load Seq  Annotate & Query\n",
       "0       9.0               5.1"
      ]
     },
     "execution_count": 48,
     "metadata": {},
     "output_type": "execute_result"
    }
   ],
   "source": [
    "df"
   ]
  },
  {
   "cell_type": "code",
   "execution_count": null,
   "metadata": {},
   "outputs": [],
   "source": [
    "old_data = {'Old Approach':[132.1,717.2,1422.2],'New Approach':[152.5,631.7,711.8]}\n",
    "\n",
    "old_df = pd.DataFrame(old_data)\n",
    "\n",
    "fig, ax = plt.subplots()\n",
    "m = sns.lineplot(old_df,ax=ax,markers=True,linewidth = 3)\n",
    "\n",
    "ax.set_xticks(range(0,3));\n",
    "plt.legend(title='Memory Usage');  \n",
    "m.set_xticklabels(['Func Start','Load Seq','Annotate & Query'])\n",
    "ax.set(xlabel='Operation', ylabel='Memory in MiB')\n",
    "ax.set_title('Memory Usage for GFF Annotations');\n",
    "ax.lines[1].set_linestyle(\"-\")\n",
    "plt.savefig(\"Memory-Comparison.svg\", format=\"svg\")"
   ]
  }
 ],
 "metadata": {
  "kernelspec": {
   "display_name": "Python 3.10.0 ('c310dev')",
   "language": "python",
   "name": "python3"
  },
  "language_info": {
   "codemirror_mode": {
    "name": "ipython",
    "version": 3
   },
   "file_extension": ".py",
   "mimetype": "text/x-python",
   "name": "python",
   "nbconvert_exporter": "python",
   "pygments_lexer": "ipython3",
   "version": "3.10.0"
  },
  "orig_nbformat": 4,
  "vscode": {
   "interpreter": {
    "hash": "cdab2fb02dc4d68ed9e9d327e285305822cd116f79900361a665d6985eb56184"
   }
  }
 },
 "nbformat": 4,
 "nbformat_minor": 2
}
