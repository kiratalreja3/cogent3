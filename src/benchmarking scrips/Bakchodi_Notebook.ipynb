{
 "cells": [
  {
   "cell_type": "code",
   "execution_count": 2,
   "metadata": {},
   "outputs": [],
   "source": [
    "from cogent3 import DNA\n",
    "from cogent3.core.annotation import Feature\n",
    "example_seq = DNA.make_seq(\"CGAAACGTTTAGAGTGGGGG\", name=\"seq1\")"
   ]
  },
  {
   "cell_type": "code",
   "execution_count": null,
   "metadata": {},
   "outputs": [],
   "source": [
    "from cogent3.parse.genbank import Min"
   ]
  },
  {
   "cell_type": "code",
   "execution_count": 5,
   "metadata": {},
   "outputs": [
    {
     "data": {
      "text/plain": [
       "CDS \"ID4839\" at [3:10]/20"
      ]
     },
     "execution_count": 5,
     "metadata": {},
     "output_type": "execute_result"
    }
   ],
   "source": [
    "example_seq.add_feature(\"CDS\",\"ID4839\",[(3,10)])"
   ]
  },
  {
   "cell_type": "code",
   "execution_count": 6,
   "metadata": {},
   "outputs": [
    {
     "data": {
      "text/plain": [
       "[CDS \"ID4839\" at [3:10]/20]"
      ]
     },
     "execution_count": 6,
     "metadata": {},
     "output_type": "execute_result"
    }
   ],
   "source": [
    "example_seq.annotations"
   ]
  },
  {
   "cell_type": "code",
   "execution_count": 8,
   "metadata": {},
   "outputs": [
    {
     "data": {
      "text/plain": [
       "[CDS \"ID4839\" at [3:10]/20]"
      ]
     },
     "execution_count": 8,
     "metadata": {},
     "output_type": "execute_result"
    }
   ],
   "source": [
    "example_seq.get_annotations_matching(annotation_type=\"CDS\")"
   ]
  },
  {
   "cell_type": "code",
   "execution_count": 9,
   "metadata": {},
   "outputs": [],
   "source": [
    "from cogent3.parse.genbank import MinimalGenbankParser\n",
    "from cogent3 import open_\n",
    "path = \"/Users/kiratalreja/Downloads/NC_000913.3.gb\"\n",
    "with open_(path) as infile:\n",
    "    data = list(MinimalGenbankParser(infile.readlines()))\n"
   ]
  },
  {
   "cell_type": "code",
   "execution_count": 11,
   "metadata": {},
   "outputs": [],
   "source": []
  },
  {
   "cell_type": "code",
   "execution_count": 14,
   "metadata": {},
   "outputs": [
    {
     "data": {
      "text/plain": [
       "{'type': 'source',\n",
       " 'raw_location': ['1..4641652'],\n",
       " 'location': [<cogent3.parse.genbank.Location at 0x7febc97569e0>],\n",
       " 'organism': ['Escherichia coli str. K-12 substr. MG1655'],\n",
       " 'mol_type': ['genomic DNA'],\n",
       " 'strain': ['K-12'],\n",
       " 'sub_strain': ['MG1655'],\n",
       " 'db_xref': ['taxon:511145']}"
      ]
     },
     "execution_count": 14,
     "metadata": {},
     "output_type": "execute_result"
    }
   ],
   "source": []
  },
  {
   "cell_type": "code",
   "execution_count": 17,
   "metadata": {},
   "outputs": [],
   "source": [
    "from cogent3.parse.gff import gff_parser\n",
    "gff_path = \"/Users/kiratalreja/Downloads/prok_NoLocusTags.gff\"\n",
    "features = list(gff_parser(gff_path))\n"
   ]
  },
  {
   "cell_type": "code",
   "execution_count": 19,
   "metadata": {},
   "outputs": [
    {
     "data": {
      "text/plain": [
       "{'SeqID': 'sequence001',\n",
       " 'Source': 'mine',\n",
       " 'Type': 'gene',\n",
       " 'Start': 189,\n",
       " 'End': 255,\n",
       " 'Score': '.',\n",
       " 'Strand': '+',\n",
       " 'Phase': '.',\n",
       " 'Attributes': {'ID': 'gene0',\n",
       "  'Dbxref': 'ASAP:ABE-0000006',\n",
       "  'gene': 'thrL',\n",
       "  'gene_synonym': 'ECK0001'},\n",
       " 'Comments': None}"
      ]
     },
     "execution_count": 19,
     "metadata": {},
     "output_type": "execute_result"
    }
   ],
   "source": [
    "features[0]"
   ]
  },
  {
   "cell_type": "code",
   "execution_count": 20,
   "metadata": {},
   "outputs": [],
   "source": [
    "from Bio.Seq import Seq\n",
    "from Bio.SeqRecord import SeqRecord\n",
    "from Bio.SeqFeature import SeqFeature, FeatureLocation\n"
   ]
  },
  {
   "cell_type": "code",
   "execution_count": 27,
   "metadata": {},
   "outputs": [
    {
     "data": {
      "text/plain": [
       "[SeqFeature(FeatureLocation(ExactPosition(3), ExactPosition(10)), type='CDS')]"
      ]
     },
     "execution_count": 27,
     "metadata": {},
     "output_type": "execute_result"
    }
   ],
   "source": [
    "seq = SeqRecord(Seq(\"CGAAACGTTTAGAGTGGGGG\"),\n",
    "                 id=\"SampleID\", name=\"sequence001\",\n",
    "                 description=\"SampleRecord\")\n",
    "\n",
    "seq.features.append(SeqFeature(FeatureLocation(3,10), type=\"CDS\"))\n",
    "seq.features"
   ]
  },
  {
   "cell_type": "code",
   "execution_count": 31,
   "metadata": {},
   "outputs": [
    {
     "name": "stdout",
     "output_type": "stream",
     "text": [
      "[SeqFeature(FeatureLocation(ExactPosition(189), ExactPosition(255), strand=1), type='CDS', id='CDS0'), SeqFeature(FeatureLocation(ExactPosition(336), ExactPosition(2799), strand=1), type='CDS', id='CDS1'), SeqFeature(FeatureLocation(ExactPosition(2800), ExactPosition(3733), strand=1), type='CDS', id='CDS2'), SeqFeature(FeatureLocation(ExactPosition(3733), ExactPosition(5020), strand=1), type='CDS', id='CDS3'), SeqFeature(FeatureLocation(ExactPosition(6089), ExactPosition(6459), strand=-1), type='inferred_parent', id='gene4'), SeqFeature(FeatureLocation(ExactPosition(6528), ExactPosition(7959), strand=-1), type='CDS', id='CDS5')]\n"
     ]
    }
   ],
   "source": [
    "from BCBio import GFF\n",
    "\n",
    "in_file = \"/Users/kiratalreja/Downloads/prok_NoLocusTags.gff\"\n",
    "\n",
    "limit_info = dict(gff_type=[\"CDS\"])\n",
    "\n",
    "in_handle = open(in_file)\n",
    "for rec in GFF.parse(in_handle, limit_info=limit_info):\n",
    "    print(rec.features)\n",
    "in_handle.close()"
   ]
  },
  {
   "cell_type": "code",
   "execution_count": 34,
   "metadata": {},
   "outputs": [
    {
     "ename": "ValueError",
     "evalue": "numpy.ndarray size changed, may indicate binary incompatibility. Expected 96 from C header, got 88 from PyObject",
     "output_type": "error",
     "traceback": [
      "\u001b[0;31m---------------------------------------------------------------------------\u001b[0m",
      "\u001b[0;31mValueError\u001b[0m                                Traceback (most recent call last)",
      "\u001b[1;32m/Users/kiratalreja/repos/Cogent3/src/benchmarking scrips/Bakchodi_Notebook.ipynb Cell 14\u001b[0m in \u001b[0;36m<cell line: 2>\u001b[0;34m()\u001b[0m\n\u001b[1;32m      <a href='vscode-notebook-cell:/Users/kiratalreja/repos/Cogent3/src/benchmarking%20scrips/Bakchodi_Notebook.ipynb#X16sZmlsZQ%3D%3D?line=0'>1</a>\u001b[0m \u001b[39mfrom\u001b[39;00m \u001b[39mpprint\u001b[39;00m \u001b[39mimport\u001b[39;00m pprint\n\u001b[0;32m----> <a href='vscode-notebook-cell:/Users/kiratalreja/repos/Cogent3/src/benchmarking%20scrips/Bakchodi_Notebook.ipynb#X16sZmlsZQ%3D%3D?line=1'>2</a>\u001b[0m \u001b[39mfrom\u001b[39;00m \u001b[39mskbio\u001b[39;00m \u001b[39mimport\u001b[39;00m Sequence\n\u001b[1;32m      <a href='vscode-notebook-cell:/Users/kiratalreja/repos/Cogent3/src/benchmarking%20scrips/Bakchodi_Notebook.ipynb#X16sZmlsZQ%3D%3D?line=2'>3</a>\u001b[0m \u001b[39mfrom\u001b[39;00m \u001b[39mskbio\u001b[39;00m\u001b[39m.\u001b[39;00m\u001b[39mmetadata\u001b[39;00m \u001b[39mimport\u001b[39;00m IntervalMetadata\n\u001b[1;32m      <a href='vscode-notebook-cell:/Users/kiratalreja/repos/Cogent3/src/benchmarking%20scrips/Bakchodi_Notebook.ipynb#X16sZmlsZQ%3D%3D?line=4'>5</a>\u001b[0m interval_metadata \u001b[39m=\u001b[39m IntervalMetadata(\u001b[39m4\u001b[39m)\n",
      "File \u001b[0;32m~/opt/anaconda3/envs/c310dev/lib/python3.10/site-packages/skbio/__init__.py:11\u001b[0m, in \u001b[0;36m<module>\u001b[0;34m\u001b[0m\n\u001b[1;32m      1\u001b[0m \u001b[39m# ----------------------------------------------------------------------------\u001b[39;00m\n\u001b[1;32m      2\u001b[0m \u001b[39m# Copyright (c) 2013--, scikit-bio development team.\u001b[39;00m\n\u001b[1;32m      3\u001b[0m \u001b[39m#\u001b[39;00m\n\u001b[0;32m   (...)\u001b[0m\n\u001b[1;32m      9\u001b[0m \n\u001b[1;32m     10\u001b[0m \u001b[39m# Add skbio.io to sys.modules to prevent cycles in our imports\u001b[39;00m\n\u001b[0;32m---> 11\u001b[0m \u001b[39mimport\u001b[39;00m \u001b[39mskbio\u001b[39;00m\u001b[39m.\u001b[39;00m\u001b[39mio\u001b[39;00m  \u001b[39m# noqa\u001b[39;00m\n\u001b[1;32m     12\u001b[0m \u001b[39m# imports included for convenience\u001b[39;00m\n\u001b[1;32m     13\u001b[0m \u001b[39mfrom\u001b[39;00m \u001b[39mskbio\u001b[39;00m\u001b[39m.\u001b[39;00m\u001b[39msequence\u001b[39;00m \u001b[39mimport\u001b[39;00m Sequence, DNA, RNA, Protein, GeneticCode\n",
      "File \u001b[0;32m~/opt/anaconda3/envs/c310dev/lib/python3.10/site-packages/skbio/io/__init__.py:243\u001b[0m, in \u001b[0;36m<module>\u001b[0;34m\u001b[0m\n\u001b[1;32m    241\u001b[0m import_module(\u001b[39m'\u001b[39m\u001b[39mskbio.io.format.blast6\u001b[39m\u001b[39m'\u001b[39m)\n\u001b[1;32m    242\u001b[0m import_module(\u001b[39m'\u001b[39m\u001b[39mskbio.io.format.blast7\u001b[39m\u001b[39m'\u001b[39m)\n\u001b[0;32m--> 243\u001b[0m import_module(\u001b[39m'\u001b[39;49m\u001b[39mskbio.io.format.clustal\u001b[39;49m\u001b[39m'\u001b[39;49m)\n\u001b[1;32m    244\u001b[0m import_module(\u001b[39m'\u001b[39m\u001b[39mskbio.io.format.embl\u001b[39m\u001b[39m'\u001b[39m)\n\u001b[1;32m    245\u001b[0m import_module(\u001b[39m'\u001b[39m\u001b[39mskbio.io.format.fasta\u001b[39m\u001b[39m'\u001b[39m)\n",
      "File \u001b[0;32m~/opt/anaconda3/envs/c310dev/lib/python3.10/importlib/__init__.py:126\u001b[0m, in \u001b[0;36mimport_module\u001b[0;34m(name, package)\u001b[0m\n\u001b[1;32m    124\u001b[0m             \u001b[39mbreak\u001b[39;00m\n\u001b[1;32m    125\u001b[0m         level \u001b[39m+\u001b[39m\u001b[39m=\u001b[39m \u001b[39m1\u001b[39m\n\u001b[0;32m--> 126\u001b[0m \u001b[39mreturn\u001b[39;00m _bootstrap\u001b[39m.\u001b[39;49m_gcd_import(name[level:], package, level)\n",
      "File \u001b[0;32m~/opt/anaconda3/envs/c310dev/lib/python3.10/site-packages/skbio/io/format/clustal.py:148\u001b[0m, in \u001b[0;36m<module>\u001b[0;34m\u001b[0m\n\u001b[1;32m    139\u001b[0m \u001b[39m# ----------------------------------------------------------------------------\u001b[39;00m\n\u001b[1;32m    140\u001b[0m \u001b[39m# Copyright (c) 2013--, scikit-bio development team.\u001b[39;00m\n\u001b[1;32m    141\u001b[0m \u001b[39m#\u001b[39;00m\n\u001b[0;32m   (...)\u001b[0m\n\u001b[1;32m    144\u001b[0m \u001b[39m# The full license is in the file COPYING.txt, distributed with this software.\u001b[39;00m\n\u001b[1;32m    145\u001b[0m \u001b[39m# ----------------------------------------------------------------------------\u001b[39;00m\n\u001b[1;32m    147\u001b[0m \u001b[39mfrom\u001b[39;00m \u001b[39mskbio\u001b[39;00m\u001b[39m.\u001b[39;00m\u001b[39mio\u001b[39;00m \u001b[39mimport\u001b[39;00m create_format, ClustalFormatError\n\u001b[0;32m--> 148\u001b[0m \u001b[39mfrom\u001b[39;00m \u001b[39mskbio\u001b[39;00m\u001b[39m.\u001b[39;00m\u001b[39malignment\u001b[39;00m \u001b[39mimport\u001b[39;00m TabularMSA\n\u001b[1;32m    151\u001b[0m clustal \u001b[39m=\u001b[39m create_format(\u001b[39m'\u001b[39m\u001b[39mclustal\u001b[39m\u001b[39m'\u001b[39m)\n\u001b[1;32m    154\u001b[0m \u001b[39mdef\u001b[39;00m \u001b[39m_label_line_parser\u001b[39m(record):\n",
      "File \u001b[0;32m~/opt/anaconda3/envs/c310dev/lib/python3.10/site-packages/skbio/alignment/__init__.py:204\u001b[0m, in \u001b[0;36m<module>\u001b[0;34m\u001b[0m\n\u001b[1;32m    195\u001b[0m \u001b[39m# ----------------------------------------------------------------------------\u001b[39;00m\n\u001b[1;32m    196\u001b[0m \u001b[39m# Copyright (c) 2013--, scikit-bio development team.\u001b[39;00m\n\u001b[1;32m    197\u001b[0m \u001b[39m#\u001b[39;00m\n\u001b[0;32m   (...)\u001b[0m\n\u001b[1;32m    200\u001b[0m \u001b[39m# The full license is in the file COPYING.txt, distributed with this software.\u001b[39;00m\n\u001b[1;32m    201\u001b[0m \u001b[39m# ----------------------------------------------------------------------------\u001b[39;00m\n\u001b[1;32m    203\u001b[0m \u001b[39mfrom\u001b[39;00m \u001b[39m.\u001b[39;00m\u001b[39m_tabular_msa\u001b[39;00m \u001b[39mimport\u001b[39;00m TabularMSA\n\u001b[0;32m--> 204\u001b[0m \u001b[39mfrom\u001b[39;00m \u001b[39m.\u001b[39;00m\u001b[39m_pairwise\u001b[39;00m \u001b[39mimport\u001b[39;00m (\n\u001b[1;32m    205\u001b[0m     local_pairwise_align_nucleotide, local_pairwise_align_protein,\n\u001b[1;32m    206\u001b[0m     local_pairwise_align, global_pairwise_align_nucleotide,\n\u001b[1;32m    207\u001b[0m     global_pairwise_align_protein, global_pairwise_align,\n\u001b[1;32m    208\u001b[0m     make_identity_substitution_matrix, local_pairwise_align_ssw\n\u001b[1;32m    209\u001b[0m )\n\u001b[1;32m    210\u001b[0m \u001b[39mfrom\u001b[39;00m \u001b[39mskbio\u001b[39;00m\u001b[39m.\u001b[39;00m\u001b[39malignment\u001b[39;00m\u001b[39m.\u001b[39;00m\u001b[39m_ssw_wrapper\u001b[39;00m \u001b[39mimport\u001b[39;00m (\n\u001b[1;32m    211\u001b[0m     StripedSmithWaterman, AlignmentStructure)\n\u001b[1;32m    213\u001b[0m __all__ \u001b[39m=\u001b[39m [\u001b[39m'\u001b[39m\u001b[39mTabularMSA\u001b[39m\u001b[39m'\u001b[39m, \u001b[39m'\u001b[39m\u001b[39mStripedSmithWaterman\u001b[39m\u001b[39m'\u001b[39m, \u001b[39m'\u001b[39m\u001b[39mAlignmentStructure\u001b[39m\u001b[39m'\u001b[39m,\n\u001b[1;32m    214\u001b[0m            \u001b[39m'\u001b[39m\u001b[39mlocal_pairwise_align_ssw\u001b[39m\u001b[39m'\u001b[39m, \u001b[39m'\u001b[39m\u001b[39mglobal_pairwise_align\u001b[39m\u001b[39m'\u001b[39m,\n\u001b[1;32m    215\u001b[0m            \u001b[39m'\u001b[39m\u001b[39mglobal_pairwise_align_nucleotide\u001b[39m\u001b[39m'\u001b[39m, \u001b[39m'\u001b[39m\u001b[39mglobal_pairwise_align_protein\u001b[39m\u001b[39m'\u001b[39m,\n\u001b[1;32m    216\u001b[0m            \u001b[39m'\u001b[39m\u001b[39mlocal_pairwise_align\u001b[39m\u001b[39m'\u001b[39m, \u001b[39m'\u001b[39m\u001b[39mlocal_pairwise_align_nucleotide\u001b[39m\u001b[39m'\u001b[39m,\n\u001b[1;32m    217\u001b[0m            \u001b[39m'\u001b[39m\u001b[39mlocal_pairwise_align_protein\u001b[39m\u001b[39m'\u001b[39m, \u001b[39m'\u001b[39m\u001b[39mmake_identity_substitution_matrix\u001b[39m\u001b[39m'\u001b[39m]\n",
      "File \u001b[0;32m~/opt/anaconda3/envs/c310dev/lib/python3.10/site-packages/skbio/alignment/_pairwise.py:15\u001b[0m, in \u001b[0;36m<module>\u001b[0;34m\u001b[0m\n\u001b[1;32m     12\u001b[0m \u001b[39mimport\u001b[39;00m \u001b[39mnumpy\u001b[39;00m \u001b[39mas\u001b[39;00m \u001b[39mnp\u001b[39;00m\n\u001b[1;32m     14\u001b[0m \u001b[39mfrom\u001b[39;00m \u001b[39mskbio\u001b[39;00m\u001b[39m.\u001b[39;00m\u001b[39malignment\u001b[39;00m \u001b[39mimport\u001b[39;00m TabularMSA\n\u001b[0;32m---> 15\u001b[0m \u001b[39mfrom\u001b[39;00m \u001b[39mskbio\u001b[39;00m\u001b[39m.\u001b[39;00m\u001b[39malignment\u001b[39;00m\u001b[39m.\u001b[39;00m\u001b[39m_ssw_wrapper\u001b[39;00m \u001b[39mimport\u001b[39;00m StripedSmithWaterman\n\u001b[1;32m     16\u001b[0m \u001b[39mfrom\u001b[39;00m \u001b[39mskbio\u001b[39;00m\u001b[39m.\u001b[39;00m\u001b[39msequence\u001b[39;00m \u001b[39mimport\u001b[39;00m DNA, RNA, Protein\n\u001b[1;32m     17\u001b[0m \u001b[39mfrom\u001b[39;00m \u001b[39mskbio\u001b[39;00m\u001b[39m.\u001b[39;00m\u001b[39msequence\u001b[39;00m \u001b[39mimport\u001b[39;00m GrammaredSequence\n",
      "File \u001b[0;32mskbio/alignment/_ssw_wrapper.pyx:1\u001b[0m, in \u001b[0;36minit skbio.alignment._ssw_wrapper\u001b[0;34m()\u001b[0m\n",
      "\u001b[0;31mValueError\u001b[0m: numpy.ndarray size changed, may indicate binary incompatibility. Expected 96 from C header, got 88 from PyObject"
     ]
    }
   ],
   "source": [
    "from skbio import Sequence\n",
    "from skbio.metadata import IntervalMetadata\n",
    "\n",
    "interval_metadata = IntervalMetadata(4)\n",
    "interval = interval_metadata.add([(1, 3)], metadata={'gene': 'sagA'})\n",
    "seq = Sequence('CGAAACGTTTAGAGTGGGGG', interval_metadata=interval_metadata)"
   ]
  },
  {
   "cell_type": "code",
   "execution_count": 35,
   "metadata": {},
   "outputs": [
    {
     "ename": "NameError",
     "evalue": "name 'Sequence' is not defined",
     "output_type": "error",
     "traceback": [
      "\u001b[0;31m---------------------------------------------------------------------------\u001b[0m",
      "\u001b[0;31mNameError\u001b[0m                                 Traceback (most recent call last)",
      "\u001b[1;32m/Users/kiratalreja/repos/Cogent3/src/benchmarking scrips/Bakchodi_Notebook.ipynb Cell 15\u001b[0m in \u001b[0;36m<cell line: 1>\u001b[0;34m()\u001b[0m\n\u001b[0;32m----> <a href='vscode-notebook-cell:/Users/kiratalreja/repos/Cogent3/src/benchmarking%20scrips/Bakchodi_Notebook.ipynb#X20sZmlsZQ%3D%3D?line=0'>1</a>\u001b[0m seq \u001b[39m=\u001b[39m Sequence(\u001b[39m'\u001b[39m\u001b[39mACGT\u001b[39m\u001b[39m'\u001b[39m, interval_metadata\u001b[39m=\u001b[39minterval_metadata)\n",
      "\u001b[0;31mNameError\u001b[0m: name 'Sequence' is not defined"
     ]
    }
   ],
   "source": []
  }
 ],
 "metadata": {
  "kernelspec": {
   "display_name": "Python 3.10.0 ('c310dev')",
   "language": "python",
   "name": "python3"
  },
  "language_info": {
   "codemirror_mode": {
    "name": "ipython",
    "version": 3
   },
   "file_extension": ".py",
   "mimetype": "text/x-python",
   "name": "python",
   "nbconvert_exporter": "python",
   "pygments_lexer": "ipython3",
   "version": "3.10.0"
  },
  "orig_nbformat": 4,
  "vscode": {
   "interpreter": {
    "hash": "cdab2fb02dc4d68ed9e9d327e285305822cd116f79900361a665d6985eb56184"
   }
  }
 },
 "nbformat": 4,
 "nbformat_minor": 2
}
