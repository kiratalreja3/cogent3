{
 "cells": [
  {
   "cell_type": "code",
   "execution_count": 1,
   "metadata": {},
   "outputs": [],
   "source": [
    "import big_o\n",
    "from cogent3 import load_unaligned_seqs\n",
    "from cogent3.parse.gff import gff_parser\n",
    "\n",
    "def old_approach(n):\n",
    "    def fix_gff(gff):\n",
    "        return [r for r in gff if r[\"Attributes\"]['ID']]\n",
    "\n",
    "    fasta_path = \"/Users/kiratalreja/Downloads/Homo_sapiens.GRCh38.dna.chromosome.1.fa\"\n",
    "    gff3_path = \"/Users/kiratalreja/Downloads/Homo_sapiens.GRCh38.108.chromosome.1.gff3\"\n",
    "\n",
    "    gff= list(gff_parser(gff3_path))\n",
    "    gff = fix_gff(gff)\n",
    "\n",
    "    seqs = load_unaligned_seqs(fasta_path,moltype='dna')\n",
    "\n",
    "    seq = seqs.seqs[0]\n",
    "    seq.name = \"1\"\n",
    "\n",
    "    seq.annotate_from_gff(gff[:n], pre_parsed=True)\n",
    "    seq.get_annotations_matching(\"gene\")\n",
    "\n"
   ]
  },
  {
   "cell_type": "code",
   "execution_count": 2,
   "metadata": {},
   "outputs": [],
   "source": [
    "import time"
   ]
  },
  {
   "cell_type": "code",
   "execution_count": 3,
   "metadata": {},
   "outputs": [],
   "source": [
    "list_of_values = [500,5000,10000,20000,50000,75000,10000,125000,150000]"
   ]
  },
  {
   "cell_type": "code",
   "execution_count": 4,
   "metadata": {},
   "outputs": [],
   "source": [
    "def time_complex_old():\n",
    "    list_of_values = [500,5000,10000,20000,50000,75000,10000,125000,150000]\n",
    "    time_values = []\n",
    "\n",
    "    for x in list_of_values:\n",
    "        start_time = time.time()\n",
    "        old_approach(x)\n",
    "        total_time = time.time() - start_time\n",
    "        time_values.append(total_time)\n",
    "    \n",
    "    return time_values\n"
   ]
  },
  {
   "cell_type": "code",
   "execution_count": 5,
   "metadata": {},
   "outputs": [],
   "source": [
    "time_vals = time_complex_old()"
   ]
  },
  {
   "cell_type": "code",
   "execution_count": 6,
   "metadata": {},
   "outputs": [
    {
     "data": {
      "text/plain": [
       "[6.3709187507629395,\n",
       " 6.281629800796509,\n",
       " 6.482350826263428,\n",
       " 7.37664794921875,\n",
       " 11.341248989105225,\n",
       " 18.09328007698059,\n",
       " 7.0363709926605225,\n",
       " 29.567528009414673,\n",
       " 29.535876750946045]"
      ]
     },
     "execution_count": 6,
     "metadata": {},
     "output_type": "execute_result"
    }
   ],
   "source": [
    "time_vals"
   ]
  },
  {
   "cell_type": "code",
   "execution_count": 7,
   "metadata": {},
   "outputs": [],
   "source": [
    "import gc\n",
    "from cogent3.core.annotation import GffAnnotationDb\n",
    "from cogent3 import load_unaligned_seqs\n",
    "\n",
    "def new_approach(x):\n",
    "    gff_path = '/Users/kiratalreja/Downloads/Homo_sapiens.GRCh38.108.chromosome.1.gff3'\n",
    "    db = GffAnnotationDb(x,gff_path)\n",
    "\n",
    "\n",
    "    fasta_path = \"/Users/kiratalreja/Downloads/Homo_sapiens.GRCh38.dna.chromosome.1.fa\"\n",
    "    seqs = load_unaligned_seqs(fasta_path,moltype='dna')\n",
    "    seq = seqs.seqs[0]\n",
    "    seq.name = \"1\"\n",
    "\n",
    "    seq.annotate_from_db(db,bio_type=\"gene\")\n",
    "    seq.get_annotations_matching(\"gene\")"
   ]
  },
  {
   "cell_type": "code",
   "execution_count": 9,
   "metadata": {},
   "outputs": [],
   "source": [
    "def time_complex_old():\n",
    "    list_of_values = [500,5000,10000,20000,50000,75000,10000,125000,150000]\n",
    "    time_values = []\n",
    "\n",
    "    for x in list_of_values:\n",
    "        start_time = time.time()\n",
    "        new_approach(x)\n",
    "        total_time = time.time() - start_time\n",
    "        time_values.append(total_time)\n",
    "    \n",
    "    return time_values\n"
   ]
  },
  {
   "cell_type": "code",
   "execution_count": 10,
   "metadata": {},
   "outputs": [
    {
     "data": {
      "text/plain": [
       "[6.3203041553497314,\n",
       " 5.8464319705963135,\n",
       " 5.7617878913879395,\n",
       " 6.120270252227783,\n",
       " 6.380418062210083,\n",
       " 6.391735076904297,\n",
       " 5.717872858047485,\n",
       " 6.517808198928833,\n",
       " 8.282279014587402]"
      ]
     },
     "execution_count": 10,
     "metadata": {},
     "output_type": "execute_result"
    }
   ],
   "source": [
    "time_vals = time_complex_old()\n",
    "time_vals"
   ]
  }
 ],
 "metadata": {
  "kernelspec": {
   "display_name": "Python 3.10.0 ('c310dev')",
   "language": "python",
   "name": "python3"
  },
  "language_info": {
   "codemirror_mode": {
    "name": "ipython",
    "version": 3
   },
   "file_extension": ".py",
   "mimetype": "text/x-python",
   "name": "python",
   "nbconvert_exporter": "python",
   "pygments_lexer": "ipython3",
   "version": "3.10.0"
  },
  "orig_nbformat": 4,
  "vscode": {
   "interpreter": {
    "hash": "cdab2fb02dc4d68ed9e9d327e285305822cd116f79900361a665d6985eb56184"
   }
  }
 },
 "nbformat": 4,
 "nbformat_minor": 2
}
