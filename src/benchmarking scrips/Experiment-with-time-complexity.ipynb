{
 "cells": [
  {
   "cell_type": "code",
   "execution_count": 2,
   "metadata": {},
   "outputs": [],
   "source": [
    "import big_o\n",
    "from cogent3 import load_unaligned_seqs\n",
    "from cogent3.parse.gff import gff_parser\n",
    "\n",
    "def old_approach(n):\n",
    "    def fix_gff(gff):\n",
    "        return [r for r in gff if r[\"Attributes\"]['ID']]\n",
    "\n",
    "    fasta_path = \"/Users/kiratalreja/Downloads/Homo_sapiens.GRCh38.dna.chromosome.1.fa\"\n",
    "    gff3_path = \"/Users/kiratalreja/Downloads/Homo_sapiens.GRCh38.108.chromosome.1.gff3\"\n",
    "\n",
    "    gff= list(gff_parser(gff3_path))\n",
    "    gff = fix_gff(gff)\n",
    "\n",
    "    seqs = load_unaligned_seqs(fasta_path,moltype='dna')\n",
    "\n",
    "    seq = seqs.seqs[0]\n",
    "    seq.name = \"1\"\n",
    "\n",
    "    seq.annotate_from_gff(gff[:5], pre_parsed=True)\n",
    "    seq.get_annotations_matching(\"gene\")\n",
    "\n",
    "positive_int_generator = lambda n: big_o.datagen.integers(n,5,111534)\n",
    "best,others = big_o.big_o(old_approach,positive_int_generator,n_repeats=5)\n",
    "print(best)"
   ]
  },
  {
   "cell_type": "code",
   "execution_count": null,
   "metadata": {},
   "outputs": [],
   "source": []
  }
 ],
 "metadata": {
  "kernelspec": {
   "display_name": "Python 3.10.0 ('c310dev')",
   "language": "python",
   "name": "python3"
  },
  "language_info": {
   "codemirror_mode": {
    "name": "ipython",
    "version": 3
   },
   "file_extension": ".py",
   "mimetype": "text/x-python",
   "name": "python",
   "nbconvert_exporter": "python",
   "pygments_lexer": "ipython3",
   "version": "3.10.0"
  },
  "orig_nbformat": 4,
  "vscode": {
   "interpreter": {
    "hash": "cdab2fb02dc4d68ed9e9d327e285305822cd116f79900361a665d6985eb56184"
   }
  }
 },
 "nbformat": 4,
 "nbformat_minor": 2
}
