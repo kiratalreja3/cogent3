{
 "cells": [
  {
   "cell_type": "code",
   "execution_count": 1,
   "metadata": {},
   "outputs": [],
   "source": [
    "def old_approach():\n",
    "    from cogent3 import load_unaligned_seqs\n",
    "    genbank_path = \"/Users/kiratalreja/Downloads/NC_000913.3.gb\"\n",
    "    seqs = load_unaligned_seqs(genbank_path, moltype=\"dna\")\n",
    "    seq = seqs.seqs[0]\n",
    "    seq.get_annotations_matching(\"gene\")"
   ]
  },
  {
   "cell_type": "code",
   "execution_count": 1,
   "metadata": {},
   "outputs": [
    {
     "name": "stdout",
     "output_type": "stream",
     "text": [
      "Timer unit: 1e-06 s\n",
      "\n",
      "Total time: 2.37073 s\n",
      "File: /var/folders/9m/2qrm1rks6j10fm9tjjlf3bs80000gn/T/ipykernel_46375/2850715012.py\n",
      "Function: new_approach at line 1\n",
      "\n",
      "Line #      Hits         Time  Per Hit   % Time  Line Contents\n",
      "==============================================================\n",
      "     1                                           def new_approach():\n",
      "     2         1          3.0      3.0      0.0      from cogent3.core.annotation_db import GenbankAnnotationDb\n",
      "     3         1          0.0      0.0      0.0      genbank_path = \"/Users/kiratalreja/Downloads/NC_000913.3.gb\"\n",
      "     4         1    2318459.0 2318459.0     97.8      db = GenbankAnnotationDb(genbank_path)\n",
      "     5         1      52269.0  52269.0      2.2      db.find_records(bio_type='gene')"
     ]
    }
   ],
   "source": [
    "def new_approach():\n",
    "    from cogent3.core.annotation_db import GenbankAnnotationDb\n",
    "    genbank_path = \"/Users/kiratalreja/Downloads/NC_000913.3.gb\"\n",
    "    db = GenbankAnnotationDb(genbank_path)\n",
    "    db.find_records(bio_type='gene')\n",
    "%load_ext line_profiler\n",
    "%lprun -f new_approach new_approach()\n",
    "%lprun -f new_approach new_approach()"
   ]
  },
  {
   "cell_type": "code",
   "execution_count": 5,
   "metadata": {},
   "outputs": [],
   "source": [
    "%load_ext line_profiler"
   ]
  },
  {
   "cell_type": "code",
   "execution_count": 3,
   "metadata": {},
   "outputs": [],
   "source": []
  },
  {
   "cell_type": "code",
   "execution_count": 6,
   "metadata": {},
   "outputs": [
    {
     "name": "stdout",
     "output_type": "stream",
     "text": [
      "Timer unit: 1e-06 s\n",
      "\n",
      "Total time: 2.27622 s\n",
      "File: /var/folders/9m/2qrm1rks6j10fm9tjjlf3bs80000gn/T/ipykernel_45846/2768993887.py\n",
      "Function: new_approach at line 1\n",
      "\n",
      "Line #      Hits         Time  Per Hit   % Time  Line Contents\n",
      "==============================================================\n",
      "     1                                           def new_approach():\n",
      "     2         1         16.0     16.0      0.0      from cogent3.core.annotation_db import GenbankAnnotationDb\n",
      "     3         1          1.0      1.0      0.0      genbank_path = \"/Users/kiratalreja/Downloads/NC_000913.3.gb\"\n",
      "     4         1    2276005.0 2276005.0    100.0      db = GenbankAnnotationDb(genbank_path)\n",
      "     5         1        198.0    198.0      0.0      db.find_records(bio_type='gene')"
     ]
    }
   ],
   "source": [
    "%lprun -f new_approach new_approach()"
   ]
  },
  {
   "cell_type": "code",
   "execution_count": 4,
   "metadata": {},
   "outputs": [],
   "source": [
    "from cogent3.core.annotation_db import GenbankAnnotationDb\n",
    "from cogent3 import open_\n",
    "from cogent3.parse.genbank import MinimalGenbankParser\n",
    "genbank_path = \"/Users/kiratalreja/Downloads/NC_000913.3.gb\"\n",
    "db = GenbankAnnotationDb(genbank_path)\n",
    "with open_(genbank_path) as infile:\n",
    "    data = list(MinimalGenbankParser(infile.readlines()))\n",
    "record = data[0]"
   ]
  },
  {
   "cell_type": "code",
   "execution_count": 5,
   "metadata": {},
   "outputs": [
    {
     "data": {
      "text/plain": [
       "9261"
      ]
     },
     "execution_count": 5,
     "metadata": {},
     "output_type": "execute_result"
    }
   ],
   "source": [
    "len(record['features'])"
   ]
  }
 ],
 "metadata": {
  "kernelspec": {
   "display_name": "Python 3.10.0 ('c310dev')",
   "language": "python",
   "name": "python3"
  },
  "language_info": {
   "codemirror_mode": {
    "name": "ipython",
    "version": 3
   },
   "file_extension": ".py",
   "mimetype": "text/x-python",
   "name": "python",
   "nbconvert_exporter": "python",
   "pygments_lexer": "ipython3",
   "version": "3.10.0"
  },
  "orig_nbformat": 4,
  "vscode": {
   "interpreter": {
    "hash": "cdab2fb02dc4d68ed9e9d327e285305822cd116f79900361a665d6985eb56184"
   }
  }
 },
 "nbformat": 4,
 "nbformat_minor": 2
}
