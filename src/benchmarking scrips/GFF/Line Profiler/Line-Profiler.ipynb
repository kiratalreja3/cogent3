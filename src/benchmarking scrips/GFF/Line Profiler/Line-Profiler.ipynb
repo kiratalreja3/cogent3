{
 "cells": [
  {
   "cell_type": "code",
   "execution_count": 1,
   "metadata": {},
   "outputs": [],
   "source": [
    "def new_approach():\n",
    "    from memory_profiler import profile\n",
    "    from cogent3.core.annotation import GffAnnotationDb\n",
    "    from cogent3 import load_unaligned_seqs\n",
    "\n",
    "    gff_path = '/Users/kiratalreja/Downloads/Homo_sapiens.GRCh38.108.chromosome.1.gff3'\n",
    "    db = GffAnnotationDb(gff_path)\n",
    "\n",
    "\n",
    "    fasta_path = \"/Users/kiratalreja/Downloads/Homo_sapiens.GRCh38.dna.chromosome.1.fa\"\n",
    "    seqs = load_unaligned_seqs(fasta_path,moltype='dna')\n",
    "    seq = seqs.seqs[0]\n",
    "    seq.name = \"1\"\n",
    "\n",
    "    seq.annotate_from_db(db,bio_type=\"gene\")\n",
    "    seq.get_annotations_matching(\"gene\")"
   ]
  },
  {
   "cell_type": "code",
   "execution_count": 2,
   "metadata": {},
   "outputs": [],
   "source": [
    "def old_approach():\n",
    "    from memory_profiler import profile\n",
    "    from cogent3 import load_unaligned_seqs\n",
    "    from cogent3.parse.gff import gff_parser\n",
    "    def fix_gff(gff):\n",
    "        return [r for r in gff if r[\"Attributes\"]['ID']]\n",
    "\n",
    "    fasta_path = \"/Users/kiratalreja/Downloads/Homo_sapiens.GRCh38.dna.chromosome.1.fa\"\n",
    "    gff3_path = \"/Users/kiratalreja/Downloads/Homo_sapiens.GRCh38.108.chromosome.1.gff3\"\n",
    "\n",
    "    gff= list(gff_parser(gff3_path))\n",
    "    gff = fix_gff(gff)\n",
    "\n",
    "    seqs = load_unaligned_seqs(fasta_path,moltype='dna')\n",
    "\n",
    "    seq = seqs.seqs[0]\n",
    "    seq.name = \"1\"\n",
    "\n",
    "    seq.annotate_from_gff(gff, pre_parsed=True)\n",
    "    seq.get_annotations_matching(\"gene\")"
   ]
  },
  {
   "cell_type": "code",
   "execution_count": 3,
   "metadata": {},
   "outputs": [],
   "source": [
    "%load_ext line_profiler"
   ]
  },
  {
   "cell_type": "code",
   "execution_count": 4,
   "metadata": {},
   "outputs": [
    {
     "name": "stdout",
     "output_type": "stream",
     "text": [
      "Timer unit: 1e-06 s\n",
      "\n",
      "Total time: 22.5363 s\n",
      "File: /var/folders/9m/2qrm1rks6j10fm9tjjlf3bs80000gn/T/ipykernel_88071/3405961027.py\n",
      "Function: new_approach at line 1\n",
      "\n",
      "Line #      Hits         Time  Per Hit   % Time  Line Contents\n",
      "==============================================================\n",
      "     1                                           def new_approach():\n",
      "     2         1       9043.0   9043.0      0.0      from memory_profiler import profile\n",
      "     3         1    2034987.0 2034987.0      9.0      from cogent3.core.annotation import GffAnnotationDb\n",
      "     4         1          5.0      5.0      0.0      from cogent3 import load_unaligned_seqs\n",
      "     5                                           \n",
      "     6         1          0.0      0.0      0.0      gff_path = '/Users/kiratalreja/Downloads/Homo_sapiens.GRCh38.108.chromosome.1.gff3'\n",
      "     7         1   10977180.0 10977180.0     48.7      db = GffAnnotationDb(gff_path)\n",
      "     8                                           \n",
      "     9                                           \n",
      "    10         1          1.0      1.0      0.0      fasta_path = \"/Users/kiratalreja/Downloads/Homo_sapiens.GRCh38.dna.chromosome.1.fa\"\n",
      "    11         1    9268508.0 9268508.0     41.1      seqs = load_unaligned_seqs(fasta_path,moltype='dna')\n",
      "    12         1         12.0     12.0      0.0      seq = seqs.seqs[0]\n",
      "    13         1          1.0      1.0      0.0      seq.name = \"1\"\n",
      "    14                                           \n",
      "    15         1     240367.0 240367.0      1.1      seq.annotate_from_db(db,bio_type=\"gene\")\n",
      "    16         1       6200.0   6200.0      0.0      seq.get_annotations_matching(\"gene\")"
     ]
    }
   ],
   "source": [
    "%lprun -f new_approach new_approach()"
   ]
  },
  {
   "cell_type": "code",
   "execution_count": 5,
   "metadata": {},
   "outputs": [
    {
     "name": "stdout",
     "output_type": "stream",
     "text": [
      "Timer unit: 1e-06 s\n",
      "\n",
      "Total time: 215.664 s\n",
      "File: /var/folders/9m/2qrm1rks6j10fm9tjjlf3bs80000gn/T/ipykernel_88071/4266429273.py\n",
      "Function: old_approach at line 1\n",
      "\n",
      "Line #      Hits         Time  Per Hit   % Time  Line Contents\n",
      "==============================================================\n",
      "     1                                           def old_approach():\n",
      "     2         1         11.0     11.0      0.0      from memory_profiler import profile\n",
      "     3         1         24.0     24.0      0.0      from cogent3 import load_unaligned_seqs\n",
      "     4         1         19.0     19.0      0.0      from cogent3.parse.gff import gff_parser\n",
      "     5         1          1.0      1.0      0.0      def fix_gff(gff):\n",
      "     6                                                   return [r for r in gff if r[\"Attributes\"]['ID']]\n",
      "     7                                           \n",
      "     8         1          1.0      1.0      0.0      fasta_path = \"/Users/kiratalreja/Downloads/Homo_sapiens.GRCh38.dna.chromosome.1.fa\"\n",
      "     9         1          1.0      1.0      0.0      gff3_path = \"/Users/kiratalreja/Downloads/Homo_sapiens.GRCh38.108.chromosome.1.gff3\"\n",
      "    10                                           \n",
      "    11         1    5683981.0 5683981.0      2.6      gff= list(gff_parser(gff3_path))\n",
      "    12         1     128850.0 128850.0      0.1      gff = fix_gff(gff)\n",
      "    13                                           \n",
      "    14         1    8847768.0 8847768.0      4.1      seqs = load_unaligned_seqs(fasta_path,moltype='dna')\n",
      "    15                                           \n",
      "    16         1          7.0      7.0      0.0      seq = seqs.seqs[0]\n",
      "    17         1          1.0      1.0      0.0      seq.name = \"1\"\n",
      "    18                                           \n",
      "    19         1  200988327.0 200988327.0     93.2      seq.annotate_from_gff(gff, pre_parsed=True)\n",
      "    20         1      15081.0  15081.0      0.0      seq.get_annotations_matching(\"gene\")"
     ]
    }
   ],
   "source": [
    "%lprun -f old_approach old_approach()"
   ]
  }
 ],
 "metadata": {
  "kernelspec": {
   "display_name": "Python 3.10.0 ('c310dev')",
   "language": "python",
   "name": "python3"
  },
  "language_info": {
   "codemirror_mode": {
    "name": "ipython",
    "version": 3
   },
   "file_extension": ".py",
   "mimetype": "text/x-python",
   "name": "python",
   "nbconvert_exporter": "python",
   "pygments_lexer": "ipython3",
   "version": "3.10.0"
  },
  "orig_nbformat": 4,
  "vscode": {
   "interpreter": {
    "hash": "cdab2fb02dc4d68ed9e9d327e285305822cd116f79900361a665d6985eb56184"
   }
  }
 },
 "nbformat": 4,
 "nbformat_minor": 2
}
