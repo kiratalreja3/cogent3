{
 "cells": [
  {
   "cell_type": "code",
   "execution_count": 3,
   "metadata": {},
   "outputs": [],
   "source": [
    "from cogent3.core.annotation_db import GffAnnotationDb\n",
    "from cogent3.core.annotation_db import GenbankAnnotationDb\n",
    "from cogent3.parse.gff import gff_parser\n",
    "from cogent3 import open_\n",
    "from cogent3.parse.genbank import MinimalGenbankParser\n",
    "from cogent3 import load_unaligned_seqs\n",
    "gff_path = \"/Users/kiratalreja/Downloads/prok_NoLocusTags.gff\"\n",
    "genbank_path = \"/Users/kiratalreja/Downloads/NC_000913.3.gb\"\n",
    "import unittest"
   ]
  },
  {
   "cell_type": "code",
   "execution_count": 39,
   "metadata": {},
   "outputs": [],
   "source": [
    "def test_make_db():\n",
    "    \"\"\"Test if the gff3 database is correctly created\n",
    "    in terms of the names of columns & the number of entries\"\"\"\n",
    "\n",
    "    db = GffAnnotationDb(gff_path)\n",
    "\n",
    "    \"\"\"Test the name of columns created\"\"\"\n",
    "    sql_columns = []\n",
    "    data = db.db.execute(\"\"\"SELECT * FROM GFF\"\"\")\n",
    "    for column in data.description:\n",
    "        sql_columns.append(column[0])\n",
    "    got = sql_columns\n",
    "    parsed_gff = gff_parser(gff_path)\n",
    "    expected = list((list(parsed_gff)[0]).keys())[:-1]\n",
    "    assert got == expected\n",
    "    \n",
    "    sql_columns = []\n",
    "    db = GenbankAnnotationDb(genbank_path)\n",
    "    data = db.db.execute(\"\"\"SELECT * FROM GENBANK\"\"\")\n",
    "    for column in data.description:\n",
    "        sql_columns.append(column[0])\n",
    "    got = sql_columns\n",
    "    expected = [\"LocusID\",\"Type\",\"Spans\",\"Locus_Tag\",\"Start\",\"End\",\"Strand\"]\n",
    "    assert got == expected\n",
    "    \n",
    "   \n",
    "    "
   ]
  },
  {
   "cell_type": "code",
   "execution_count": 57,
   "metadata": {},
   "outputs": [],
   "source": [
    "def test_make_sql_query():\n",
    "    \"\"\"Test that the SQLlite queries are correctly formed\"\"\"\n",
    "    \n",
    "    fasta_path = \"/Users/kiratalreja/Desktop/short.fa\"\n",
    "    seqs = load_unaligned_seqs(fasta_path, moltype=\"dna\")\n",
    "    seq = seqs.seqs[0]\n",
    "\n",
    "    gff_path = \"/Users/kiratalreja/Downloads/prok_NoLocusTags.gff\"\n",
    "    db = GffAnnotationDb(gff_path)\n",
    "\n",
    "    \"\"\"only the bio_type is provided\"\"\"\n",
    "    expected = ('SELECT * FROM GFF WHERE Type == ?', ['gene'])\n",
    "    got = db._make_sql_query(seq_name=None,bio_type=\"gene\",identifier=None,start=None,end=None)\n",
    "    assert got == expected \n",
    "\n",
    "    \"\"\"only the identifier is provided\"\"\"\n",
    "    expected = ('SELECT * FROM GFF WHERE Attributes like ?', ['%RandomIdentifier%'])\n",
    "    got = db._make_sql_query(seq_name=None,bio_type=None,identifier=\"RandomIdentifier\",start=None,end=None)\n",
    "    assert got == expected\n",
    "\n",
    "    \"\"\"both identifier and bio_type provided\"\"\"\n",
    "    expected = ('SELECT * FROM GFF WHERE Type == ? AND Attributes like ?',['CDS', '%RandomIdentifier%'])\n",
    "    got = db._make_sql_query(seq_name=None,bio_type=\"CDS\",identifier=\"RandomIdentifier\",start=None,end=None)\n",
    "    assert got == expected\n",
    "\n",
    "    \"\"\"start provided along with identifier and bio_type\"\"\"\n",
    "    expected = ('SELECT * FROM GFF WHERE Type == ? AND Attributes like ? AND Start >= ?',['CDS', '%RandomIdentifier%', 0])\n",
    "    got = db._make_sql_query(seq_name=None,bio_type=\"CDS\",identifier=\"RandomIdentifier\",start=0,end=None)\n",
    "    assert got == expected\n",
    "\n",
    "    \"\"\"end provided along with identifier and bio_type\"\"\"\n",
    "    expected = ('SELECT * FROM GFF WHERE Type == ? AND Attributes like ? AND End < ?',['CDS', '%RandomIdentifier%', 5000])\n",
    "    got = db._make_sql_query(seq_name=None,bio_type=\"CDS\",identifier=\"RandomIdentifier\",start=None,end=5000)\n",
    "    assert got == expected\n",
    "\n",
    "    \"\"\"start and end provided along with identifier and bio_type\"\"\"\n",
    "    expected = ('SELECT * FROM GFF WHERE Type == ? AND Attributes like ? AND Start >= ? AND End < ?',['CDS', '%RandomIdentifier%', 0, 5000])\n",
    "    got = db._make_sql_query(seq_name=None,bio_type=\"CDS\",identifier=\"RandomIdentifier\",start=0,end=5000)\n",
    "    assert got == expected\n",
    "\n",
    "    \"\"\"all five attributes provided\"\"\"\n",
    "    expected = ('SELECT * FROM GFF WHERE SeqID == ? AND Type == ? AND Attributes like ? AND Start >= ? AND End < ?', ['1', 'CDS', '%RandomIdentifier%', 0, 5000])\n",
    "    got = db._make_sql_query(seq_name=\"1\",bio_type=\"CDS\",identifier=\"RandomIdentifier\",start=0,end=5000)\n",
    "    assert got == expected\n",
    "\n",
    "    \"\"\"check exception when both bio_type and identifier are missing\"\"\"\n",
    "    import pytest\n",
    "\n",
    "    with pytest.raises(ValueError):\n",
    "        db._make_sql_query(seq_name=None,bio_type=None,identifier=None,start=None,end=None)\n",
    "\n",
    "    \"\"\"check exception when both bio_type and identifier are missing, even if other attributes\"\"\"\n",
    "\n",
    "    with pytest.raises(ValueError):\n",
    "        db._make_sql_query(seq_name=\"1\",bio_type=None,identifier=None,start=0,end=1000)\n",
    "\n",
    "    \"\"\"check exception when only seq_name is provided\"\"\"\n",
    "\n",
    "    with pytest.raises(ValueError):\n",
    "        db._make_sql_query(seq_name=\"1\",bio_type=None,identifier=None,start=None,end=None)\n",
    "\n",
    "    \"\"\"check exception when only start is provided\"\"\"\n",
    "\n",
    "    with pytest.raises(ValueError):\n",
    "        db._make_sql_query(seq_name=None,bio_type=None,identifier=None,start=0,end=None)\n",
    "    \n",
    "    \"\"\"check exception when only end is provided\"\"\"\n",
    "\n",
    "    with pytest.raises(ValueError):\n",
    "        db._make_sql_query(seq_name=None,bio_type=None,identifier=None,start=None,end=1000)"
   ]
  },
  {
   "cell_type": "code",
   "execution_count": 59,
   "metadata": {},
   "outputs": [],
   "source": [
    "def test_populate_from_file():\n",
    "    \"\"\"Test that the database is populated with the correct\n",
    "    number of columns\"\"\"\n",
    "    from cogent3.core.annotation import GffAnnotationDb\n",
    "    from cogent3.parse.gff import gff_parser\n",
    "\n",
    "    gff_path = \"/Users/kiratalreja/Downloads/prok_NoLocusTags.gff\"\n",
    "    db = GffAnnotationDb(gff_path)\n",
    "\n",
    "    \"\"\"test the number of rows populated\"\"\"\n",
    "    db.db.execute(\"\"\" SELECT * FROM GFF \"\"\")\n",
    "    got = len(list(db.db.fetchall()))\n",
    "    parsed_gff = gff_parser(gff_path)\n",
    "    expected = len(list(parsed_gff))\n",
    "    assert got == expected\n"
   ]
  },
  {
   "cell_type": "code",
   "execution_count": 68,
   "metadata": {},
   "outputs": [],
   "source": [
    "def test_db_query():\n",
    "\n",
    "    \"\"\"Test that the SQL query returns the correct\n",
    "    number of rows for different combinations of bio_type/identifier\"\"\"\n",
    "\n",
    "    from cogent3 import load_unaligned_seqs\n",
    "    from cogent3.core.annotation import GffAnnotationDb\n",
    "\n",
    "    fasta_path = \"/Users/kiratalreja/Desktop/short.fa\"\n",
    "    seqs = load_unaligned_seqs(fasta_path, moltype=\"dna\")\n",
    "    seq = seqs.seqs[0]\n",
    "\n",
    "    gff_path = \"/Users/kiratalreja/Downloads/prok_NoLocusTags.gff\"\n",
    "    db = GffAnnotationDb()\n",
    "    db.populate_from_file(gff_path)\n",
    "\n",
    "    \"\"\"multiple hits for the same identifier\"\"\"\n",
    "    got = len(db.db_query(start=0, end=len(seq), identifier=\"CDS4\"))\n",
    "    expected = 2\n",
    "    assert got == expected\n",
    "\n",
    "    \"\"\"query for an ID and recieve the children to the ID along with the parent\"\"\"\n",
    "    got = len(db.db_query(start=0, end=len(seq), identifier=\"gene4\"))\n",
    "    expected = 3\n",
    "    assert got == expected\n",
    "\n",
    "    \"\"\"query for an ID, with no children\"\"\"\n",
    "    got = len(db.db_query(start=0, end=len(seq), identifier=\"trna1\"))\n",
    "    expected = 1\n",
    "    assert got == expected\n",
    "\n",
    "    \"\"\"query for a bio type, with multiple hits\"\"\"\n",
    "    got = len(db.db_query(start=0, end=len(seq), bio_type=\"gene\"))\n",
    "    expected = 8\n",
    "    assert got == expected\n",
    "\n",
    "    \"\"\"query for an ID & a bio type, with a single hit\"\"\"\n",
    "    got = len(db.db_query(start=0, end=len(seq), identifier=\"gene0\", bio_type=\"CDS\"))\n",
    "    expected = 1\n",
    "    assert got == expected\n",
    "\n",
    "    \"\"\"query for an ID & a bio type, with multiple hits\"\"\"\n",
    "    got = len(db.db_query(start=0, end=len(seq), identifier=\"CDS4\", bio_type=\"CDS\"))\n",
    "    expected = 2\n",
    "    assert got == expected"
   ]
  },
  {
   "cell_type": "code",
   "execution_count": 70,
   "metadata": {},
   "outputs": [],
   "source": [
    "def test_find_records():\n",
    "\n",
    "    \"\"\"Test that the coordinates the grouped correctly, and features\n",
    "    formed properly\"\"\"\n",
    "\n",
    "    from cogent3 import load_unaligned_seqs\n",
    "    from cogent3.core.annotation import GffAnnotationDb\n",
    "\n",
    "    gff_path = \"/Users/kiratalreja/Downloads/prok_NoLocusTags.gff\"\n",
    "    db = GffAnnotationDb()\n",
    "    db.populate_from_file(gff_path)\n",
    "    fasta_path = \"/Users/kiratalreja/Desktop/short.fa\"\n",
    "    seqs = load_unaligned_seqs(fasta_path, moltype=\"dna\")\n",
    "    seq = seqs.seqs[0]\n",
    "\n",
    "    \"\"\"combine rows with the same ID\"\"\"\n",
    "    got = len(db.find_records(start=0, end=len(seq), identifier=\"CDS4\"))\n",
    "    expected = 1\n",
    "    assert got == expected\n",
    "\n",
    "    \"\"\"combine rows with the same ID, when bio_type given\"\"\"\n",
    "    got = len(db.find_records(start=0, end=len(seq), bio_type=\"CDS\"))\n",
    "    expected = 6\n",
    "    assert got == expected\n",
    "\n",
    "    \"\"\"combine rows with the same ID, when children rows are fetched with the parent\"\"\"\n",
    "    got = len(db.find_records(start=0, end=len(seq), identifier=\"gene4\"))\n",
    "    expected = 2\n",
    "    assert got == expected\n",
    "\n",
    "    \"\"\"unique ID, single row returned\"\"\"\n",
    "    got = len(db.find_records(start=0, end=len(seq), identifier=\"id020000\"))\n",
    "    expected = 1\n",
    "    assert got == expected\n"
   ]
  },
  {
   "cell_type": "code",
   "execution_count": null,
   "metadata": {},
   "outputs": [],
   "source": [
    "test_find_records()"
   ]
  },
  {
   "cell_type": "code",
   "execution_count": 6,
   "metadata": {},
   "outputs": [],
   "source": [
    "def test_ordered_values():\n",
    "    from cogent3.core.annotation_db import _ordered_values\n",
    "    from cogent3.parse.gff import gff_parser\n",
    "    parsed_gff = gff_parser(gff_path)\n",
    "    example_dict = list(parsed_gff)[0]  \n",
    "    got = _ordered_values(example_dict)\n",
    "    expected = ['sequence001', 'mine','gene', 189, 255, '.', '+', '.', {'ID': 'gene0','Dbxref': 'ASAP:ABE-0000006','gene': 'thrL','gene_synonym': 'ECK0001'}]\n",
    "    assert got == expected\n",
    "\n",
    "    def return_type(values):\n",
    "        types = []\n",
    "        for v in values:\n",
    "            types.append(type(v))\n",
    "        return types\n",
    "\n",
    "    got = return_type(_ordered_values(example_dict))\n",
    "    expected = [str, str, str, int, int, str, str, str, dict]\n",
    "    assert got == expected\n",
    "    "
   ]
  },
  {
   "cell_type": "code",
   "execution_count": 4,
   "metadata": {},
   "outputs": [],
   "source": [
    "from cogent3.core.annotation_db import _ordered_values\n",
    "from cogent3.parse.gff import gff_parser\n",
    "parsed_gff = gff_parser(gff_path)\n",
    "example_dict = list(parsed_gff)[0]  \n",
    "got = _ordered_values(example_dict)\n",
    "expected = ['sequence001', 'mine','gene', 189, 255, '.', '+', '.', {'ID': 'gene0','Dbxref': 'ASAP:ABE-0000006','gene': 'thrL','gene_synonym': 'ECK0001'}]\n",
    "assert got == expected\n",
    "\n",
    "def return_type(values):\n",
    "    types = []\n",
    "    for v in values:\n",
    "        types.append(type(v))\n",
    "    return types\n",
    "\n",
    "got = return_type(_ordered_values(example_dict))\n",
    "expected = [str, str, str, int, int, str, str, str, dict]\n",
    "assert got == expected\n",
    "    "
   ]
  },
  {
   "cell_type": "code",
   "execution_count": 9,
   "metadata": {},
   "outputs": [],
   "source": [
    "expected = [1,2,3,4]"
   ]
  },
  {
   "cell_type": "code",
   "execution_count": 16,
   "metadata": {},
   "outputs": [],
   "source": [
    "def myfunc(a, b):\n",
    "  return a + b\n",
    "\n",
    "x = map(myfunc, ('apple', 'banana', 'cherry'), ('orange', 'lemon', 'pineapple'))"
   ]
  },
  {
   "cell_type": "code",
   "execution_count": 17,
   "metadata": {},
   "outputs": [
    {
     "data": {
      "text/plain": [
       "<map at 0x7f7e912314e0>"
      ]
     },
     "execution_count": 17,
     "metadata": {},
     "output_type": "execute_result"
    }
   ],
   "source": [
    "x"
   ]
  },
  {
   "cell_type": "code",
   "execution_count": 12,
   "metadata": {},
   "outputs": [
    {
     "ename": "TypeError",
     "evalue": "type() takes 1 or 3 arguments",
     "output_type": "error",
     "traceback": [
      "\u001b[0;31m---------------------------------------------------------------------------\u001b[0m",
      "\u001b[0;31mTypeError\u001b[0m                                 Traceback (most recent call last)",
      "\u001b[1;32m/Users/kiratalreja/repos/Cogent3/src/benchmarking scrips/annotation_tests.ipynb Cell 11\u001b[0m in \u001b[0;36m<cell line: 1>\u001b[0;34m()\u001b[0m\n\u001b[0;32m----> <a href='vscode-notebook-cell:/Users/kiratalreja/repos/Cogent3/src/benchmarking%20scrips/annotation_tests.ipynb#X43sZmlsZQ%3D%3D?line=0'>1</a>\u001b[0m \u001b[39mmap\u001b[39m(\u001b[39mtype\u001b[39;49m(),expected)\n",
      "\u001b[0;31mTypeError\u001b[0m: type() takes 1 or 3 arguments"
     ]
    }
   ],
   "source": [
    "map(type(),expected)"
   ]
  },
  {
   "cell_type": "code",
   "execution_count": 7,
   "metadata": {},
   "outputs": [],
   "source": [
    "test_ordered_values()"
   ]
  },
  {
   "cell_type": "code",
   "execution_count": 8,
   "metadata": {},
   "outputs": [],
   "source": [
    "parsed_gff = gff_parser(gff_path)\n",
    "example_dict = list(parsed_gff)[0]  "
   ]
  },
  {
   "cell_type": "code",
   "execution_count": 10,
   "metadata": {},
   "outputs": [
    {
     "data": {
      "text/plain": [
       "['sequence001',\n",
       " 'mine',\n",
       " 'gene',\n",
       " 189,\n",
       " 255,\n",
       " '.',\n",
       " '+',\n",
       " '.',\n",
       " {'ID': 'gene0',\n",
       "  'Dbxref': 'ASAP:ABE-0000006',\n",
       "  'gene': 'thrL',\n",
       "  'gene_synonym': 'ECK0001'}]"
      ]
     },
     "execution_count": 10,
     "metadata": {},
     "output_type": "execute_result"
    }
   ],
   "source": [
    "from cogent3.core.annotation_db import _ordered_values\n",
    "_ordered_values(example_dict)"
   ]
  },
  {
   "cell_type": "code",
   "execution_count": 7,
   "metadata": {},
   "outputs": [
    {
     "ename": "IndexError",
     "evalue": "list index out of range",
     "output_type": "error",
     "traceback": [
      "\u001b[0;31m---------------------------------------------------------------------------\u001b[0m",
      "\u001b[0;31mIndexError\u001b[0m                                Traceback (most recent call last)",
      "\u001b[1;32m/Users/kiratalreja/repos/Cogent3/src/benchmarking scrips/annotation_tests.ipynb Cell 10\u001b[0m in \u001b[0;36m<cell line: 1>\u001b[0;34m()\u001b[0m\n\u001b[0;32m----> <a href='vscode-notebook-cell:/Users/kiratalreja/repos/Cogent3/src/benchmarking%20scrips/annotation_tests.ipynb#X12sZmlsZQ%3D%3D?line=0'>1</a>\u001b[0m example_dict \u001b[39m=\u001b[39m \u001b[39mlist\u001b[39;49m(parsed_gff)[\u001b[39m0\u001b[39;49m]\n",
      "\u001b[0;31mIndexError\u001b[0m: list index out of range"
     ]
    }
   ],
   "source": []
  },
  {
   "cell_type": "code",
   "execution_count": 13,
   "metadata": {},
   "outputs": [],
   "source": [
    "example_dict = ['sequence001', 'mine','gene', 189, 255, '.', '+', '.', {'ID': 'gene0','Dbxref': 'ASAP:ABE-0000006','gene': 'thrL','gene_synonym': 'ECK0001'}]"
   ]
  },
  {
   "cell_type": "code",
   "execution_count": 18,
   "metadata": {},
   "outputs": [],
   "source": [
    "def return_type(values):\n",
    "    types = []\n",
    "    for v in values:\n",
    "        types.append(type(v))\n",
    "    return types"
   ]
  },
  {
   "cell_type": "code",
   "execution_count": 27,
   "metadata": {},
   "outputs": [],
   "source": [
    "assert return_type(example_dict) == [str, str, str, int, int, str, str, str, dict]"
   ]
  },
  {
   "cell_type": "code",
   "execution_count": 21,
   "metadata": {},
   "outputs": [],
   "source": [
    "def test_distinct():\n",
    "    from cogent3.core.annotation_db import GffAnnotationDb\n",
    "\n",
    "    gff_path = \"/Users/kiratalreja/Downloads/prok_NoLocusTags.gff\"\n",
    "    db = GffAnnotationDb(gff_path)\n",
    "\n",
    "    #nothing provided\n",
    "    got = db.distinct()\n",
    "    expected = set()\n",
    "    assert got == expected\n",
    "\n",
    "    #only bio_type\n",
    "    got = len(db.distinct(bio_type=True)['Type'])\n",
    "    expected = 9\n",
    "    assert got == expected \n",
    "    \n",
    "    #only seqID\n",
    "    got = db.distinct(seq_name=True)\n",
    "    expected = {'SeqID': {'sequence001'}}\n",
    "    assert got == expected\n",
    "    \n",
    "    #only identifier\n",
    "    got = len(db.distinct(identifier=True)['identifier'])\n",
    "    expected = 21\n",
    "    assert got == expected \n",
    "    \n",
    "    #all three values\n",
    "    got = len(db.distinct(bio_type=True,seq_name=True,identifier=True))\n",
    "    expected = 3\n",
    "    assert got == expected\n",
    "\n",
    "    got = len(db.distinct(bio_type=True,seq_name=True,identifier=True)['Type'])\n",
    "    expected = 9\n",
    "    assert got == expected\n",
    "\n",
    "    got = len(db.distinct(bio_type=True,seq_name=True,identifier=True)['identifier'])\n",
    "    expected = 21\n",
    "    assert got == expected\n",
    "\n",
    "    got = len(db.distinct(bio_type=True,seq_name=True,identifier=True)['SeqID'])\n",
    "    expected = 1\n",
    "    assert got == expected\n",
    "\n",
    "\n"
   ]
  },
  {
   "cell_type": "code",
   "execution_count": 15,
   "metadata": {},
   "outputs": [],
   "source": [
    "from cogent3.core.annotation_db import GffAnnotationDb\n",
    "\n",
    "gff_path = \"/Users/kiratalreja/Downloads/prok_NoLocusTags.gff\"\n",
    "db = GffAnnotationDb(gff_path)\n",
    "\n",
    "#nothing provided\n",
    "got = db.distinct()\n",
    "expected = set()\n",
    "assert got == expected\n",
    "\n",
    "#only bio_type\n",
    "got = len(db.distinct(bio_type=True)['Type'])\n",
    "expected = 9\n",
    "assert got == expected \n",
    "\n",
    "got = db.distinct(seq_name=True)\n",
    "expected = {'SeqID': {'sequence001'}}\n",
    "assert got == expected\n",
    "\n",
    "got = len(db.distinct(identifier=True)['identifier'])\n",
    "expected = 21\n",
    "assert got == expected \n"
   ]
  },
  {
   "cell_type": "code",
   "execution_count": 20,
   "metadata": {},
   "outputs": [
    {
     "data": {
      "text/plain": [
       "3"
      ]
     },
     "execution_count": 20,
     "metadata": {},
     "output_type": "execute_result"
    }
   ],
   "source": [
    "len(db.distinct(bio_type=True,seq_name=True,identifier=True))"
   ]
  },
  {
   "cell_type": "code",
   "execution_count": 22,
   "metadata": {},
   "outputs": [],
   "source": [
    "test_distinct()"
   ]
  },
  {
   "cell_type": "code",
   "execution_count": 1,
   "metadata": {},
   "outputs": [],
   "source": [
    "example = {'Type': {'CDS',\n",
    "    'gene',\n",
    "    'misc_feature',\n",
    "    'mobile_element',\n",
    "    'mobile_genetic_element',\n",
    "    'rRNA',\n",
    "    'rep_origin',\n",
    "    'repeat_region',\n",
    "    'tRNA'}}"
   ]
  },
  {
   "cell_type": "code",
   "execution_count": 5,
   "metadata": {},
   "outputs": [
    {
     "data": {
      "text/plain": [
       "9"
      ]
     },
     "execution_count": 5,
     "metadata": {},
     "output_type": "execute_result"
    }
   ],
   "source": [
    "len(example['Type'])"
   ]
  },
  {
   "cell_type": "code",
   "execution_count": 17,
   "metadata": {},
   "outputs": [
    {
     "data": {
      "text/plain": [
       "{'identifier': {'CDS0',\n",
       "  'CDS1',\n",
       "  'CDS2',\n",
       "  'CDS3',\n",
       "  'CDS4',\n",
       "  'CDS5',\n",
       "  'gene0',\n",
       "  'gene1',\n",
       "  'gene2',\n",
       "  'gene3',\n",
       "  'gene4',\n",
       "  'gene5',\n",
       "  'gener1',\n",
       "  'genet1',\n",
       "  'id010000',\n",
       "  'id020000',\n",
       "  'id040000',\n",
       "  'id060000',\n",
       "  'id070000',\n",
       "  'rrna1',\n",
       "  'trna1'}}"
      ]
     },
     "execution_count": 17,
     "metadata": {},
     "output_type": "execute_result"
    }
   ],
   "source": [
    "from cogent3.core.annotation_db import GffAnnotationDb\n",
    "\n",
    "gff_path = \"/Users/kiratalreja/Downloads/prok_NoLocusTags.gff\"\n",
    "db = GffAnnotationDb(gff_path)\n",
    "db.distinct(identifier=True)"
   ]
  },
  {
   "cell_type": "code",
   "execution_count": null,
   "metadata": {},
   "outputs": [],
   "source": [
    "{'identifier': {'CDS0',\n",
    "  'CDS1',\n",
    "  'CDS2',\n",
    "  'CDS3',\n",
    "  'CDS4',\n",
    "  'CDS5',\n",
    "  'gene0',\n",
    "  'gene1',\n",
    "  'gene2',\n",
    "  'gene3',\n",
    "  'gene4',\n",
    "  'gene5',\n",
    "  'gener1',\n",
    "  'genet1',\n",
    "  'id010000',\n",
    "  'id020000',\n",
    "  'id040000',\n",
    "  'id060000',\n",
    "  'id070000',\n",
    "  'rrna1',\n",
    "  'trna1'}}"
   ]
  },
  {
   "cell_type": "code",
   "execution_count": 3,
   "metadata": {},
   "outputs": [],
   "source": [
    "def test_make_sql_query():\n",
    "    \"\"\"Test that the SQLlite queries are correctly formed\"\"\"\n",
    "\n",
    "    from cogent3 import load_unaligned_seqs\n",
    "    from cogent3.core.annotation_db import GffAnnotationDb\n",
    "\n",
    "    fasta_path = \"/Users/kiratalreja/Desktop/short.fa\"\n",
    "    seqs = load_unaligned_seqs(fasta_path, moltype=\"dna\")\n",
    "    seq = seqs.seqs[0]\n",
    "\n",
    "    gff_path = \"/Users/kiratalreja/Downloads/prok_NoLocusTags.gff\"\n",
    "    db = GffAnnotationDb(gff_path)\n",
    "\n",
    "    \"\"\"only bio_type provided\"\"\"\n",
    "    expected = (\n",
    "           'SELECT * FROM GFF WHERE Start >= ? AND End < ? AND Type == ?', [0, 13720, 'CDS']\n",
    "    )\n",
    "    got = db._make_sql_query(start=0, end=len(seq), bio_type=\"CDS\")\n",
    "    assert got == expected\n",
    "\n",
    "    \"\"\"only identifier provided\"\"\"\n",
    "    expected = (\n",
    "        \"SELECT * FROM GFF WHERE Start >= ? AND End < ? AND Attributes like ?\",\n",
    "        [0, 13720, \"%RandomID%\"],\n",
    "    )\n",
    "    got = db._make_sql_query(start=0, end=len(seq), identifier=\"RandomID\")\n",
    "    assert expected == got\n",
    "\n",
    "    \"\"\"both bio_type and identifier provided\"\"\"\n",
    "    expected = (\n",
    "        \"SELECT * FROM GFF WHERE Start >= ? AND End < ? AND Type == ? AND Attributes like ?\",\n",
    "        [0, 13720, \"CDS\", \"%RandomID%\"],\n",
    "    )\n",
    "    got = db._make_sql_query(\n",
    "        start=0, end=len(seq), bio_type=\"CDS\", identifier=\"RandomID\"\n",
    "    )\n",
    "    assert expected == got\n",
    "\n",
    "    \"\"\"check exception when both bio_type and identifier are missing\"\"\"\n",
    "    import pytest\n",
    "\n",
    "    with pytest.raises(ValueError):\n",
    "        db._make_sql_query(start=0, end=len(seq))\n"
   ]
  },
  {
   "cell_type": "code",
   "execution_count": 4,
   "metadata": {},
   "outputs": [],
   "source": [
    "test_make_sql_query()"
   ]
  },
  {
   "cell_type": "code",
   "execution_count": 31,
   "metadata": {},
   "outputs": [
    {
     "data": {
      "text/plain": [
       "True"
      ]
     },
     "execution_count": 31,
     "metadata": {},
     "output_type": "execute_result"
    }
   ],
   "source": [
    "(\"SELECT * FROM GFF WHERE SeqID == ? AND Start >= ? AND End < ? AND Type == ?\",[0, 13720, \"CDS\"]) == ('SELECT * FROM GFF WHERE SeqID == ? AND Start >= ? AND End < ? AND Type == ?', [0, 13720, 'CDS'])"
   ]
  },
  {
   "cell_type": "code",
   "execution_count": 2,
   "metadata": {},
   "outputs": [],
   "source": [
    "from cogent3.core.annotation_db import GffAnnotationDb\n",
    "from cogent3.core.annotation_db import GenbankAnnotationDb\n",
    "from cogent3.parse.gff import gff_parser\n",
    "from cogent3 import open_\n",
    "from cogent3.parse.genbank import MinimalGenbankParser\n",
    "from cogent3 import load_unaligned_seqs\n",
    "gff_path = \"/Users/kiratalreja/Downloads/prok_NoLocusTags.gff\"\n",
    "genbank_path = \"/Users/kiratalreja/Downloads/NC_000913.3.gb\"\n",
    "import unittest\n",
    "\n",
    "def test_make_db():\n",
    "    \"\"\"Test if the gff3 database is correctly created\n",
    "    in terms of the names of columns & the number of entries\"\"\"\n",
    "\n",
    "    db = GffAnnotationDb(gff_path)\n",
    "\n",
    "    \"\"\"Test the name of columns created\"\"\"\n",
    "    sql_columns = []\n",
    "    data = db.db.execute(\"\"\"SELECT * FROM GFF\"\"\")\n",
    "    for column in data.description:\n",
    "        sql_columns.append(column[0])\n",
    "    got = sql_columns\n",
    "    parsed_gff = gff_parser(gff_path)\n",
    "    expected = list((list(parsed_gff)[0]).keys())[:-1]\n",
    "    assert got == expected\n",
    "    \n",
    "    sql_columns = []\n",
    "    db = GenbankAnnotationDb(genbank_path)\n",
    "    data = db.db.execute(\"\"\"SELECT * FROM GENBANK\"\"\")\n",
    "    for column in data.description:\n",
    "        sql_columns.append(column[0])\n",
    "    got = sql_columns\n",
    "    expected = [\"LocusID\",\"Type\",\"Spans\",\"Locus_Tag\",\"Start\",\"End\",\"Strand\"]\n",
    "    assert got == expected\n",
    "    \n",
    "   \n",
    "def test_make_sql_query():\n",
    "    \"\"\"Test that the SQLlite queries are correctly formed\"\"\"\n",
    "    \n",
    "    fasta_path = \"/Users/kiratalreja/Desktop/short.fa\"\n",
    "    seqs = load_unaligned_seqs(fasta_path, moltype=\"dna\")\n",
    "    seq = seqs.seqs[0]\n",
    "\n",
    "    gff_path = \"/Users/kiratalreja/Downloads/prok_NoLocusTags.gff\"\n",
    "    db = GffAnnotationDb(gff_path)\n",
    "\n",
    "    \"\"\"only the bio_type is provided\"\"\"\n",
    "    expected = ('SELECT * FROM GFF WHERE Type == ?', ['gene'])\n",
    "    got = db._make_sql_query(seq_name=None,bio_type=\"gene\",identifier=None,start=None,end=None)\n",
    "    assert got == expected \n",
    "\n",
    "    \"\"\"only the identifier is provided\"\"\"\n",
    "    expected = ('SELECT * FROM GFF WHERE Attributes like ?', ['%RandomIdentifier%'])\n",
    "    got = db._make_sql_query(seq_name=None,bio_type=None,identifier=\"RandomIdentifier\",start=None,end=None)\n",
    "    assert got == expected\n",
    "\n",
    "    \"\"\"both identifier and bio_type provided\"\"\"\n",
    "    expected = ('SELECT * FROM GFF WHERE Type == ? AND Attributes like ?',['CDS', '%RandomIdentifier%'])\n",
    "    got = db._make_sql_query(seq_name=None,bio_type=\"CDS\",identifier=\"RandomIdentifier\",start=None,end=None)\n",
    "    assert got == expected\n",
    "\n",
    "    \"\"\"start provided along with identifier and bio_type\"\"\"\n",
    "    expected = ('SELECT * FROM GFF WHERE Type == ? AND Attributes like ? AND Start >= ?',['CDS', '%RandomIdentifier%', 0])\n",
    "    got = db._make_sql_query(seq_name=None,bio_type=\"CDS\",identifier=\"RandomIdentifier\",start=0,end=None)\n",
    "    assert got == expected\n",
    "\n",
    "    \"\"\"end provided along with identifier and bio_type\"\"\"\n",
    "    expected = ('SELECT * FROM GFF WHERE Type == ? AND Attributes like ? AND End < ?',['CDS', '%RandomIdentifier%', 5000])\n",
    "    got = db._make_sql_query(seq_name=None,bio_type=\"CDS\",identifier=\"RandomIdentifier\",start=None,end=5000)\n",
    "    assert got == expected\n",
    "\n",
    "    \"\"\"start and end provided along with identifier and bio_type\"\"\"\n",
    "    expected = ('SELECT * FROM GFF WHERE Type == ? AND Attributes like ? AND Start >= ? AND End < ?',['CDS', '%RandomIdentifier%', 0, 5000])\n",
    "    got = db._make_sql_query(seq_name=None,bio_type=\"CDS\",identifier=\"RandomIdentifier\",start=0,end=5000)\n",
    "    assert got == expected\n",
    "\n",
    "    \"\"\"all five attributes provided\"\"\"\n",
    "    expected = ('SELECT * FROM GFF WHERE SeqID == ? AND Type == ? AND Attributes like ? AND Start >= ? AND End < ?', ['1', 'CDS', '%RandomIdentifier%', 0, 5000])\n",
    "    got = db._make_sql_query(seq_name=\"1\",bio_type=\"CDS\",identifier=\"RandomIdentifier\",start=0,end=5000)\n",
    "    assert got == expected\n",
    "\n",
    "    \"\"\"check exception when both bio_type and identifier are missing\"\"\"\n",
    "    import pytest\n",
    "\n",
    "    with pytest.raises(ValueError):\n",
    "        db._make_sql_query(seq_name=None,bio_type=None,identifier=None,start=None,end=None)\n",
    "\n",
    "    \"\"\"check exception when both bio_type and identifier are missing, even if other attributes\"\"\"\n",
    "\n",
    "    with pytest.raises(ValueError):\n",
    "        db._make_sql_query(seq_name=\"1\",bio_type=None,identifier=None,start=0,end=1000)\n",
    "\n",
    "    \"\"\"check exception when only seq_name is provided\"\"\"\n",
    "\n",
    "    with pytest.raises(ValueError):\n",
    "        db._make_sql_query(seq_name=\"1\",bio_type=None,identifier=None,start=None,end=None)\n",
    "\n",
    "    \"\"\"check exception when only start is provided\"\"\"\n",
    "\n",
    "    with pytest.raises(ValueError):\n",
    "        db._make_sql_query(seq_name=None,bio_type=None,identifier=None,start=0,end=None)\n",
    "    \n",
    "    \"\"\"check exception when only end is provided\"\"\"\n",
    "\n",
    "    with pytest.raises(ValueError):\n",
    "        db._make_sql_query(seq_name=None,bio_type=None,identifier=None,start=None,end=1000)\n",
    "\n",
    "def test_populate_from_file():\n",
    "    \"\"\"Test that the database is populated with the correct\n",
    "    number of columns\"\"\"\n",
    "    from cogent3.parse.gff import gff_parser\n",
    "\n",
    "    gff_path = \"/Users/kiratalreja/Downloads/prok_NoLocusTags.gff\"\n",
    "    db = GffAnnotationDb(gff_path)\n",
    "\n",
    "    \"\"\"test the number of rows populated\"\"\"\n",
    "    db.db.execute(\"\"\" SELECT * FROM GFF \"\"\")\n",
    "    got = len(list(db.db.fetchall()))\n",
    "    parsed_gff = gff_parser(gff_path)\n",
    "    expected = len(list(parsed_gff))\n",
    "    assert got == expected\n",
    "\n",
    "def test_db_query():\n",
    "\n",
    "    \"\"\"Test that the SQL query returns the correct\n",
    "    number of rows for different combinations of bio_type/identifier\"\"\"\n",
    "\n",
    "    from cogent3 import load_unaligned_seqs\n",
    "\n",
    "    fasta_path = \"/Users/kiratalreja/Desktop/short.fa\"\n",
    "    seqs = load_unaligned_seqs(fasta_path, moltype=\"dna\")\n",
    "    seq = seqs.seqs[0]\n",
    "\n",
    "    gff_path = \"/Users/kiratalreja/Downloads/prok_NoLocusTags.gff\"\n",
    "    db = GffAnnotationDb(gff_path)\n",
    "\n",
    "    \"\"\"multiple hits for the same identifier\"\"\"\n",
    "    got = len(db.db_query(start=0, end=len(seq), identifier=\"CDS4\"))\n",
    "    expected = 2\n",
    "    assert got == expected\n",
    "\n",
    "    \"\"\"query for an ID and recieve the children to the ID along with the parent\"\"\"\n",
    "    got = len(db.db_query(start=0, end=len(seq), identifier=\"gene4\"))\n",
    "    expected = 3\n",
    "    assert got == expected\n",
    "\n",
    "    \"\"\"query for an ID, with no children\"\"\"\n",
    "    got = len(db.db_query(start=0, end=len(seq), identifier=\"trna1\"))\n",
    "    expected = 1\n",
    "    assert got == expected\n",
    "\n",
    "    \"\"\"query for a bio type, with multiple hits\"\"\"\n",
    "    got = len(db.db_query(start=0, end=len(seq), bio_type=\"gene\"))\n",
    "    expected = 8\n",
    "    assert got == expected\n",
    "\n",
    "    \"\"\"query for an ID & a bio type, with a single hit\"\"\"\n",
    "    got = len(db.db_query(start=0, end=len(seq), identifier=\"gene0\", bio_type=\"CDS\"))\n",
    "    expected = 1\n",
    "    assert got == expected\n",
    "\n",
    "    \"\"\"query for an ID & a bio type, with multiple hits\"\"\"\n",
    "    got = len(db.db_query(start=0, end=len(seq), identifier=\"CDS4\", bio_type=\"CDS\"))\n",
    "    expected = 2\n",
    "    assert got == expected\n",
    "\n",
    "def test_find_records():\n",
    "\n",
    "    \"\"\"Test that the coordinates the grouped correctly, and features\n",
    "    formed properly\"\"\"\n",
    "\n",
    "    from cogent3 import load_unaligned_seqs\n",
    "\n",
    "    gff_path = \"/Users/kiratalreja/Downloads/prok_NoLocusTags.gff\"\n",
    "    db = GffAnnotationDb(gff_path)\n",
    "    fasta_path = \"/Users/kiratalreja/Desktop/short.fa\"\n",
    "    seqs = load_unaligned_seqs(fasta_path, moltype=\"dna\")\n",
    "    seq = seqs.seqs[0]\n",
    "\n",
    "    \"\"\"combine rows with the same ID\"\"\"\n",
    "    got = len(db.find_records(start=0, end=len(seq), identifier=\"CDS4\"))\n",
    "    expected = 1\n",
    "    assert got == expected\n",
    "\n",
    "    \"\"\"combine rows with the same ID, when bio_type given\"\"\"\n",
    "    got = len(db.find_records(start=0, end=len(seq), bio_type=\"CDS\"))\n",
    "    expected = 6\n",
    "    assert got == expected\n",
    "\n",
    "    \"\"\"combine rows with the same ID, when children rows are fetched with the parent\"\"\"\n",
    "    got = len(db.find_records(start=0, end=len(seq), identifier=\"gene4\"))\n",
    "    expected = 2\n",
    "    assert got == expected\n",
    "\n",
    "    \"\"\"unique ID, single row returned\"\"\"\n",
    "    got = len(db.find_records(start=0, end=len(seq), identifier=\"id020000\"))\n",
    "    expected = 1\n",
    "    assert got == expected\n",
    "\n",
    "if __name__ == \"__main__\":\n",
    "    test_db_query()\n",
    "    test_find_records()\n",
    "    test_make_sql_query()\n",
    "    test_populate_from_file()\n",
    "\n"
   ]
  },
  {
   "cell_type": "code",
   "execution_count": 7,
   "metadata": {},
   "outputs": [],
   "source": [
    "test_make_sql_query()"
   ]
  },
  {
   "cell_type": "code",
   "execution_count": 3,
   "metadata": {},
   "outputs": [],
   "source": [
    "expected = ('SELECT * FROM GFF WHERE Type == ? AND Attributes like ? AND Start >= ?',['CDS', '%RandomIdentifier%', 0])"
   ]
  }
 ],
 "metadata": {
  "kernelspec": {
   "display_name": "Python 3.10.0 ('c310dev')",
   "language": "python",
   "name": "python3"
  },
  "language_info": {
   "codemirror_mode": {
    "name": "ipython",
    "version": 3
   },
   "file_extension": ".py",
   "mimetype": "text/x-python",
   "name": "python",
   "nbconvert_exporter": "python",
   "pygments_lexer": "ipython3",
   "version": "3.10.0"
  },
  "orig_nbformat": 4,
  "vscode": {
   "interpreter": {
    "hash": "cdab2fb02dc4d68ed9e9d327e285305822cd116f79900361a665d6985eb56184"
   }
  }
 },
 "nbformat": 4,
 "nbformat_minor": 2
}
