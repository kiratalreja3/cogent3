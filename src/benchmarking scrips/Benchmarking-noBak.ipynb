{
 "cells": [
  {
   "cell_type": "code",
   "execution_count": null,
   "metadata": {},
   "outputs": [],
   "source": [
    "Old Approach"
   ]
  },
  {
   "cell_type": "code",
   "execution_count": 1,
   "metadata": {},
   "outputs": [
    {
     "ename": "KeyboardInterrupt",
     "evalue": "",
     "output_type": "error",
     "traceback": [
      "\u001b[0;31m---------------------------------------------------------------------------\u001b[0m",
      "\u001b[0;31mKeyboardInterrupt\u001b[0m                         Traceback (most recent call last)",
      "\u001b[1;32m/Users/kiratalreja/repos/Cogent3/src/benchmarking scrips/Benchmarking-noBak.ipynb Cell 2\u001b[0m in \u001b[0;36m<cell line: 19>\u001b[0;34m()\u001b[0m\n\u001b[1;32m     <a href='vscode-notebook-cell:/Users/kiratalreja/repos/Cogent3/src/benchmarking%20scrips/Benchmarking-noBak.ipynb#W1sZmlsZQ%3D%3D?line=15'>16</a>\u001b[0m seq \u001b[39m=\u001b[39m seqs\u001b[39m.\u001b[39mseqs[\u001b[39m0\u001b[39m]\n\u001b[1;32m     <a href='vscode-notebook-cell:/Users/kiratalreja/repos/Cogent3/src/benchmarking%20scrips/Benchmarking-noBak.ipynb#W1sZmlsZQ%3D%3D?line=16'>17</a>\u001b[0m seq\u001b[39m.\u001b[39mname \u001b[39m=\u001b[39m \u001b[39m\"\u001b[39m\u001b[39m1\u001b[39m\u001b[39m\"\u001b[39m\n\u001b[0;32m---> <a href='vscode-notebook-cell:/Users/kiratalreja/repos/Cogent3/src/benchmarking%20scrips/Benchmarking-noBak.ipynb#W1sZmlsZQ%3D%3D?line=18'>19</a>\u001b[0m seq\u001b[39m.\u001b[39;49mannotate_from_gff(gff, pre_parsed\u001b[39m=\u001b[39;49m\u001b[39mTrue\u001b[39;49;00m)\n\u001b[1;32m     <a href='vscode-notebook-cell:/Users/kiratalreja/repos/Cogent3/src/benchmarking%20scrips/Benchmarking-noBak.ipynb#W1sZmlsZQ%3D%3D?line=19'>20</a>\u001b[0m seq\u001b[39m.\u001b[39mget_annotations_matching(\u001b[39m\"\u001b[39m\u001b[39mgene\u001b[39m\u001b[39m\"\u001b[39m)\n",
      "File \u001b[0;32m~/opt/anaconda3/envs/c310dev/lib/python3.10/site-packages/cogent3/core/sequence.py:924\u001b[0m, in \u001b[0;36mSequence.annotate_from_gff\u001b[0;34m(self, f, pre_parsed)\u001b[0m\n\u001b[1;32m    922\u001b[0m \u001b[39mwhile\u001b[39;00m grouped:\n\u001b[1;32m    923\u001b[0m     \u001b[39mfor\u001b[39;00m key, features \u001b[39min\u001b[39;00m top_level\u001b[39m.\u001b[39mitems():\n\u001b[0;32m--> 924\u001b[0m         child_features \u001b[39m=\u001b[39m grouped\u001b[39m.\u001b[39;49mpop(key, [])\n\u001b[1;32m    925\u001b[0m         \u001b[39mif\u001b[39;00m child_features:\n\u001b[1;32m    926\u001b[0m             \u001b[39mbreak\u001b[39;00m\n",
      "\u001b[0;31mKeyboardInterrupt\u001b[0m: "
     ]
    }
   ],
   "source": [
    "from cogent3.parse.fasta import FastaParser\n",
    "from cogent3 import load_unaligned_seqs\n",
    "from cogent3.parse.gff import gff_parser\n",
    "\n",
    "def fix_gff(gff):\n",
    "    return [r for r in gff if r[\"Attributes\"]['ID']]\n",
    "\n",
    "fasta_path = \"/Users/kiratalreja/Downloads/Homo_sapiens.GRCh38.dna.chromosome.1.fa\"\n",
    "gff3_path = \"/Users/kiratalreja/Downloads/Homo_sapiens.GRCh38.108.chromosome.1.gff3\"\n",
    "\n",
    "gff= list(gff_parser(gff3_path))\n",
    "gff = fix_gff(gff)\n",
    "\n",
    "seqs = load_unaligned_seqs(fasta_path,moltype='dna')\n",
    "\n",
    "seq = seqs.seqs[0]\n",
    "seq.name = \"1\"\n",
    "\n",
    "seq.annotate_from_gff(gff, pre_parsed=True)\n",
    "seq.get_annotations_matching(\"gene\")"
   ]
  },
  {
   "cell_type": "markdown",
   "metadata": {},
   "source": [
    "New Approach"
   ]
  },
  {
   "cell_type": "code",
   "execution_count": 1,
   "metadata": {},
   "outputs": [],
   "source": [
    "def newapproach():\n",
    "        from cogent3.core.annotation import GffAnnotationDb\n",
    "        from cogent3.parse.gff import gff_parser\n",
    "\n",
    "        gff_path = '/Users/kiratalreja/Downloads/Homo_sapiens.GRCh38.108.chromosome.1.gff3'\n",
    "        db = GffAnnotationDb(gff_path)\n",
    "        db.find_records(bio_type='gene')"
   ]
  },
  {
   "cell_type": "code",
   "execution_count": 7,
   "metadata": {},
   "outputs": [],
   "source": [
    "from cogent3.core.annotation import GffAnnotationDb\n",
    "from cogent3.parse.gff import gff_parser\n",
    "\n",
    "gff_path = '/Users/kiratalreja/Downloads/Homo_sapiens.GRCh38.108.chromosome.1.gff3'\n",
    "db = GffAnnotationDb(gff_path)\n",
    "db.find_records(bio_type='gene')\n",
    "def just_the_query():\n",
    "    db.find_records(bio_type='gene')"
   ]
  },
  {
   "cell_type": "code",
   "execution_count": 8,
   "metadata": {},
   "outputs": [],
   "source": [
    "from pycallgraph2 import PyCallGraph\n",
    "from pycallgraph2 import Config\n",
    "from pycallgraph2 import GlobbingFilter\n",
    "from pycallgraph2.output import GraphvizOutput\n",
    "\n",
    "def call_graph_filtered(\n",
    "        just_the_query, \n",
    "        output_png=\"call_graph_png\",\n",
    "        custom_include=None\n",
    "\n",
    "    ):\n",
    "    \"\"\"A call graph generator filtered\"\"\"\n",
    "    config = Config()\n",
    "    config.trace_filter = GlobbingFilter(\n",
    "        include=custom_include)\n",
    "    graphviz = GraphvizOutput(output_file=output_png)\n",
    "\n",
    "    with PyCallGraph(output=graphviz, config=config):\n",
    "            just_the_query()"
   ]
  },
  {
   "cell_type": "code",
   "execution_count": 10,
   "metadata": {},
   "outputs": [
    {
     "ename": "PyCallGraphException",
     "evalue": "The command \"dot\" is required to be in your path.",
     "output_type": "error",
     "traceback": [
      "\u001b[0;31m---------------------------------------------------------------------------\u001b[0m",
      "\u001b[0;31mPyCallGraphException\u001b[0m                      Traceback (most recent call last)",
      "\u001b[1;32m/Users/kiratalreja/repos/Cogent3/src/benchmarking scrips/Benchmarking-noBak.ipynb Cell 7\u001b[0m in \u001b[0;36m<cell line: 3>\u001b[0;34m()\u001b[0m\n\u001b[1;32m      <a href='vscode-notebook-cell:/Users/kiratalreja/repos/Cogent3/src/benchmarking%20scrips/Benchmarking-noBak.ipynb#W6sZmlsZQ%3D%3D?line=0'>1</a>\u001b[0m graphviz \u001b[39m=\u001b[39m GraphvizOutput()\n\u001b[1;32m      <a href='vscode-notebook-cell:/Users/kiratalreja/repos/Cogent3/src/benchmarking%20scrips/Benchmarking-noBak.ipynb#W6sZmlsZQ%3D%3D?line=1'>2</a>\u001b[0m graphviz\u001b[39m.\u001b[39moutput_file \u001b[39m=\u001b[39m \u001b[39m'\u001b[39m\u001b[39mnewcallgraph.png\u001b[39m\u001b[39m'\u001b[39m\n\u001b[0;32m----> <a href='vscode-notebook-cell:/Users/kiratalreja/repos/Cogent3/src/benchmarking%20scrips/Benchmarking-noBak.ipynb#W6sZmlsZQ%3D%3D?line=2'>3</a>\u001b[0m call_graph_filtered(just_the_query)\n",
      "\u001b[1;32m/Users/kiratalreja/repos/Cogent3/src/benchmarking scrips/Benchmarking-noBak.ipynb Cell 7\u001b[0m in \u001b[0;36mcall_graph_filtered\u001b[0;34m(just_the_query, output_png, custom_include)\u001b[0m\n\u001b[1;32m     <a href='vscode-notebook-cell:/Users/kiratalreja/repos/Cogent3/src/benchmarking%20scrips/Benchmarking-noBak.ipynb#W6sZmlsZQ%3D%3D?line=13'>14</a>\u001b[0m config\u001b[39m.\u001b[39mtrace_filter \u001b[39m=\u001b[39m GlobbingFilter(\n\u001b[1;32m     <a href='vscode-notebook-cell:/Users/kiratalreja/repos/Cogent3/src/benchmarking%20scrips/Benchmarking-noBak.ipynb#W6sZmlsZQ%3D%3D?line=14'>15</a>\u001b[0m     include\u001b[39m=\u001b[39mcustom_include)\n\u001b[1;32m     <a href='vscode-notebook-cell:/Users/kiratalreja/repos/Cogent3/src/benchmarking%20scrips/Benchmarking-noBak.ipynb#W6sZmlsZQ%3D%3D?line=15'>16</a>\u001b[0m graphviz \u001b[39m=\u001b[39m GraphvizOutput(output_file\u001b[39m=\u001b[39moutput_png)\n\u001b[0;32m---> <a href='vscode-notebook-cell:/Users/kiratalreja/repos/Cogent3/src/benchmarking%20scrips/Benchmarking-noBak.ipynb#W6sZmlsZQ%3D%3D?line=17'>18</a>\u001b[0m \u001b[39mwith\u001b[39;00m PyCallGraph(output\u001b[39m=\u001b[39;49mgraphviz, config\u001b[39m=\u001b[39;49mconfig):\n\u001b[1;32m     <a href='vscode-notebook-cell:/Users/kiratalreja/repos/Cogent3/src/benchmarking%20scrips/Benchmarking-noBak.ipynb#W6sZmlsZQ%3D%3D?line=18'>19</a>\u001b[0m         just_the_query()\n",
      "File \u001b[0;32m~/opt/anaconda3/envs/c310dev/lib/python3.10/site-packages/pycallgraph2/pycallgraph.py:31\u001b[0m, in \u001b[0;36mPyCallGraph.__init__\u001b[0;34m(self, output, config)\u001b[0m\n\u001b[1;32m     28\u001b[0m \u001b[39mif\u001b[39;00m configured_output:\n\u001b[1;32m     29\u001b[0m     \u001b[39mself\u001b[39m\u001b[39m.\u001b[39moutput\u001b[39m.\u001b[39mappend(configured_output)\n\u001b[0;32m---> 31\u001b[0m \u001b[39mself\u001b[39;49m\u001b[39m.\u001b[39;49mreset()\n",
      "File \u001b[0;32m~/opt/anaconda3/envs/c310dev/lib/python3.10/site-packages/pycallgraph2/pycallgraph.py:52\u001b[0m, in \u001b[0;36mPyCallGraph.reset\u001b[0;34m(self)\u001b[0m\n\u001b[1;32m     49\u001b[0m \u001b[39mself\u001b[39m\u001b[39m.\u001b[39mtracer \u001b[39m=\u001b[39m \u001b[39mself\u001b[39m\u001b[39m.\u001b[39mget_tracer_class()(\u001b[39mself\u001b[39m\u001b[39m.\u001b[39moutput, config\u001b[39m=\u001b[39m\u001b[39mself\u001b[39m\u001b[39m.\u001b[39mconfig)\n\u001b[1;32m     51\u001b[0m \u001b[39mfor\u001b[39;00m output \u001b[39min\u001b[39;00m \u001b[39mself\u001b[39m\u001b[39m.\u001b[39moutput:\n\u001b[0;32m---> 52\u001b[0m     \u001b[39mself\u001b[39;49m\u001b[39m.\u001b[39;49mprepare_output(output)\n",
      "File \u001b[0;32m~/opt/anaconda3/envs/c310dev/lib/python3.10/site-packages/pycallgraph2/pycallgraph.py:96\u001b[0m, in \u001b[0;36mPyCallGraph.prepare_output\u001b[0;34m(self, output)\u001b[0m\n\u001b[1;32m     95\u001b[0m \u001b[39mdef\u001b[39;00m \u001b[39mprepare_output\u001b[39m(\u001b[39mself\u001b[39m, output):\n\u001b[0;32m---> 96\u001b[0m     output\u001b[39m.\u001b[39;49msanity_check()\n\u001b[1;32m     97\u001b[0m     output\u001b[39m.\u001b[39mset_processor(\u001b[39mself\u001b[39m\u001b[39m.\u001b[39mtracer\u001b[39m.\u001b[39mprocessor)\n\u001b[1;32m     98\u001b[0m     output\u001b[39m.\u001b[39mreset()\n",
      "File \u001b[0;32m~/opt/anaconda3/envs/c310dev/lib/python3.10/site-packages/pycallgraph2/output/graphviz.py:65\u001b[0m, in \u001b[0;36mGraphvizOutput.sanity_check\u001b[0;34m(self)\u001b[0m\n\u001b[1;32m     64\u001b[0m \u001b[39mdef\u001b[39;00m \u001b[39msanity_check\u001b[39m(\u001b[39mself\u001b[39m):\n\u001b[0;32m---> 65\u001b[0m     \u001b[39mself\u001b[39;49m\u001b[39m.\u001b[39;49mensure_binary(\u001b[39mself\u001b[39;49m\u001b[39m.\u001b[39;49mtool)\n",
      "File \u001b[0;32m~/opt/anaconda3/envs/c310dev/lib/python3.10/site-packages/pycallgraph2/output/output.py:96\u001b[0m, in \u001b[0;36mOutput.ensure_binary\u001b[0;34m(self, cmd)\u001b[0m\n\u001b[1;32m     93\u001b[0m \u001b[39mif\u001b[39;00m find_executable(cmd):\n\u001b[1;32m     94\u001b[0m     \u001b[39mreturn\u001b[39;00m\n\u001b[0;32m---> 96\u001b[0m \u001b[39mraise\u001b[39;00m PyCallGraphException(\n\u001b[1;32m     97\u001b[0m     \u001b[39m'\u001b[39m\u001b[39mThe command \u001b[39m\u001b[39m\"\u001b[39m\u001b[39m{0}\u001b[39;00m\u001b[39m\"\u001b[39m\u001b[39m is required to be in your path.\u001b[39m\u001b[39m'\u001b[39m\u001b[39m.\u001b[39mformat(cmd))\n",
      "\u001b[0;31mPyCallGraphException\u001b[0m: The command \"dot\" is required to be in your path."
     ]
    }
   ],
   "source": [
    "graphviz = GraphvizOutput()\n",
    "graphviz.output_file = 'newcallgraph.png'\n",
    "call_graph_filtered(just_the_query)"
   ]
  },
  {
   "cell_type": "code",
   "execution_count": 11,
   "metadata": {},
   "outputs": [
    {
     "ename": "PyCallGraphException",
     "evalue": "The command \"dot\" is required to be in your path.",
     "output_type": "error",
     "traceback": [
      "\u001b[0;31m---------------------------------------------------------------------------\u001b[0m",
      "\u001b[0;31mPyCallGraphException\u001b[0m                      Traceback (most recent call last)",
      "\u001b[1;32m/Users/kiratalreja/repos/Cogent3/src/benchmarking scrips/Benchmarking-noBak.ipynb Cell 8\u001b[0m in \u001b[0;36m<cell line: 4>\u001b[0;34m()\u001b[0m\n\u001b[1;32m      <a href='vscode-notebook-cell:/Users/kiratalreja/repos/Cogent3/src/benchmarking%20scrips/Benchmarking-noBak.ipynb#X12sZmlsZQ%3D%3D?line=0'>1</a>\u001b[0m \u001b[39mfrom\u001b[39;00m \u001b[39mpycallgraph2\u001b[39;00m \u001b[39mimport\u001b[39;00m PyCallGraph\n\u001b[1;32m      <a href='vscode-notebook-cell:/Users/kiratalreja/repos/Cogent3/src/benchmarking%20scrips/Benchmarking-noBak.ipynb#X12sZmlsZQ%3D%3D?line=1'>2</a>\u001b[0m \u001b[39mfrom\u001b[39;00m \u001b[39mpycallgraph2\u001b[39;00m\u001b[39m.\u001b[39;00m\u001b[39moutput\u001b[39;00m \u001b[39mimport\u001b[39;00m GraphvizOutput\n\u001b[0;32m----> <a href='vscode-notebook-cell:/Users/kiratalreja/repos/Cogent3/src/benchmarking%20scrips/Benchmarking-noBak.ipynb#X12sZmlsZQ%3D%3D?line=3'>4</a>\u001b[0m \u001b[39mwith\u001b[39;00m PyCallGraph(output\u001b[39m=\u001b[39;49mGraphvizOutput()):\n\u001b[1;32m      <a href='vscode-notebook-cell:/Users/kiratalreja/repos/Cogent3/src/benchmarking%20scrips/Benchmarking-noBak.ipynb#X12sZmlsZQ%3D%3D?line=4'>5</a>\u001b[0m     just_the_query()\n",
      "File \u001b[0;32m~/opt/anaconda3/envs/c310dev/lib/python3.10/site-packages/pycallgraph2/pycallgraph.py:31\u001b[0m, in \u001b[0;36mPyCallGraph.__init__\u001b[0;34m(self, output, config)\u001b[0m\n\u001b[1;32m     28\u001b[0m \u001b[39mif\u001b[39;00m configured_output:\n\u001b[1;32m     29\u001b[0m     \u001b[39mself\u001b[39m\u001b[39m.\u001b[39moutput\u001b[39m.\u001b[39mappend(configured_output)\n\u001b[0;32m---> 31\u001b[0m \u001b[39mself\u001b[39;49m\u001b[39m.\u001b[39;49mreset()\n",
      "File \u001b[0;32m~/opt/anaconda3/envs/c310dev/lib/python3.10/site-packages/pycallgraph2/pycallgraph.py:52\u001b[0m, in \u001b[0;36mPyCallGraph.reset\u001b[0;34m(self)\u001b[0m\n\u001b[1;32m     49\u001b[0m \u001b[39mself\u001b[39m\u001b[39m.\u001b[39mtracer \u001b[39m=\u001b[39m \u001b[39mself\u001b[39m\u001b[39m.\u001b[39mget_tracer_class()(\u001b[39mself\u001b[39m\u001b[39m.\u001b[39moutput, config\u001b[39m=\u001b[39m\u001b[39mself\u001b[39m\u001b[39m.\u001b[39mconfig)\n\u001b[1;32m     51\u001b[0m \u001b[39mfor\u001b[39;00m output \u001b[39min\u001b[39;00m \u001b[39mself\u001b[39m\u001b[39m.\u001b[39moutput:\n\u001b[0;32m---> 52\u001b[0m     \u001b[39mself\u001b[39;49m\u001b[39m.\u001b[39;49mprepare_output(output)\n",
      "File \u001b[0;32m~/opt/anaconda3/envs/c310dev/lib/python3.10/site-packages/pycallgraph2/pycallgraph.py:96\u001b[0m, in \u001b[0;36mPyCallGraph.prepare_output\u001b[0;34m(self, output)\u001b[0m\n\u001b[1;32m     95\u001b[0m \u001b[39mdef\u001b[39;00m \u001b[39mprepare_output\u001b[39m(\u001b[39mself\u001b[39m, output):\n\u001b[0;32m---> 96\u001b[0m     output\u001b[39m.\u001b[39;49msanity_check()\n\u001b[1;32m     97\u001b[0m     output\u001b[39m.\u001b[39mset_processor(\u001b[39mself\u001b[39m\u001b[39m.\u001b[39mtracer\u001b[39m.\u001b[39mprocessor)\n\u001b[1;32m     98\u001b[0m     output\u001b[39m.\u001b[39mreset()\n",
      "File \u001b[0;32m~/opt/anaconda3/envs/c310dev/lib/python3.10/site-packages/pycallgraph2/output/graphviz.py:65\u001b[0m, in \u001b[0;36mGraphvizOutput.sanity_check\u001b[0;34m(self)\u001b[0m\n\u001b[1;32m     64\u001b[0m \u001b[39mdef\u001b[39;00m \u001b[39msanity_check\u001b[39m(\u001b[39mself\u001b[39m):\n\u001b[0;32m---> 65\u001b[0m     \u001b[39mself\u001b[39;49m\u001b[39m.\u001b[39;49mensure_binary(\u001b[39mself\u001b[39;49m\u001b[39m.\u001b[39;49mtool)\n",
      "File \u001b[0;32m~/opt/anaconda3/envs/c310dev/lib/python3.10/site-packages/pycallgraph2/output/output.py:96\u001b[0m, in \u001b[0;36mOutput.ensure_binary\u001b[0;34m(self, cmd)\u001b[0m\n\u001b[1;32m     93\u001b[0m \u001b[39mif\u001b[39;00m find_executable(cmd):\n\u001b[1;32m     94\u001b[0m     \u001b[39mreturn\u001b[39;00m\n\u001b[0;32m---> 96\u001b[0m \u001b[39mraise\u001b[39;00m PyCallGraphException(\n\u001b[1;32m     97\u001b[0m     \u001b[39m'\u001b[39m\u001b[39mThe command \u001b[39m\u001b[39m\"\u001b[39m\u001b[39m{0}\u001b[39;00m\u001b[39m\"\u001b[39m\u001b[39m is required to be in your path.\u001b[39m\u001b[39m'\u001b[39m\u001b[39m.\u001b[39mformat(cmd))\n",
      "\u001b[0;31mPyCallGraphException\u001b[0m: The command \"dot\" is required to be in your path."
     ]
    }
   ],
   "source": [
    "from pycallgraph2 import PyCallGraph\n",
    "from pycallgraph2.output import GraphvizOutput\n",
    "\n",
    "with PyCallGraph(output=GraphvizOutput()):\n",
    "    just_the_query()"
   ]
  },
  {
   "cell_type": "code",
   "execution_count": 2,
   "metadata": {},
   "outputs": [
    {
     "ename": "TypeError",
     "evalue": "GffAnnotationDb.find_records() missing 2 required positional arguments: 'start' and 'end'",
     "output_type": "error",
     "traceback": [
      "\u001b[0;31m---------------------------------------------------------------------------\u001b[0m",
      "\u001b[0;31mTypeError\u001b[0m                                 Traceback (most recent call last)",
      "\u001b[1;32m/Users/kiratalreja/repos/Cogent3/src/benchmarking scrips/Benchmarking-noBak.ipynb Cell 9\u001b[0m in \u001b[0;36m<cell line: 7>\u001b[0;34m()\u001b[0m\n\u001b[1;32m      <a href='vscode-notebook-cell:/Users/kiratalreja/repos/Cogent3/src/benchmarking%20scrips/Benchmarking-noBak.ipynb#X11sZmlsZQ%3D%3D?line=4'>5</a>\u001b[0m gff_path \u001b[39m=\u001b[39m \u001b[39m'\u001b[39m\u001b[39m/Users/kiratalreja/Downloads/Homo_sapiens.GRCh38.108.chromosome.1.gff3\u001b[39m\u001b[39m'\u001b[39m\n\u001b[1;32m      <a href='vscode-notebook-cell:/Users/kiratalreja/repos/Cogent3/src/benchmarking%20scrips/Benchmarking-noBak.ipynb#X11sZmlsZQ%3D%3D?line=5'>6</a>\u001b[0m db \u001b[39m=\u001b[39m GffAnnotationDb(gff_path)\n\u001b[0;32m----> <a href='vscode-notebook-cell:/Users/kiratalreja/repos/Cogent3/src/benchmarking%20scrips/Benchmarking-noBak.ipynb#X11sZmlsZQ%3D%3D?line=6'>7</a>\u001b[0m db\u001b[39m.\u001b[39;49mfind_records(bio_type\u001b[39m=\u001b[39;49m\u001b[39m'\u001b[39;49m\u001b[39mgene\u001b[39;49m\u001b[39m'\u001b[39;49m)\n\u001b[1;32m      <a href='vscode-notebook-cell:/Users/kiratalreja/repos/Cogent3/src/benchmarking%20scrips/Benchmarking-noBak.ipynb#X11sZmlsZQ%3D%3D?line=8'>9</a>\u001b[0m fasta_path \u001b[39m=\u001b[39m \u001b[39m\"\u001b[39m\u001b[39m/Users/kiratalreja/Downloads/Homo_sapiens.GRCh38.dna.chromosome.1.fa\u001b[39m\u001b[39m\"\u001b[39m\n\u001b[1;32m     <a href='vscode-notebook-cell:/Users/kiratalreja/repos/Cogent3/src/benchmarking%20scrips/Benchmarking-noBak.ipynb#X11sZmlsZQ%3D%3D?line=9'>10</a>\u001b[0m seqs \u001b[39m=\u001b[39m load_unaligned_seqs(fasta_path,moltype\u001b[39m=\u001b[39m\u001b[39m'\u001b[39m\u001b[39mdna\u001b[39m\u001b[39m'\u001b[39m)\n",
      "\u001b[0;31mTypeError\u001b[0m: GffAnnotationDb.find_records() missing 2 required positional arguments: 'start' and 'end'"
     ]
    }
   ],
   "source": [
    "import gc\n",
    "from cogent3.core.annotation import GffAnnotationDb\n",
    "from cogent3 import load_unaligned_seqs\n",
    "\n",
    "gff_path = '/Users/kiratalreja/Downloads/Homo_sapiens.GRCh38.108.chromosome.1.gff3'\n",
    "db = GffAnnotationDb(gff_path)\n",
    "fasta_path = \"/Users/kiratalreja/Downloads/Homo_sapiens.GRCh38.dna.chromosome.1.fa\"\n",
    "seqs = load_unaligned_seqs(fasta_path,moltype='dna')\n",
    "seq = seqs.seqs[0]\n",
    "seq.name = \"1\"\n",
    "\n",
    "seq.annotate_from_db(db,bio_type=\"gene\")\n",
    "seq.get_annotations_matching(\"gene\")"
   ]
  }
 ],
 "metadata": {
  "kernelspec": {
   "display_name": "Python 3.10.0 ('c310dev')",
   "language": "python",
   "name": "python3"
  },
  "language_info": {
   "codemirror_mode": {
    "name": "ipython",
    "version": 3
   },
   "file_extension": ".py",
   "mimetype": "text/x-python",
   "name": "python",
   "nbconvert_exporter": "python",
   "pygments_lexer": "ipython3",
   "version": "3.10.0"
  },
  "orig_nbformat": 4,
  "vscode": {
   "interpreter": {
    "hash": "cdab2fb02dc4d68ed9e9d327e285305822cd116f79900361a665d6985eb56184"
   }
  }
 },
 "nbformat": 4,
 "nbformat_minor": 2
}
