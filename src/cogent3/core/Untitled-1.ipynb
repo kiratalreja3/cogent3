{
 "cells": [
  {
   "cell_type": "code",
   "execution_count": null,
   "metadata": {},
   "outputs": [
    {
     "ename": "",
     "evalue": "",
     "output_type": "error",
     "traceback": [
      "\u001b[1;31mFailed to start the Kernel. \n",
      "\u001b[1;31mAttributeError: module 'profile' has no attribute 'run'. \n",
      "\u001b[1;31mView Jupyter <a href='command:jupyter.viewOutput'>log</a> for further details."
     ]
    }
   ],
   "source": [
    "from cogent3.core.sequence import Sequence"
   ]
  },
  {
   "cell_type": "code",
   "execution_count": 2,
   "metadata": {},
   "outputs": [],
   "source": [
    "from cogent3 import load_unaligned_seqs\n",
    "from cogent3.parse.gff import gff_parser\n",
    "\n",
    "\n",
    "fasta_path = \"/Users/kiratalreja/Downloads/Homo_sapiens.GRCh38.dna.chromosome.1.fa\"\n",
    "\n",
    "seqs = load_unaligned_seqs(fasta_path,moltype='dna')\n",
    "\n",
    "seq = seqs.seqs[0]\n",
    "seq.name = \"1\""
   ]
  },
  {
   "cell_type": "code",
   "execution_count": 3,
   "metadata": {},
   "outputs": [],
   "source": [
    "import gc\n",
    "from cogent3.core.annotation import GffAnnotationDb\n",
    "from cogent3.parse.gff import gff_parser\n",
    "\n",
    "gff_path = '/Users/kiratalreja/Downloads/Homo_sapiens.GRCh38.108.chromosome.1.gff3'\n",
    "db = GffAnnotationDb(gff_path)"
   ]
  },
  {
   "cell_type": "code",
   "execution_count": 4,
   "metadata": {},
   "outputs": [
    {
     "ename": "OperationalError",
     "evalue": "near \"ANDType\": syntax error",
     "output_type": "error",
     "traceback": [
      "\u001b[0;31m---------------------------------------------------------------------------\u001b[0m",
      "\u001b[0;31mOperationalError\u001b[0m                          Traceback (most recent call last)",
      "\u001b[1;32mUntitled-1.ipynb Cell 4\u001b[0m in \u001b[0;36m<cell line: 1>\u001b[0;34m()\u001b[0m\n\u001b[0;32m----> <a href='vscode-notebook-cell:Untitled-1.ipynb?jupyter-notebook#W3sdW50aXRsZWQ%3D?line=0'>1</a>\u001b[0m seq\u001b[39m.\u001b[39;49mannotate_from_db(db,bio_type\u001b[39m=\u001b[39;49m\u001b[39m'\u001b[39;49m\u001b[39mgene\u001b[39;49m\u001b[39m'\u001b[39;49m)\n",
      "File \u001b[0;32m~/opt/anaconda3/envs/c310dev/lib/python3.10/site-packages/cogent3/core/sequence.py:1231\u001b[0m, in \u001b[0;36mSequence.annotate_from_db\u001b[0;34m(self, db, bio_type, identifier, start, end, strand)\u001b[0m\n\u001b[1;32m   1228\u001b[0m \u001b[39mif\u001b[39;00m \u001b[39mnot\u001b[39;00m end:\n\u001b[1;32m   1229\u001b[0m     end \u001b[39m=\u001b[39m \u001b[39mlen\u001b[39m(\u001b[39mself\u001b[39m)\n\u001b[0;32m-> 1231\u001b[0m features \u001b[39m=\u001b[39m db\u001b[39m.\u001b[39;49mfind_records(start,end,bio_type\u001b[39m=\u001b[39;49mbio_type,identifier\u001b[39m=\u001b[39;49midentifier)\n\u001b[1;32m   1233\u001b[0m \u001b[39mfor\u001b[39;00m feature \u001b[39min\u001b[39;00m features:\n\u001b[1;32m   1234\u001b[0m     \u001b[39mself\u001b[39m\u001b[39m.\u001b[39madd_feature(\u001b[39mtype\u001b[39m\u001b[39m=\u001b[39mfeature[\u001b[39m1\u001b[39m],name\u001b[39m=\u001b[39mfeature[\u001b[39m0\u001b[39m],spans\u001b[39m=\u001b[39m[\u001b[39m2\u001b[39m])\n",
      "File \u001b[0;32m~/opt/anaconda3/envs/c310dev/lib/python3.10/site-packages/cogent3/core/annotation.py:599\u001b[0m, in \u001b[0;36mGffAnnotationDb.find_records\u001b[0;34m(self, start, end, name, bio_type, identifier)\u001b[0m\n\u001b[1;32m    594\u001b[0m \u001b[39mdef\u001b[39;00m \u001b[39mfind_records\u001b[39m(\u001b[39mself\u001b[39m,start,end,name\u001b[39m=\u001b[39m\u001b[39mNone\u001b[39;00m,bio_type\u001b[39m=\u001b[39m\u001b[39mNone\u001b[39;00m,identifier\u001b[39m=\u001b[39m\u001b[39mNone\u001b[39;00m):\n\u001b[1;32m    595\u001b[0m     \u001b[39m#return a list of dictionaries \u001b[39;00m\n\u001b[1;32m    596\u001b[0m     \u001b[39m#[dict(type=\"\", name=\"\", spans=[]), ...]\u001b[39;00m\n\u001b[1;32m    597\u001b[0m     \u001b[39m# Feature(self, **d)\u001b[39;00m\n\u001b[1;32m    598\u001b[0m     rowdict \u001b[39m=\u001b[39m {}\n\u001b[0;32m--> 599\u001b[0m     \u001b[39mfor\u001b[39;00m row \u001b[39min\u001b[39;00m \u001b[39mself\u001b[39;49m\u001b[39m.\u001b[39;49mdb_query(start,end,bio_type ,identifier):\n\u001b[1;32m    600\u001b[0m         attr \u001b[39m=\u001b[39m json\u001b[39m.\u001b[39mloads(row[\u001b[39m'\u001b[39m\u001b[39mAttributes\u001b[39m\u001b[39m'\u001b[39m])\n\u001b[1;32m    601\u001b[0m         id_ \u001b[39m=\u001b[39m attr[\u001b[39m'\u001b[39m\u001b[39mID\u001b[39m\u001b[39m'\u001b[39m]\n",
      "File \u001b[0;32m~/opt/anaconda3/envs/c310dev/lib/python3.10/site-packages/cogent3/core/annotation.py:566\u001b[0m, in \u001b[0;36mGffAnnotationDb.db_query\u001b[0;34m(self, start, end, bio_type, identifier)\u001b[0m\n\u001b[1;32m    564\u001b[0m \u001b[39mself\u001b[39m\u001b[39m.\u001b[39mname \u001b[39m=\u001b[39m \u001b[39mlist\u001b[39m(\u001b[39mself\u001b[39m\u001b[39m.\u001b[39mdb\u001b[39m.\u001b[39mfetchall())[\u001b[39m0\u001b[39m][\u001b[39m'\u001b[39m\u001b[39mSeqID\u001b[39m\u001b[39m'\u001b[39m]\n\u001b[1;32m    565\u001b[0m values\u001b[39m.\u001b[39minsert(\u001b[39m0\u001b[39m, \u001b[39mself\u001b[39m\u001b[39m.\u001b[39mname)\n\u001b[0;32m--> 566\u001b[0m \u001b[39mself\u001b[39;49m\u001b[39m.\u001b[39;49mdb\u001b[39m.\u001b[39;49mexecute(query, \u001b[39mtuple\u001b[39;49m(values));\n\u001b[1;32m    567\u001b[0m rows \u001b[39m=\u001b[39m \u001b[39mself\u001b[39m\u001b[39m.\u001b[39mdb\u001b[39m.\u001b[39mfetchall()\n\u001b[1;32m    568\u001b[0m \u001b[39mreturn\u001b[39;00m rows\n",
      "\u001b[0;31mOperationalError\u001b[0m: near \"ANDType\": syntax error"
     ]
    }
   ],
   "source": [
    "seq.annotate_from_db(db,bio_type='gene')"
   ]
  }
 ],
 "metadata": {
  "kernelspec": {
   "display_name": "Python 3.10.0 ('c310dev')",
   "language": "python",
   "name": "python3"
  },
  "language_info": {
   "codemirror_mode": {
    "name": "ipython",
    "version": 3
   },
   "file_extension": ".py",
   "mimetype": "text/x-python",
   "name": "python",
   "nbconvert_exporter": "python",
   "pygments_lexer": "ipython3",
   "version": "3.10.0"
  },
  "orig_nbformat": 4,
  "vscode": {
   "interpreter": {
    "hash": "cdab2fb02dc4d68ed9e9d327e285305822cd116f79900361a665d6985eb56184"
   }
  }
 },
 "nbformat": 4,
 "nbformat_minor": 2
}
