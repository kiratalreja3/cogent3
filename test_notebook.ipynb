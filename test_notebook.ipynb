{
 "cells": [
  {
   "cell_type": "code",
   "execution_count": 39,
   "metadata": {},
   "outputs": [],
   "source": [
    "from cogent3.parse.genbank import MinimalGenbankParser\n",
    "from cogent3 import open_\n",
    "\n",
    "with open_(\"/Users/kiratalreja/Downloads/GCA_014904935.1_Melbro1_genomic.gbff\") as infile:\n",
    "    data = list(MinimalGenbankParser(infile))\n",
    "\n",
    "record = data[0]\n",
    "feature = record[\"features\"]\n",
    "\n"
   ]
  },
  {
   "cell_type": "code",
   "execution_count": 18,
   "metadata": {},
   "outputs": [
    {
     "data": {
      "text/plain": [
       "{'type': 'CDS',\n",
       " 'raw_location': ['join(66201..66321,66422..66578,66639..66708,66772..66884,',\n",
       "  '                     66971..67032,67058..67235,67364..67445)'],\n",
       " 'location': [<cogent3.parse.genbank.Location at 0x7fb66c926020>,\n",
       "  <cogent3.parse.genbank.Location at 0x7fb66c9260b0>,\n",
       "  <cogent3.parse.genbank.Location at 0x7fb66c9261d0>,\n",
       "  <cogent3.parse.genbank.Location at 0x7fb66c925f90>,\n",
       "  <cogent3.parse.genbank.Location at 0x7fb66c926620>,\n",
       "  <cogent3.parse.genbank.Location at 0x7fb66c9266b0>,\n",
       "  <cogent3.parse.genbank.Location at 0x7fb66c926740>],\n",
       " 'locus_tag': ['BU15DRAFT_57820'],\n",
       " 'codon_start': ['1'],\n",
       " 'product': ['hypothetical protein'],\n",
       " 'protein_id': ['KAF9246854.1'],\n",
       " 'db_xref': ['JGIDB:Melbro1_57820'],\n",
       " 'translation': ['MAQEAEDFLFFLPSWRTARSDLTIGADLGEDNAVRPVIFDVEPVGIRAGKVPYKLGGVRPPAKLIDHNVVVDTLLPGPAQAWVTRACGGGQYTIERDRQIWPNSGWTLNDITPGSPVLLGLIETETPQPYPVVEVHSRSLLGIVDTIRNLLVYMCSSMQTSNIVLGGFECELEIILDELSENHQLSTFVYTSDDVSICTQQPATEDEGEIASANSRRLHLNHHCGVTAIPRVKVDESEMTDAAVVTKDRSFKKRTDEGSG']}"
      ]
     },
     "execution_count": 18,
     "metadata": {},
     "output_type": "execute_result"
    }
   ],
   "source": [
    "feature[72]"
   ]
  },
  {
   "cell_type": "code",
   "execution_count": 45,
   "metadata": {},
   "outputs": [
    {
     "name": "stdout",
     "output_type": "stream",
     "text": [
      "not found\n"
     ]
    }
   ],
   "source": [
    "if 'locus_tag' not in list(feature[5].keys()):\n",
    "    print(\"not found\")"
   ]
  },
  {
   "cell_type": "code",
   "execution_count": 35,
   "metadata": {},
   "outputs": [
    {
     "ename": "KeyError",
     "evalue": "'locus_tag'",
     "output_type": "error",
     "traceback": [
      "\u001b[0;31m---------------------------------------------------------------------------\u001b[0m",
      "\u001b[0;31mKeyError\u001b[0m                                  Traceback (most recent call last)",
      "\u001b[1;32m/Users/kiratalreja/repos/Cogent3/test_notebook.ipynb Cell 3\u001b[0m in \u001b[0;36m<cell line: 3>\u001b[0;34m()\u001b[0m\n\u001b[1;32m      <a href='vscode-notebook-cell:/Users/kiratalreja/repos/Cogent3/test_notebook.ipynb#X31sZmlsZQ%3D%3D?line=5'>6</a>\u001b[0m     \u001b[39mcontinue\u001b[39;00m\n\u001b[1;32m      <a href='vscode-notebook-cell:/Users/kiratalreja/repos/Cogent3/test_notebook.ipynb#X31sZmlsZQ%3D%3D?line=6'>7</a>\u001b[0m i \u001b[39m=\u001b[39m entry\n\u001b[0;32m----> <a href='vscode-notebook-cell:/Users/kiratalreja/repos/Cogent3/test_notebook.ipynb#X31sZmlsZQ%3D%3D?line=7'>8</a>\u001b[0m i \u001b[39m=\u001b[39m entry[\u001b[39m'\u001b[39;49m\u001b[39mlocus_tag\u001b[39;49m\u001b[39m'\u001b[39;49m]\n",
      "\u001b[0;31mKeyError\u001b[0m: 'locus_tag'"
     ]
    }
   ],
   "source": [
    "count = 0\n",
    "fuck = 79\n",
    "for entry in feature[1:]:\n",
    "    count = count + 1\n",
    "    if count == 79:\n",
    "        continue\n",
    "    i = entry\n",
    "    i = entry['locus_tag']"
   ]
  },
  {
   "cell_type": "code",
   "execution_count": 36,
   "metadata": {},
   "outputs": [
    {
     "data": {
      "text/plain": [
       "89"
      ]
     },
     "execution_count": 36,
     "metadata": {},
     "output_type": "execute_result"
    }
   ],
   "source": [
    "count"
   ]
  },
  {
   "cell_type": "code",
   "execution_count": 37,
   "metadata": {},
   "outputs": [
    {
     "data": {
      "text/plain": [
       "{'type': 'assembly_gap',\n",
       " 'raw_location': ['79191..83762'],\n",
       " 'location': [<cogent3.parse.genbank.Location at 0x7fb66c9a4f40>],\n",
       " 'estimated_length': ['4572'],\n",
       " 'gap_type': ['within scaffold'],\n",
       " 'linkage_evidence': ['paired-ends']}"
      ]
     },
     "execution_count": 37,
     "metadata": {},
     "output_type": "execute_result"
    }
   ],
   "source": [
    "feature[89]"
   ]
  },
  {
   "cell_type": "code",
   "execution_count": 16,
   "metadata": {},
   "outputs": [
    {
     "name": "stdout",
     "output_type": "stream",
     "text": [
      "79\n"
     ]
    }
   ],
   "source": [
    "print(count)"
   ]
  },
  {
   "cell_type": "code",
   "execution_count": 48,
   "metadata": {},
   "outputs": [],
   "source": [
    "def fetch_from_featuredict(feature):\n",
    "    location = [(f.first(), f.last()) for f in feature[\"location\"]]\n",
    "    return [feature['type'],location,feature['locus_tag']]"
   ]
  },
  {
   "cell_type": "code",
   "execution_count": 49,
   "metadata": {},
   "outputs": [
    {
     "data": {
      "text/plain": [
       "['mRNA',\n",
       " [(11414, 11689), (11171, 11360), (10899, 11117), (10572, 10846)],\n",
       " ['BU15DRAFT_69695']]"
      ]
     },
     "execution_count": 49,
     "metadata": {},
     "output_type": "execute_result"
    }
   ],
   "source": [
    "fetch_from_featuredict(feature)"
   ]
  },
  {
   "cell_type": "code",
   "execution_count": null,
   "metadata": {},
   "outputs": [],
   "source": []
  },
  {
   "cell_type": "code",
   "execution_count": null,
   "metadata": {},
   "outputs": [],
   "source": []
  },
  {
   "cell_type": "code",
   "execution_count": 6,
   "metadata": {},
   "outputs": [
    {
     "ename": "IndexError",
     "evalue": "list index out of range",
     "output_type": "error",
     "traceback": [
      "\u001b[0;31m---------------------------------------------------------------------------\u001b[0m",
      "\u001b[0;31mIndexError\u001b[0m                                Traceback (most recent call last)",
      "\u001b[1;32m/Users/kiratalreja/repos/Cogent3/test_notebook.ipynb Cell 7\u001b[0m in \u001b[0;36m<cell line: 8>\u001b[0;34m()\u001b[0m\n\u001b[1;32m      <a href='vscode-notebook-cell:/Users/kiratalreja/repos/Cogent3/test_notebook.ipynb#X30sZmlsZQ%3D%3D?line=4'>5</a>\u001b[0m     data \u001b[39m=\u001b[39m \u001b[39mlist\u001b[39m(MinimalGenbankParser(infile))\n\u001b[1;32m      <a href='vscode-notebook-cell:/Users/kiratalreja/repos/Cogent3/test_notebook.ipynb#X30sZmlsZQ%3D%3D?line=6'>7</a>\u001b[0m record \u001b[39m=\u001b[39m data[\u001b[39m0\u001b[39m]\n\u001b[0;32m----> <a href='vscode-notebook-cell:/Users/kiratalreja/repos/Cogent3/test_notebook.ipynb#X30sZmlsZQ%3D%3D?line=7'>8</a>\u001b[0m feature \u001b[39m=\u001b[39m record[\u001b[39m\"\u001b[39;49m\u001b[39mfeatures\u001b[39;49m\u001b[39m\"\u001b[39;49m][\u001b[39m9800\u001b[39;49m]\n\u001b[1;32m      <a href='vscode-notebook-cell:/Users/kiratalreja/repos/Cogent3/test_notebook.ipynb#X30sZmlsZQ%3D%3D?line=8'>9</a>\u001b[0m spans \u001b[39m=\u001b[39m [(f\u001b[39m.\u001b[39mfirst(), f\u001b[39m.\u001b[39mlast()) \u001b[39mfor\u001b[39;00m f \u001b[39min\u001b[39;00m feature[\u001b[39m\"\u001b[39m\u001b[39mlocation\u001b[39m\u001b[39m\"\u001b[39m]]\n\u001b[1;32m     <a href='vscode-notebook-cell:/Users/kiratalreja/repos/Cogent3/test_notebook.ipynb#X30sZmlsZQ%3D%3D?line=9'>10</a>\u001b[0m feature[\u001b[39m\"\u001b[39m\u001b[39mlocation\u001b[39m\u001b[39m\"\u001b[39m]\u001b[39m.\u001b[39mstrand()\n",
      "\u001b[0;31mIndexError\u001b[0m: list index out of range"
     ]
    }
   ],
   "source": [
    "from cogent3.parse.genbank import MinimalGenbankParser\n",
    "from cogent3 import open_\n",
    "\n",
    "with open_(\"/Users/kiratalreja/repos/test_files/genbang/NC_000913.3.gb\") as infile:\n",
    "    data = list(MinimalGenbankParser(infile))\n",
    "\n",
    "record = data[0]\n",
    "feature = record[\"features\"][9800]\n",
    "spans = [(f.first(), f.last()) for f in feature[\"location\"]]\n",
    "feature[\"location\"].strand()\n",
    "feature.keys()"
   ]
  },
  {
   "cell_type": "code",
   "execution_count": 40,
   "metadata": {},
   "outputs": [
    {
     "data": {
      "text/plain": [
       "{'type': 'gene',\n",
       " 'raw_location': ['337..2799'],\n",
       " 'location': [<cogent3.parse.genbank.Location at 0x7fb01cf742e0>],\n",
       " 'gene': ['thrA'],\n",
       " 'locus_tag': ['b0002'],\n",
       " 'gene_synonym': ['ECK0002; Hs; thrA1; thrA2; thrD'],\n",
       " 'db_xref': ['ASAP:ABE-0000008', 'ECOCYC:EG10998', 'GeneID:945803']}"
      ]
     },
     "execution_count": 40,
     "metadata": {},
     "output_type": "execute_result"
    }
   ],
   "source": [
    "feature"
   ]
  },
  {
   "cell_type": "code",
   "execution_count": 35,
   "metadata": {},
   "outputs": [
    {
     "data": {
      "text/plain": [
       "dict_keys(['type', 'raw_location', 'location', 'locus_tag', 'codon_start', 'product', 'protein_id', 'db_xref', 'translation'])"
      ]
     },
     "execution_count": 35,
     "metadata": {},
     "output_type": "execute_result"
    }
   ],
   "source": [
    "feature.keys()"
   ]
  },
  {
   "cell_type": "code",
   "execution_count": 30,
   "metadata": {},
   "outputs": [
    {
     "data": {
      "text/plain": [
       "{'type': 'CDS',\n",
       " 'raw_location': ['complement(join(1716..1969,2011..2147,2436..2470,',\n",
       "  '                     2723..2813,2920..3053,3230..3337,3733..3800,3953..4418))'],\n",
       " 'location': [<cogent3.parse.genbank.Location at 0x7fb019bfd930>,\n",
       "  <cogent3.parse.genbank.Location at 0x7fb019bfd8a0>,\n",
       "  <cogent3.parse.genbank.Location at 0x7fb019bfd810>,\n",
       "  <cogent3.parse.genbank.Location at 0x7fb019bfd780>,\n",
       "  <cogent3.parse.genbank.Location at 0x7fb019bfd6f0>,\n",
       "  <cogent3.parse.genbank.Location at 0x7fb019bfd660>,\n",
       "  <cogent3.parse.genbank.Location at 0x7fb019bfd5d0>,\n",
       "  <cogent3.parse.genbank.Location at 0x7fb019bfd540>],\n",
       " 'locus_tag': ['BU15DRAFT_57801'],\n",
       " 'codon_start': ['1'],\n",
       " 'product': ['hypothetical protein'],\n",
       " 'protein_id': ['KAF9246831.1'],\n",
       " 'db_xref': ['JGIDB:Melbro1_57801'],\n",
       " 'translation': ['MTPRVANWNRMPTAAGVRRRKDRFSRAASTKGMMDSTATMVSTSASKGQEDGSMSAWKKETMPQMILSASGLFVYGRRKGPKTSGWGQKRGGRVQSKRVGSKVNARGGGRTGSDNDQCTDLKDLVATDVSQAPGPCITPKPMSHLKTEKRMGGVQMGWLCATRRGGYLLIVMGATLYHTRGYPSQVTSRVHIHEPVSGPLPVEGGTGIPRVWVWIVLYTYVSDPRVYPSRVTSWVHIREPFSRPLPVERVRVFRGYGYGYTPAIAYVHQQNHMGLASPVQVPQVPTGPQYVQYICMRAAAIACGAFEAQWLVRGAHGSFAVQVAYFEVSGSVTTRVVFLKREWLVRGIRQRDRASGVFEARVVLLKREWLVRGANGSFAVQVAYFEASGSVIARVVFLKCERLVRGANGLFEVRTARSQCNGLFRGWVIH']}"
      ]
     },
     "execution_count": 30,
     "metadata": {},
     "output_type": "execute_result"
    }
   ],
   "source": [
    "feature"
   ]
  },
  {
   "cell_type": "code",
   "execution_count": 32,
   "metadata": {},
   "outputs": [
    {
     "data": {
      "text/plain": [
       "'join(complement(3953..4418),complement(3733..3800),complement(3230..3337),complement(2920..3053),complement(2723..2813),complement(2436..2470),complement(2011..2147),complement(1716..1969))'"
      ]
     },
     "execution_count": 32,
     "metadata": {},
     "output_type": "execute_result"
    }
   ],
   "source": [
    "feature[\"location\"].__str__()"
   ]
  },
  {
   "cell_type": "code",
   "execution_count": 34,
   "metadata": {},
   "outputs": [
    {
     "data": {
      "text/plain": [
       "[(3953, 4418),\n",
       " (3733, 3800),\n",
       " (3230, 3337),\n",
       " (2920, 3053),\n",
       " (2723, 2813),\n",
       " (2436, 2470),\n",
       " (2011, 2147),\n",
       " (1716, 1969)]"
      ]
     },
     "execution_count": 34,
     "metadata": {},
     "output_type": "execute_result"
    }
   ],
   "source": [
    "[(f.first(), f.last()) for f in feature[\"location\"]]"
   ]
  },
  {
   "cell_type": "code",
   "execution_count": 3,
   "metadata": {},
   "outputs": [
    {
     "data": {
      "text/plain": [
       "{'type': 'CDS',\n",
       " 'raw_location': ['complement(join(1716..1969,2011..2147,2436..2470,',\n",
       "  '                     2723..2813,2920..3053,3230..3337,3733..3800,3953..4418))'],\n",
       " 'location': [<cogent3.parse.genbank.Location at 0x7fb019bfd930>,\n",
       "  <cogent3.parse.genbank.Location at 0x7fb019bfd8a0>,\n",
       "  <cogent3.parse.genbank.Location at 0x7fb019bfd810>,\n",
       "  <cogent3.parse.genbank.Location at 0x7fb019bfd780>,\n",
       "  <cogent3.parse.genbank.Location at 0x7fb019bfd6f0>,\n",
       "  <cogent3.parse.genbank.Location at 0x7fb019bfd660>,\n",
       "  <cogent3.parse.genbank.Location at 0x7fb019bfd5d0>,\n",
       "  <cogent3.parse.genbank.Location at 0x7fb019bfd540>],\n",
       " 'locus_tag': ['BU15DRAFT_57801'],\n",
       " 'codon_start': ['1'],\n",
       " 'product': ['hypothetical protein'],\n",
       " 'protein_id': ['KAF9246831.1'],\n",
       " 'db_xref': ['JGIDB:Melbro1_57801'],\n",
       " 'translation': ['MTPRVANWNRMPTAAGVRRRKDRFSRAASTKGMMDSTATMVSTSASKGQEDGSMSAWKKETMPQMILSASGLFVYGRRKGPKTSGWGQKRGGRVQSKRVGSKVNARGGGRTGSDNDQCTDLKDLVATDVSQAPGPCITPKPMSHLKTEKRMGGVQMGWLCATRRGGYLLIVMGATLYHTRGYPSQVTSRVHIHEPVSGPLPVEGGTGIPRVWVWIVLYTYVSDPRVYPSRVTSWVHIREPFSRPLPVERVRVFRGYGYGYTPAIAYVHQQNHMGLASPVQVPQVPTGPQYVQYICMRAAAIACGAFEAQWLVRGAHGSFAVQVAYFEVSGSVTTRVVFLKREWLVRGIRQRDRASGVFEARVVLLKREWLVRGANGSFAVQVAYFEASGSVIARVVFLKCERLVRGANGLFEVRTARSQCNGLFRGWVIH']}"
      ]
     },
     "execution_count": 3,
     "metadata": {},
     "output_type": "execute_result"
    }
   ],
   "source": [
    "feature"
   ]
  },
  {
   "cell_type": "code",
   "execution_count": 7,
   "metadata": {},
   "outputs": [],
   "source": [
    "from cogent3.parse.genbank import LocationList\n",
    "\n",
    "\n",
    "lt = LocationList(feature[\"raw_location\"])"
   ]
  },
  {
   "cell_type": "code",
   "execution_count": 11,
   "metadata": {},
   "outputs": [
    {
     "ename": "TypeError",
     "evalue": "list.extend() takes exactly one argument (0 given)",
     "output_type": "error",
     "traceback": [
      "\u001b[0;31m---------------------------------------------------------------------------\u001b[0m",
      "\u001b[0;31mTypeError\u001b[0m                                 Traceback (most recent call last)",
      "\u001b[1;32m/Users/kiratalreja/repos/Cogent3/test_notebook.ipynb Cell 4\u001b[0m in \u001b[0;36m<cell line: 1>\u001b[0;34m()\u001b[0m\n\u001b[0;32m----> <a href='vscode-notebook-cell:/Users/kiratalreja/repos/Cogent3/test_notebook.ipynb#X20sZmlsZQ%3D%3D?line=0'>1</a>\u001b[0m lt\u001b[39m.\u001b[39;49mextend()\n",
      "\u001b[0;31mTypeError\u001b[0m: list.extend() takes exactly one argument (0 given)"
     ]
    }
   ],
   "source": [
    "lt."
   ]
  },
  {
   "cell_type": "code",
   "execution_count": 8,
   "metadata": {},
   "outputs": [],
   "source": [
    "def fetch_from_featuredict(feature):\n",
    "    start,end = [(f.first(), f.last()) for f in feature[\"location\"]][0]\n",
    "    location = feature[\"location\"].strand()\n",
    "    return [feature['type'],start,end,location,feature['gene'][0], feature['locus_tag'][0],\n",
    "             feature['gene_synonym'],feature['db_xref']]"
   ]
  },
  {
   "cell_type": "code",
   "execution_count": 28,
   "metadata": {},
   "outputs": [
    {
     "data": {
      "text/plain": [
       "{'type': 'CDS',\n",
       " 'raw_location': ['190..255'],\n",
       " 'location': [<cogent3.parse.genbank.Location at 0x7f8858e8e410>],\n",
       " 'gene': ['thrL'],\n",
       " 'locus_tag': ['b0001'],\n",
       " 'gene_synonym': ['ECK0001'],\n",
       " 'codon_start': ['1'],\n",
       " 'transl_table': ['11'],\n",
       " 'product': ['thr operon leader peptide'],\n",
       " 'protein_id': ['NP_414542.1'],\n",
       " 'db_xref': ['UniProtKB/Swiss-Prot:P0AD86',\n",
       "  'ASAP:ABE-0000006',\n",
       "  'ECOCYC:EG11277',\n",
       "  'GeneID:944742'],\n",
       " 'translation': ['MKRISTTITTTITITTGNGAG']}"
      ]
     },
     "execution_count": 28,
     "metadata": {},
     "output_type": "execute_result"
    }
   ],
   "source": [
    "record['features'][2]"
   ]
  },
  {
   "cell_type": "code",
   "execution_count": 29,
   "metadata": {},
   "outputs": [
    {
     "data": {
      "text/plain": [
       "{'type': 'gene',\n",
       " 'raw_location': ['337..2799'],\n",
       " 'location': [<cogent3.parse.genbank.Location at 0x7f8858e8e350>],\n",
       " 'gene': ['thrA'],\n",
       " 'locus_tag': ['b0002'],\n",
       " 'gene_synonym': ['ECK0002; Hs; thrA1; thrA2; thrD'],\n",
       " 'db_xref': ['ASAP:ABE-0000008', 'ECOCYC:EG10998', 'GeneID:945803']}"
      ]
     },
     "execution_count": 29,
     "metadata": {},
     "output_type": "execute_result"
    }
   ],
   "source": [
    "record['features'][3]"
   ]
  },
  {
   "cell_type": "code",
   "execution_count": 17,
   "metadata": {},
   "outputs": [
    {
     "ename": "KeyError",
     "evalue": "'gene'",
     "output_type": "error",
     "traceback": [
      "\u001b[0;31m---------------------------------------------------------------------------\u001b[0m",
      "\u001b[0;31mKeyError\u001b[0m                                  Traceback (most recent call last)",
      "\u001b[1;32m/Users/kiratalreja/repos/Cogent3/test_notebook.ipynb Cell 4\u001b[0m in \u001b[0;36m<cell line: 2>\u001b[0;34m()\u001b[0m\n\u001b[1;32m      <a href='vscode-notebook-cell:/Users/kiratalreja/repos/Cogent3/test_notebook.ipynb#W2sZmlsZQ%3D%3D?line=1'>2</a>\u001b[0m \u001b[39mfor\u001b[39;00m feature \u001b[39min\u001b[39;00m record[\u001b[39m'\u001b[39m\u001b[39mfeatures\u001b[39m\u001b[39m'\u001b[39m][\u001b[39m1\u001b[39m:]:\n\u001b[1;32m      <a href='vscode-notebook-cell:/Users/kiratalreja/repos/Cogent3/test_notebook.ipynb#W2sZmlsZQ%3D%3D?line=2'>3</a>\u001b[0m     i \u001b[39m=\u001b[39m i \u001b[39m+\u001b[39m \u001b[39m1\u001b[39m\n\u001b[0;32m----> <a href='vscode-notebook-cell:/Users/kiratalreja/repos/Cogent3/test_notebook.ipynb#W2sZmlsZQ%3D%3D?line=3'>4</a>\u001b[0m     fetch_from_featuredict(feature)\n",
      "\u001b[1;32m/Users/kiratalreja/repos/Cogent3/test_notebook.ipynb Cell 4\u001b[0m in \u001b[0;36mfetch_from_featuredict\u001b[0;34m(feature)\u001b[0m\n\u001b[1;32m      <a href='vscode-notebook-cell:/Users/kiratalreja/repos/Cogent3/test_notebook.ipynb#W2sZmlsZQ%3D%3D?line=1'>2</a>\u001b[0m start,end \u001b[39m=\u001b[39m [(f\u001b[39m.\u001b[39mfirst(), f\u001b[39m.\u001b[39mlast()) \u001b[39mfor\u001b[39;00m f \u001b[39min\u001b[39;00m feature[\u001b[39m\"\u001b[39m\u001b[39mlocation\u001b[39m\u001b[39m\"\u001b[39m]][\u001b[39m0\u001b[39m]\n\u001b[1;32m      <a href='vscode-notebook-cell:/Users/kiratalreja/repos/Cogent3/test_notebook.ipynb#W2sZmlsZQ%3D%3D?line=2'>3</a>\u001b[0m location \u001b[39m=\u001b[39m feature[\u001b[39m\"\u001b[39m\u001b[39mlocation\u001b[39m\u001b[39m\"\u001b[39m]\u001b[39m.\u001b[39mstrand()\n\u001b[0;32m----> <a href='vscode-notebook-cell:/Users/kiratalreja/repos/Cogent3/test_notebook.ipynb#W2sZmlsZQ%3D%3D?line=3'>4</a>\u001b[0m \u001b[39mreturn\u001b[39;00m [feature[\u001b[39m'\u001b[39m\u001b[39mtype\u001b[39m\u001b[39m'\u001b[39m],start,end,location,feature[\u001b[39m'\u001b[39;49m\u001b[39mgene\u001b[39;49m\u001b[39m'\u001b[39;49m][\u001b[39m0\u001b[39m], feature[\u001b[39m'\u001b[39m\u001b[39mlocus_tag\u001b[39m\u001b[39m'\u001b[39m][\u001b[39m0\u001b[39m],\n\u001b[1;32m      <a href='vscode-notebook-cell:/Users/kiratalreja/repos/Cogent3/test_notebook.ipynb#W2sZmlsZQ%3D%3D?line=4'>5</a>\u001b[0m          feature[\u001b[39m'\u001b[39m\u001b[39mgene_synonym\u001b[39m\u001b[39m'\u001b[39m],feature[\u001b[39m'\u001b[39m\u001b[39mdb_xref\u001b[39m\u001b[39m'\u001b[39m]]\n",
      "\u001b[0;31mKeyError\u001b[0m: 'gene'"
     ]
    }
   ],
   "source": [
    "i = 0\n",
    "for feature in record['features'][1:]:\n",
    "    i = i + 1\n",
    "    fetch_from_featuredict(feature)"
   ]
  },
  {
   "cell_type": "code",
   "execution_count": 18,
   "metadata": {},
   "outputs": [
    {
     "data": {
      "text/plain": [
       "31"
      ]
     },
     "execution_count": 18,
     "metadata": {},
     "output_type": "execute_result"
    }
   ],
   "source": [
    "i"
   ]
  },
  {
   "cell_type": "code",
   "execution_count": 27,
   "metadata": {},
   "outputs": [
    {
     "data": {
      "text/plain": [
       "7"
      ]
     },
     "execution_count": 27,
     "metadata": {},
     "output_type": "execute_result"
    }
   ],
   "source": [
    "len(list(record['features'][32].keys()))"
   ]
  },
  {
   "cell_type": "code",
   "execution_count": 26,
   "metadata": {},
   "outputs": [
    {
     "name": "stdout",
     "output_type": "stream",
     "text": [
      "true\n"
     ]
    }
   ],
   "source": [
    "if 'type' in list(record['features'][32].keys()):\n",
    "    print(\"true\")"
   ]
  },
  {
   "cell_type": "code",
   "execution_count": 1,
   "metadata": {},
   "outputs": [],
   "source": [
    "from cogent3.core.annotation import GenbankAnnotationDb"
   ]
  },
  {
   "cell_type": "code",
   "execution_count": 2,
   "metadata": {},
   "outputs": [],
   "source": [
    "gfobject =  GenbankAnnotationDb(\"/Users/kiratalreja/Downloads/GCA_014904935.1_Melbro1_genomic.gbff\")"
   ]
  },
  {
   "cell_type": "code",
   "execution_count": 3,
   "metadata": {},
   "outputs": [
    {
     "data": {
      "text/plain": [
       "[{'name': 'BU15DRAFT_57801', 'type': 'gene', 'spans': [[1716, 4418]]},\n",
       " {'name': 'BU15DRAFT_57801',\n",
       "  'type': 'mRNA',\n",
       "  'spans': [[3953, 4418],\n",
       "   [3733, 3800],\n",
       "   [3230, 3337],\n",
       "   [2920, 3053],\n",
       "   [2723, 2813],\n",
       "   [2436, 2470],\n",
       "   [2011, 2147],\n",
       "   [1716, 1969]]},\n",
       " {'name': 'BU15DRAFT_57801',\n",
       "  'type': 'CDS',\n",
       "  'spans': [[3953, 4418],\n",
       "   [3733, 3800],\n",
       "   [3230, 3337],\n",
       "   [2920, 3053],\n",
       "   [2723, 2813],\n",
       "   [2436, 2470],\n",
       "   [2011, 2147],\n",
       "   [1716, 1969]]}]"
      ]
     },
     "execution_count": 3,
     "metadata": {},
     "output_type": "execute_result"
    }
   ],
   "source": [
    "gfobject.find_records(identifier='BU15DRAFT_57801')"
   ]
  },
  {
   "cell_type": "code",
   "execution_count": 4,
   "metadata": {},
   "outputs": [
    {
     "data": {
      "text/plain": [
       "'helloCDS'"
      ]
     },
     "execution_count": 4,
     "metadata": {},
     "output_type": "execute_result"
    }
   ],
   "source": [
    "'hello'+'CDS'"
   ]
  },
  {
   "cell_type": "code",
   "execution_count": 1,
   "metadata": {},
   "outputs": [
    {
     "ename": "ImportError",
     "evalue": "cannot import name 'GFF' from 'Bio' (/Users/kiratalreja/opt/anaconda3/envs/c310dev/lib/python3.10/site-packages/Bio/__init__.py)",
     "output_type": "error",
     "traceback": [
      "\u001b[0;31m---------------------------------------------------------------------------\u001b[0m",
      "\u001b[0;31mImportError\u001b[0m                               Traceback (most recent call last)",
      "\u001b[1;32m/Users/kiratalreja/repos/Cogent3/test_notebook.ipynb Cell 32\u001b[0m in \u001b[0;36m<cell line: 1>\u001b[0;34m()\u001b[0m\n\u001b[0;32m----> <a href='vscode-notebook-cell:/Users/kiratalreja/repos/Cogent3/test_notebook.ipynb#X43sZmlsZQ%3D%3D?line=0'>1</a>\u001b[0m \u001b[39mfrom\u001b[39;00m \u001b[39mBio\u001b[39;00m \u001b[39mimport\u001b[39;00m GFF\n\u001b[1;32m      <a href='vscode-notebook-cell:/Users/kiratalreja/repos/Cogent3/test_notebook.ipynb#X43sZmlsZQ%3D%3D?line=2'>3</a>\u001b[0m in_file \u001b[39m=\u001b[39m \u001b[39m\"\u001b[39m\u001b[39myour_file.gff\u001b[39m\u001b[39m\"\u001b[39m\n\u001b[1;32m      <a href='vscode-notebook-cell:/Users/kiratalreja/repos/Cogent3/test_notebook.ipynb#X43sZmlsZQ%3D%3D?line=4'>5</a>\u001b[0m in_handle \u001b[39m=\u001b[39m \u001b[39mopen\u001b[39m(in_file)\n",
      "\u001b[0;31mImportError\u001b[0m: cannot import name 'GFF' from 'Bio' (/Users/kiratalreja/opt/anaconda3/envs/c310dev/lib/python3.10/site-packages/Bio/__init__.py)"
     ]
    }
   ],
   "source": [
    "from Bio import GFF\n",
    "\n",
    "in_file = \"your_file.gff\"\n",
    "\n",
    "in_handle = open(in_file)\n",
    "for rec in GFF.parse(in_handle):\n",
    "    print(rec)\n",
    "in_handle.close()"
   ]
  }
 ],
 "metadata": {
  "kernelspec": {
   "display_name": "Python 3.10.0 ('c310dev')",
   "language": "python",
   "name": "python3"
  },
  "language_info": {
   "codemirror_mode": {
    "name": "ipython",
    "version": 3
   },
   "file_extension": ".py",
   "mimetype": "text/x-python",
   "name": "python",
   "nbconvert_exporter": "python",
   "pygments_lexer": "ipython3",
   "version": "3.10.0"
  },
  "orig_nbformat": 4,
  "vscode": {
   "interpreter": {
    "hash": "cdab2fb02dc4d68ed9e9d327e285305822cd116f79900361a665d6985eb56184"
   }
  }
 },
 "nbformat": 4,
 "nbformat_minor": 2
}
